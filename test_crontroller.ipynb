{
 "cells": [
  {
   "cell_type": "code",
   "execution_count": 1,
   "id": "cbf808df-7a8c-4166-9a5a-0c3b5852ded1",
   "metadata": {},
   "outputs": [],
   "source": [
    "from model.rec_model import microgrid\n",
    "from controller import rule_controller"
   ]
  },
  {
   "cell_type": "code",
   "execution_count": 2,
   "id": "54bab0a2-1ada-43cf-8cd5-9b7b532d6c58",
   "metadata": {},
   "outputs": [],
   "source": [
    "# Configurar la microgrid previamente\n",
    "microgrid.setup('config/sample_setup.yaml')\n",
    "\n",
    "# Iniciar el controlador (se crea automáticamente la lista de prioridades)\n",
    "rule_controller.setup()"
   ]
  },
  {
   "cell_type": "code",
   "execution_count": 3,
   "id": "072a207f-c8f3-4f50-94d0-f461e2173d4e",
   "metadata": {},
   "outputs": [
    {
     "data": {
      "text/plain": [
       "[{'module': 'battery', 'index': 0, 'action': 0},\n",
       " {'module': 'grid', 'index': 0, 'action': 0}]"
      ]
     },
     "execution_count": 3,
     "metadata": {},
     "output_type": "execute_result"
    }
   ],
   "source": [
    "rule_controller.get_priority_list()"
   ]
  },
  {
   "cell_type": "code",
   "execution_count": 11,
   "id": "6a0cf05b-3a83-4228-b1b2-d404b2833c68",
   "metadata": {},
   "outputs": [
    {
     "data": {
      "text/plain": [
       "{'action': {'grid': [0.0], 'battery': [0.3999999999999999]},\n",
       " 'observation': {'load': [0.24999999999999994],\n",
       "  'grid': [array([0.10526316, 0.10526316, 0.        , 0.        ])],\n",
       "  'battery': [array([0.48105263, 0.48105263])],\n",
       "  'renewable': [0.8749999999999999],\n",
       "  'balancing': [array([], dtype=float64)]},\n",
       " 'reward': 0.0,\n",
       " 'done': False,\n",
       " 'info': {'load': [('absorbed_energy', 1.2)],\n",
       "  'grid': [('provided_energy', 0.0), ('co2_production', 0.0)],\n",
       "  'battery': [('provided_energy', 0.3999999999999999)],\n",
       "  'renewable': [('provided_energy', 0.8), ('curtailment', 0.0)],\n",
       "  'balancing': [('provided_energy', 0.0)]}}"
      ]
     },
     "execution_count": 11,
     "metadata": {},
     "output_type": "execute_result"
    }
   ],
   "source": [
    "# Ejecutar un paso\n",
    "rule_controller.step()"
   ]
  },
  {
   "cell_type": "code",
   "execution_count": 13,
   "id": "e50d77a8-9492-45fc-973e-4c65f515ae95",
   "metadata": {},
   "outputs": [
    {
     "data": {
      "text/plain": [
       "{'action': {'grid': [0.0], 'battery': [0.20000000000000007]},\n",
       " 'observation': {'load': [0.08333333333333323],\n",
       "  'grid': [array([0.15789474, 0.15789474, 0.        , 0.        ])],\n",
       "  'battery': [array([0.47684211, 0.47684211])],\n",
       "  'renewable': [0.5],\n",
       "  'balancing': [array([], dtype=float64)]},\n",
       " 'reward': 0.0,\n",
       " 'done': False,\n",
       " 'info': {'load': [('absorbed_energy', 0.9)],\n",
       "  'grid': [('provided_energy', 0.0), ('co2_production', 0.0)],\n",
       "  'battery': [('provided_energy', 0.20000000000000007)],\n",
       "  'renewable': [('provided_energy', 0.7), ('curtailment', 0.0)],\n",
       "  'balancing': [('provided_energy', 0.0)]}}"
      ]
     },
     "execution_count": 13,
     "metadata": {},
     "output_type": "execute_result"
    }
   ],
   "source": [
    "rule_controller.step()"
   ]
  },
  {
   "cell_type": "code",
   "execution_count": 15,
   "id": "bbacfe30-fca9-418a-9155-03d621dbf9e0",
   "metadata": {},
   "outputs": [
    {
     "data": {
      "text/plain": [
       "{'load': [{'load_current': -1.1}],\n",
       " 'renewable': [{'renewable_current': 0.4}],\n",
       " 'balancing': [{}],\n",
       " 'grid': [{'import_price_current': 0.23,\n",
       "   'export_price_current': 0.13,\n",
       "   'co2_per_kwh_current': 0.5,\n",
       "   'grid_status_current': 1.0}],\n",
       " 'battery': [{'soc': 0.4768421052631579,\n",
       "   'current_charge': 23.842105263157894}]}"
      ]
     },
     "execution_count": 15,
     "metadata": {},
     "output_type": "execute_result"
    }
   ],
   "source": [
    "microgrid.get_status()"
   ]
  }
 ],
 "metadata": {
  "kernelspec": {
   "display_name": "Python (rec)",
   "language": "python",
   "name": "rec"
  },
  "language_info": {
   "codemirror_mode": {
    "name": "ipython",
    "version": 3
   },
   "file_extension": ".py",
   "mimetype": "text/x-python",
   "name": "python",
   "nbconvert_exporter": "python",
   "pygments_lexer": "ipython3",
   "version": "3.12.4"
  }
 },
 "nbformat": 4,
 "nbformat_minor": 5
}
