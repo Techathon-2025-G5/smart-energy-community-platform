{
 "cells": [
  {
   "cell_type": "code",
   "execution_count": 1,
   "id": "cbf808df-7a8c-4166-9a5a-0c3b5852ded1",
   "metadata": {},
   "outputs": [],
   "source": [
    "from model.rec_model import microgrid\n",
    "from controller import rule_controller"
   ]
  },
  {
   "cell_type": "code",
   "execution_count": 2,
   "id": "54bab0a2-1ada-43cf-8cd5-9b7b532d6c58",
   "metadata": {},
   "outputs": [],
   "source": [
    "# Configurar la microgrid previamente\n",
    "microgrid.setup('config/sample_setup.yaml')\n",
    "\n",
    "# Iniciar el controlador (se crea automáticamente la lista de prioridades)\n",
    "rule_controller.setup()"
   ]
  },
  {
   "cell_type": "code",
   "execution_count": 5,
   "id": "072a207f-c8f3-4f50-94d0-f461e2173d4e",
   "metadata": {},
   "outputs": [
    {
     "data": {
      "text/plain": [
       "[{'module': 'battery', 'index': 0, 'action': 0},\n",
       " {'module': 'grid', 'index': 0, 'action': 0}]"
      ]
     },
     "execution_count": 5,
     "metadata": {},
     "output_type": "execute_result"
    }
   ],
   "source": [
    "rule_controller.get_priority_list()"
   ]
  },
  {
   "cell_type": "code",
   "execution_count": 7,
   "id": "6a0cf05b-3a83-4228-b1b2-d404b2833c68",
   "metadata": {},
   "outputs": [
    {
     "data": {
      "text/plain": [
       "{'action': {'grid': [18.83], 'battery': [9.5]},\n",
       " 'observation': {'load': [0.6634929657524513],\n",
       "  'grid': [array([0.68652038, 0.82188295, 0.32648313, 0.        ])],\n",
       "  'battery': [array([0.3, 0.3])],\n",
       "  'renewable': [0.0],\n",
       "  'balancing': [array([], dtype=float64)]},\n",
       " 'reward': -3.9881939999999996,\n",
       " 'done': False,\n",
       " 'info': {'load': [('absorbed_energy', 28.33)],\n",
       "  'grid': [('provided_energy', 18.83), ('co2_production', 4.854373999999999)],\n",
       "  'battery': [('provided_energy', 9.5)],\n",
       "  'renewable': [('provided_energy', -0.0), ('curtailment', 0.0)],\n",
       "  'balancing': [('provided_energy', 0.0)]}}"
      ]
     },
     "execution_count": 7,
     "metadata": {},
     "output_type": "execute_result"
    }
   ],
   "source": [
    "# Ejecutar un paso\n",
    "rule_controller.step()"
   ]
  },
  {
   "cell_type": "code",
   "execution_count": 9,
   "id": "e50d77a8-9492-45fc-973e-4c65f515ae95",
   "metadata": {},
   "outputs": [
    {
     "data": {
      "text/plain": [
       "{'action': {'grid': [14.18], 'battery': [9.5]},\n",
       " 'observation': {'load': [0.6397612619013784],\n",
       "  'grid': [array([0.69905956, 0.89694656, 0.25242342, 0.        ])],\n",
       "  'battery': [array([0.1, 0.1])],\n",
       "  'renewable': [0.0],\n",
       "  'balancing': [array([], dtype=float64)]},\n",
       " 'reward': -3.180574,\n",
       " 'done': False,\n",
       " 'info': {'load': [('absorbed_energy', 23.68)],\n",
       "  'grid': [('provided_energy', 14.18), ('co2_production', 3.6116459999999995)],\n",
       "  'battery': [('provided_energy', 9.5)],\n",
       "  'renewable': [('provided_energy', -0.0), ('curtailment', 0.0)],\n",
       "  'balancing': [('provided_energy', 0.0)]}}"
      ]
     },
     "execution_count": 9,
     "metadata": {},
     "output_type": "execute_result"
    }
   ],
   "source": [
    "rule_controller.step()"
   ]
  },
  {
   "cell_type": "code",
   "execution_count": 11,
   "id": "bbacfe30-fca9-418a-9155-03d621dbf9e0",
   "metadata": {},
   "outputs": [
    {
     "data": {
      "text/plain": [
       "{'load': [{'load_current': -25.35}],\n",
       " 'renewable': [{'renewable_current': 0}],\n",
       " 'balancing': [{}],\n",
       " 'grid': [{'import_price_current': 0.2259,\n",
       "   'export_price_current': 0.1306,\n",
       "   'co2_per_kwh_current': 0.2356,\n",
       "   'grid_status_current': 1.0}],\n",
       " 'battery': [{'soc': 0.1, 'current_charge': 5.0}]}"
      ]
     },
     "execution_count": 11,
     "metadata": {},
     "output_type": "execute_result"
    }
   ],
   "source": [
    "microgrid.get_status()"
   ]
  }
 ],
 "metadata": {
  "kernelspec": {
   "display_name": "Python (rec)",
   "language": "python",
   "name": "rec"
  },
  "language_info": {
   "codemirror_mode": {
    "name": "ipython",
    "version": 3
   },
   "file_extension": ".py",
   "mimetype": "text/x-python",
   "name": "python",
   "nbconvert_exporter": "python",
   "pygments_lexer": "ipython3",
   "version": "3.12.4"
  }
 },
 "nbformat": 4,
 "nbformat_minor": 5
}
