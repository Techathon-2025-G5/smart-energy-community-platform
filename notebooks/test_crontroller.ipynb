{
 "cells": [
  {
   "cell_type": "code",
   "execution_count": 3,
   "id": "acd092e3-114e-47e5-a28d-0cb00c3cfc8e",
   "metadata": {},
   "outputs": [],
   "source": [
    "import sys\n",
    "import os\n",
    "\n",
    "sys.path.append(os.path.abspath(os.path.join(os.getcwd(), \"..\")))"
   ]
  },
  {
   "cell_type": "code",
   "execution_count": 4,
   "id": "cbf808df-7a8c-4166-9a5a-0c3b5852ded1",
   "metadata": {},
   "outputs": [],
   "source": [
    "from model.rec_model import microgrid\n",
    "from controller import rule_controller"
   ]
  },
  {
   "cell_type": "code",
   "execution_count": 5,
   "id": "91c6ebae-361d-4408-ac06-78d05c5fe2cf",
   "metadata": {},
   "outputs": [],
   "source": [
    "setup = {\n",
    "  \"horizon\": 25,\n",
    "  \"timestep\": 1,\n",
    "  \"add_unbalanced_module\": True,\n",
    "  \"loss_load_cost\": 10,\n",
    "  \"overgeneration_cost\": 2,\n",
    "  \"components\": [\n",
    "    {\n",
    "      \"id\": \"3c03f396-98f2-46c7-945c-3c95408b6355\",\n",
    "      \"type\": \"LoadModule\",\n",
    "      \"params\": {\n",
    "        \"time_series_profile\": \"house\"\n",
    "      }\n",
    "    },\n",
    "    {\n",
    "      \"id\": \"32e548e7-8b69-49b6-b471-54908cd211d3\",\n",
    "      \"type\": \"RenewableModule\",\n",
    "      \"params\": {\n",
    "        \"time_series_profile\": \"solar_1\"\n",
    "      }\n",
    "    },\n",
    "    {\n",
    "      \"id\": \"ba34e364-9c4a-412f-9b3c-9068335d15d3\",\n",
    "      \"type\": \"BatteryModule\",\n",
    "      \"params\": {\n",
    "        \"min_capacity\": 0,\n",
    "        \"max_capacity\": 50,\n",
    "        \"max_charge\": 10,\n",
    "        \"max_discharge\": 10,\n",
    "        \"efficiency\": 0.95,\n",
    "        \"battery_cost_cycle\": 0,\n",
    "        \"init_soc\": 0.5\n",
    "      }\n",
    "    },\n",
    "    {\n",
    "      \"id\": \"ba34e364-9c4a-412f-9b3c-9068335d15d4\",\n",
    "      \"type\": \"BatteryModule\",\n",
    "      \"params\": {\n",
    "        \"min_capacity\": 0,\n",
    "        \"max_capacity\": 150,\n",
    "        \"max_charge\": 10,\n",
    "        \"max_discharge\": 10,\n",
    "        \"efficiency\": 0.95,\n",
    "        \"battery_cost_cycle\": 0,\n",
    "        \"init_soc\": 0.5\n",
    "      }\n",
    "    },\n",
    "    {\n",
    "      \"id\": \"4ba2cfa4-7323-4f0a-ac7f-fa73f1177e49\",\n",
    "      \"type\": \"GridModule\",\n",
    "      \"params\": {\n",
    "        \"max_import\": 100,\n",
    "        \"max_export\": 100,\n",
    "        \"cost_per_unit_co2\": 0,\n",
    "        \"time_series_profile\": \"grid_1\"\n",
    "      }\n",
    "    }\n",
    "  ]\n",
    "}"
   ]
  },
  {
   "cell_type": "code",
   "execution_count": 6,
   "id": "54bab0a2-1ada-43cf-8cd5-9b7b532d6c58",
   "metadata": {},
   "outputs": [],
   "source": [
    "# Configurar la microgrid previamente\n",
    "microgrid.setup(setup)\n",
    "\n",
    "# Iniciar el controlador (se crea automáticamente la lista de prioridades)\n",
    "rule_controller.setup()"
   ]
  },
  {
   "cell_type": "code",
   "execution_count": 7,
   "id": "56123bda-4e82-4c88-993a-bf9824c7a4ec",
   "metadata": {},
   "outputs": [
    {
     "data": {
      "text/plain": [
       "{'battery': [None, None], 'grid': [None]}"
      ]
     },
     "execution_count": 7,
     "metadata": {},
     "output_type": "execute_result"
    }
   ],
   "source": [
    "microgrid.get_actions()"
   ]
  },
  {
   "cell_type": "code",
   "execution_count": 8,
   "id": "072a207f-c8f3-4f50-94d0-f461e2173d4e",
   "metadata": {},
   "outputs": [
    {
     "data": {
      "text/plain": [
       "[PriorityListElement(module=('battery', 0), module_actions=1, action=0, marginal_cost=0),\n",
       " PriorityListElement(module=('battery', 1), module_actions=1, action=0, marginal_cost=0),\n",
       " PriorityListElement(module=('grid', 0), module_actions=1, action=0, marginal_cost=0.2118)]"
      ]
     },
     "execution_count": 8,
     "metadata": {},
     "output_type": "execute_result"
    }
   ],
   "source": [
    "rule_controller.rbc.priority_list"
   ]
  },
  {
   "cell_type": "code",
   "execution_count": 9,
   "id": "6a0cf05b-3a83-4228-b1b2-d404b2833c68",
   "metadata": {},
   "outputs": [
    {
     "data": {
      "text/plain": [
       "{'action': {'battery': [9.5, 9.5], 'grid': [9.329999999999998]},\n",
       " 'observation': {'load': [0.6634929657524513],\n",
       "  'battery': [array([0.3, 0.3]), array([0.43333333, 0.43333333])],\n",
       "  'grid': [array([0.68652038, 0.82188295, 0.32648313, 0.        ])],\n",
       "  'renewable': [0.0],\n",
       "  'balancing': [array([], dtype=float64)]},\n",
       " 'reward': -1.9760939999999996,\n",
       " 'done': False,\n",
       " 'info': {'load': [('absorbed_energy', 28.33)],\n",
       "  'battery': [('provided_energy', 9.5), ('provided_energy', 9.5)],\n",
       "  'grid': [('provided_energy', 9.329999999999998),\n",
       "   ('co2_production', 2.4052739999999995)],\n",
       "  'renewable': [('provided_energy', -0.0), ('curtailment', 0.0)],\n",
       "  'balancing': [('provided_energy', 0.0)]}}"
      ]
     },
     "execution_count": 9,
     "metadata": {},
     "output_type": "execute_result"
    }
   ],
   "source": [
    "# Ejecutar un paso\n",
    "rule_controller.step()"
   ]
  },
  {
   "cell_type": "code",
   "execution_count": 10,
   "id": "e50d77a8-9492-45fc-973e-4c65f515ae95",
   "metadata": {},
   "outputs": [
    {
     "data": {
      "text/plain": [
       "{'action': {'battery': [9.5, 9.5], 'grid': [4.68]},\n",
       " 'observation': {'load': [0.6397612619013784],\n",
       "  'battery': [array([0.1, 0.1]), array([0.36666667, 0.36666667])],\n",
       "  'grid': [array([0.69905956, 0.89694656, 0.25242342, 0.        ])],\n",
       "  'renewable': [0.0],\n",
       "  'balancing': [array([], dtype=float64)]},\n",
       " 'reward': -1.0497239999999999,\n",
       " 'done': False,\n",
       " 'info': {'load': [('absorbed_energy', 23.68)],\n",
       "  'battery': [('provided_energy', 9.5), ('provided_energy', 9.5)],\n",
       "  'grid': [('provided_energy', 4.68), ('co2_production', 1.1919959999999998)],\n",
       "  'renewable': [('provided_energy', -0.0), ('curtailment', 0.0)],\n",
       "  'balancing': [('provided_energy', 0.0)]}}"
      ]
     },
     "execution_count": 10,
     "metadata": {},
     "output_type": "execute_result"
    }
   ],
   "source": [
    "rule_controller.step()"
   ]
  },
  {
   "cell_type": "code",
   "execution_count": 11,
   "id": "bbacfe30-fca9-418a-9155-03d621dbf9e0",
   "metadata": {},
   "outputs": [
    {
     "data": {
      "text/plain": [
       "{'load': [{'load_current': -25.35}],\n",
       " 'renewable': [{'renewable_current': 0}],\n",
       " 'balancing': [{}],\n",
       " 'battery': [{'soc': 0.1, 'current_charge': 5.0},\n",
       "  {'soc': 0.36666666666666664, 'current_charge': 55.0}],\n",
       " 'grid': [{'import_price_current': 0.2259,\n",
       "   'export_price_current': 0.1306,\n",
       "   'co2_per_kwh_current': 0.2356,\n",
       "   'grid_status_current': 1.0}],\n",
       " 'total': [{'loads': -25.35, 'renewables': 0, 'batteries': 60.0}]}"
      ]
     },
     "execution_count": 11,
     "metadata": {},
     "output_type": "execute_result"
    }
   ],
   "source": [
    "microgrid.get_status()"
   ]
  },
  {
   "cell_type": "code",
   "execution_count": 12,
   "id": "c44fafaa-4a53-4926-9147-d91059b824f4",
   "metadata": {},
   "outputs": [
    {
     "data": {
      "text/plain": [
       "[{'id': 'load_0', 'type': 'LoadModule'},\n",
       " {'id': 'renewable_0', 'type': 'RenewableModule'},\n",
       " {'id': 'balancing_0', 'type': 'UnbalancedEnergyModule'},\n",
       " {'id': 'battery_0', 'type': 'BatteryModule'},\n",
       " {'id': 'battery_1', 'type': 'BatteryModule'},\n",
       " {'id': 'grid_0', 'type': 'GridModule'}]"
      ]
     },
     "execution_count": 12,
     "metadata": {},
     "output_type": "execute_result"
    }
   ],
   "source": [
    "microgrid.get_components()"
   ]
  },
  {
   "cell_type": "code",
   "execution_count": 13,
   "id": "396d5310-76b6-4498-8358-afc777c14fb7",
   "metadata": {},
   "outputs": [],
   "source": [
    "df = microgrid.get_log()"
   ]
  },
  {
   "cell_type": "code",
   "execution_count": 14,
   "id": "b49a3008-3dfd-4cbf-8542-7df6d00ea29a",
   "metadata": {},
   "outputs": [
    {
     "data": {
      "text/html": [
       "<div>\n",
       "<style scoped>\n",
       "    .dataframe tbody tr th:only-of-type {\n",
       "        vertical-align: middle;\n",
       "    }\n",
       "\n",
       "    .dataframe tbody tr th {\n",
       "        vertical-align: top;\n",
       "    }\n",
       "\n",
       "    .dataframe thead tr th {\n",
       "        text-align: left;\n",
       "    }\n",
       "</style>\n",
       "<table border=\"1\" class=\"dataframe\">\n",
       "  <thead>\n",
       "    <tr>\n",
       "      <th>module_name</th>\n",
       "      <th colspan=\"3\" halign=\"left\">load</th>\n",
       "      <th colspan=\"4\" halign=\"left\">renewable</th>\n",
       "      <th colspan=\"3\" halign=\"left\">balancing</th>\n",
       "      <th>...</th>\n",
       "      <th colspan=\"10\" halign=\"left\">totals</th>\n",
       "    </tr>\n",
       "    <tr>\n",
       "      <th>module_number</th>\n",
       "      <th colspan=\"3\" halign=\"left\">0</th>\n",
       "      <th colspan=\"4\" halign=\"left\">0</th>\n",
       "      <th colspan=\"3\" halign=\"left\">0</th>\n",
       "      <th>...</th>\n",
       "      <th colspan=\"3\" halign=\"left\">grid</th>\n",
       "      <th colspan=\"3\" halign=\"left\">load</th>\n",
       "      <th colspan=\"4\" halign=\"left\">renewable</th>\n",
       "    </tr>\n",
       "    <tr>\n",
       "      <th>field</th>\n",
       "      <th>reward</th>\n",
       "      <th>load_met</th>\n",
       "      <th>load_current</th>\n",
       "      <th>reward</th>\n",
       "      <th>curtailment</th>\n",
       "      <th>renewable_used</th>\n",
       "      <th>renewable_current</th>\n",
       "      <th>reward</th>\n",
       "      <th>loss_load</th>\n",
       "      <th>overgeneration</th>\n",
       "      <th>...</th>\n",
       "      <th>grid_status_current</th>\n",
       "      <th>import_price_current</th>\n",
       "      <th>reward</th>\n",
       "      <th>load_current</th>\n",
       "      <th>load_met</th>\n",
       "      <th>reward</th>\n",
       "      <th>curtailment</th>\n",
       "      <th>renewable_current</th>\n",
       "      <th>renewable_used</th>\n",
       "      <th>reward</th>\n",
       "    </tr>\n",
       "  </thead>\n",
       "  <tbody>\n",
       "    <tr>\n",
       "      <th>0</th>\n",
       "      <td>0.0</td>\n",
       "      <td>28.33</td>\n",
       "      <td>-28.33</td>\n",
       "      <td>0.0</td>\n",
       "      <td>0.0</td>\n",
       "      <td>-0.0</td>\n",
       "      <td>0</td>\n",
       "      <td>0</td>\n",
       "      <td>0.0</td>\n",
       "      <td>0.0</td>\n",
       "      <td>...</td>\n",
       "      <td>1.0</td>\n",
       "      <td>0.2118</td>\n",
       "      <td>-1.976094</td>\n",
       "      <td>-28.33</td>\n",
       "      <td>28.33</td>\n",
       "      <td>0.0</td>\n",
       "      <td>0.0</td>\n",
       "      <td>0.0</td>\n",
       "      <td>0.0</td>\n",
       "      <td>0.0</td>\n",
       "    </tr>\n",
       "    <tr>\n",
       "      <th>1</th>\n",
       "      <td>0.0</td>\n",
       "      <td>23.68</td>\n",
       "      <td>-23.68</td>\n",
       "      <td>0.0</td>\n",
       "      <td>0.0</td>\n",
       "      <td>-0.0</td>\n",
       "      <td>0</td>\n",
       "      <td>0</td>\n",
       "      <td>0.0</td>\n",
       "      <td>0.0</td>\n",
       "      <td>...</td>\n",
       "      <td>1.0</td>\n",
       "      <td>0.2243</td>\n",
       "      <td>-1.049724</td>\n",
       "      <td>-23.68</td>\n",
       "      <td>23.68</td>\n",
       "      <td>0.0</td>\n",
       "      <td>0.0</td>\n",
       "      <td>0.0</td>\n",
       "      <td>0.0</td>\n",
       "      <td>0.0</td>\n",
       "    </tr>\n",
       "  </tbody>\n",
       "</table>\n",
       "<p>2 rows × 71 columns</p>\n",
       "</div>"
      ],
      "text/plain": [
       "module_name     load                       renewable              \\\n",
       "module_number      0                               0               \n",
       "field         reward load_met load_current    reward curtailment   \n",
       "0                0.0    28.33       -28.33       0.0         0.0   \n",
       "1                0.0    23.68       -23.68       0.0         0.0   \n",
       "\n",
       "module_name                                    balancing            \\\n",
       "module_number                                          0             \n",
       "field         renewable_used renewable_current    reward loss_load   \n",
       "0                       -0.0                 0         0       0.0   \n",
       "1                       -0.0                 0         0       0.0   \n",
       "\n",
       "module_name                   ...              totals                       \\\n",
       "module_number                 ...                grid                        \n",
       "field         overgeneration  ... grid_status_current import_price_current   \n",
       "0                        0.0  ...                 1.0               0.2118   \n",
       "1                        0.0  ...                 1.0               0.2243   \n",
       "\n",
       "module_name                                                       \\\n",
       "module_number                   load                   renewable   \n",
       "field            reward load_current load_met reward curtailment   \n",
       "0             -1.976094       -28.33    28.33    0.0         0.0   \n",
       "1             -1.049724       -23.68    23.68    0.0         0.0   \n",
       "\n",
       "module_name                                            \n",
       "module_number                                          \n",
       "field         renewable_current renewable_used reward  \n",
       "0                           0.0            0.0    0.0  \n",
       "1                           0.0            0.0    0.0  \n",
       "\n",
       "[2 rows x 71 columns]"
      ]
     },
     "execution_count": 14,
     "metadata": {},
     "output_type": "execute_result"
    }
   ],
   "source": [
    "df"
   ]
  }
 ],
 "metadata": {
  "kernelspec": {
   "display_name": "Python (rec)",
   "language": "python",
   "name": "rec"
  },
  "language_info": {
   "codemirror_mode": {
    "name": "ipython",
    "version": 3
   },
   "file_extension": ".py",
   "mimetype": "text/x-python",
   "name": "python",
   "nbconvert_exporter": "python",
   "pygments_lexer": "ipython3",
   "version": "3.12.4"
  }
 },
 "nbformat": 4,
 "nbformat_minor": 5
}
