{
 "cells": [
  {
   "cell_type": "code",
   "execution_count": 1,
   "id": "6df7c4b5-e632-4f38-9bbe-899bf723c3ac",
   "metadata": {},
   "outputs": [],
   "source": [
    "import sys\n",
    "import os\n",
    "\n",
    "sys.path.append(os.path.abspath(os.path.join(os.getcwd(), \"..\")))"
   ]
  },
  {
   "cell_type": "code",
   "execution_count": 3,
   "id": "14d84a30-5d04-42fc-a528-a6d50873cbd7",
   "metadata": {},
   "outputs": [],
   "source": [
    "from model.rec_model import microgrid"
   ]
  },
  {
   "cell_type": "code",
   "execution_count": 4,
   "id": "0bdaf086-41cc-4c25-be27-f3b59ca46d4c",
   "metadata": {},
   "outputs": [],
   "source": [
    "CONFIG_PATH = os.path.join(\"..\", \"config\", \"sample_setup.yaml\")"
   ]
  },
  {
   "cell_type": "code",
   "execution_count": 7,
   "id": "9f3841dd-9498-41d7-95e9-616ccce0baff",
   "metadata": {},
   "outputs": [],
   "source": [
    "microgrid.setup(config=CONFIG_PATH)"
   ]
  },
  {
   "cell_type": "code",
   "execution_count": 9,
   "id": "bbd453dc-fb9f-44bc-a6fe-6926bc29a693",
   "metadata": {},
   "outputs": [
    {
     "data": {
      "text/plain": [
       "[{'id': 'load_0', 'type': 'LoadModule'},\n",
       " {'id': 'renewable_0', 'type': 'RenewableModule'},\n",
       " {'id': 'balancing_0', 'type': 'UnbalancedEnergyModule'},\n",
       " {'id': 'grid_0', 'type': 'GridModule'},\n",
       " {'id': 'battery_0', 'type': 'BatteryModule'},\n",
       " {'id': 'battery_1', 'type': 'BatteryModule'}]"
      ]
     },
     "execution_count": 9,
     "metadata": {},
     "output_type": "execute_result"
    }
   ],
   "source": [
    "microgrid.get_components()"
   ]
  },
  {
   "cell_type": "code",
   "execution_count": 11,
   "id": "0e65849b-67fc-462c-947d-d6b2e63b0cc0",
   "metadata": {},
   "outputs": [
    {
     "data": {
      "text/plain": [
       "{'grid': [None], 'battery': [None, None]}"
      ]
     },
     "execution_count": 11,
     "metadata": {},
     "output_type": "execute_result"
    }
   ],
   "source": [
    "microgrid.get_actions()"
   ]
  },
  {
   "cell_type": "code",
   "execution_count": 13,
   "id": "9e6e88ec-34bb-481f-9c63-eaaa6626be40",
   "metadata": {},
   "outputs": [],
   "source": [
    "microgrid.reset()"
   ]
  },
  {
   "cell_type": "code",
   "execution_count": 15,
   "id": "0797c9d0-7b73-48c1-abab-6403ca03ca92",
   "metadata": {
    "scrolled": true
   },
   "outputs": [
    {
     "data": {
      "text/plain": [
       "{'load': [{'load_current': -23.68}],\n",
       " 'renewable': [{'renewable_current': 0}],\n",
       " 'balancing': [{}],\n",
       " 'grid': [{'import_price_current': 0.2243,\n",
       "   'export_price_current': 0.1247,\n",
       "   'co2_per_kwh_current': 0.2547,\n",
       "   'grid_status_current': 1.0}],\n",
       " 'battery': [{'soc': 0.5, 'current_charge': 25.0},\n",
       "  {'soc': 0.5, 'current_charge': 50.0}],\n",
       " 'total': [{'loads': -23.68, 'renewables': 0, 'batteries': 75.0}]}"
      ]
     },
     "execution_count": 15,
     "metadata": {},
     "output_type": "execute_result"
    }
   ],
   "source": [
    "microgrid.get_status()"
   ]
  },
  {
   "cell_type": "code",
   "execution_count": 17,
   "id": "0506275f-3e31-4622-bdfa-416af591138b",
   "metadata": {},
   "outputs": [],
   "source": [
    "control = {\n",
    "    \"battery\" : [10.0, -10.0],\n",
    "    \"grid\": [100.0]\n",
    "}\n",
    "result = microgrid.run(control)"
   ]
  },
  {
   "cell_type": "code",
   "execution_count": 19,
   "id": "6b6c3f46-1b3a-4563-a179-2660d8b83ba2",
   "metadata": {},
   "outputs": [
    {
     "data": {
      "text/plain": [
       "{'observation': {'load': [0.6397612619013784],\n",
       "  'grid': [array([0.69905956, 0.89694656, 0.25242342, 0.        ])],\n",
       "  'battery': [array([0.3, 0.3]), array([0.595, 0.595])],\n",
       "  'renewable': [0.0],\n",
       "  'balancing': [array([], dtype=float64)]},\n",
       " 'reward': -174.07,\n",
       " 'done': False,\n",
       " 'info': {'load': [('absorbed_energy', 23.68)],\n",
       "  'grid': [('provided_energy', 100.0), ('co2_production', 25.47)],\n",
       "  'battery': [('provided_energy', 9.5), ('absorbed_energy', 10.0)],\n",
       "  'renewable': [('provided_energy', 0.0), ('curtailment', 0.0)],\n",
       "  'balancing': [('absorbed_energy', 75.82)]}}"
      ]
     },
     "execution_count": 19,
     "metadata": {},
     "output_type": "execute_result"
    }
   ],
   "source": [
    "result"
   ]
  },
  {
   "cell_type": "code",
   "execution_count": 21,
   "id": "e3aaa922-b399-4833-81c0-07cab050a309",
   "metadata": {},
   "outputs": [
    {
     "data": {
      "text/plain": [
       "{'load': [{'load_current': -25.35}],\n",
       " 'renewable': [{'renewable_current': 0}],\n",
       " 'balancing': [{}],\n",
       " 'grid': [{'import_price_current': 0.2259,\n",
       "   'export_price_current': 0.1306,\n",
       "   'co2_per_kwh_current': 0.2356,\n",
       "   'grid_status_current': 1.0}],\n",
       " 'battery': [{'soc': 0.3, 'current_charge': 15.0},\n",
       "  {'soc': 0.595, 'current_charge': 59.5}],\n",
       " 'total': [{'loads': -25.35, 'renewables': 0, 'batteries': 74.5}]}"
      ]
     },
     "execution_count": 21,
     "metadata": {},
     "output_type": "execute_result"
    }
   ],
   "source": [
    "microgrid.get_status()"
   ]
  },
  {
   "cell_type": "code",
   "execution_count": 23,
   "id": "f85cd8aa-499b-42a0-8550-9baef88b03b8",
   "metadata": {},
   "outputs": [],
   "source": [
    "df = microgrid.get_log()"
   ]
  },
  {
   "cell_type": "code",
   "execution_count": 25,
   "id": "e80afbed-14ef-437f-9b8c-d0eb630a8fe7",
   "metadata": {},
   "outputs": [
    {
     "data": {
      "text/html": [
       "<div>\n",
       "<style scoped>\n",
       "    .dataframe tbody tr th:only-of-type {\n",
       "        vertical-align: middle;\n",
       "    }\n",
       "\n",
       "    .dataframe tbody tr th {\n",
       "        vertical-align: top;\n",
       "    }\n",
       "\n",
       "    .dataframe thead tr th {\n",
       "        text-align: left;\n",
       "    }\n",
       "</style>\n",
       "<table border=\"1\" class=\"dataframe\">\n",
       "  <thead>\n",
       "    <tr>\n",
       "      <th>module_number</th>\n",
       "      <th colspan=\"5\" halign=\"left\">0</th>\n",
       "      <th colspan=\"5\" halign=\"left\">1</th>\n",
       "      <th colspan=\"2\" halign=\"left\">0</th>\n",
       "      <th colspan=\"2\" halign=\"left\">1</th>\n",
       "    </tr>\n",
       "    <tr>\n",
       "      <th>field</th>\n",
       "      <th>reward</th>\n",
       "      <th>discharge_amount</th>\n",
       "      <th>charge_amount</th>\n",
       "      <th>soc</th>\n",
       "      <th>current_charge</th>\n",
       "      <th>reward</th>\n",
       "      <th>discharge_amount</th>\n",
       "      <th>charge_amount</th>\n",
       "      <th>soc</th>\n",
       "      <th>current_charge</th>\n",
       "      <th>cycle_cost</th>\n",
       "      <th>charge_variation</th>\n",
       "      <th>cycle_cost</th>\n",
       "      <th>charge_variation</th>\n",
       "    </tr>\n",
       "  </thead>\n",
       "  <tbody>\n",
       "    <tr>\n",
       "      <th>0</th>\n",
       "      <td>-0.0</td>\n",
       "      <td>9.5</td>\n",
       "      <td>0.0</td>\n",
       "      <td>0.3</td>\n",
       "      <td>15.0</td>\n",
       "      <td>-0.0</td>\n",
       "      <td>0.0</td>\n",
       "      <td>10.0</td>\n",
       "      <td>0.595</td>\n",
       "      <td>59.5</td>\n",
       "      <td>0.0</td>\n",
       "      <td>-10.0</td>\n",
       "      <td>0.0</td>\n",
       "      <td>9.5</td>\n",
       "    </tr>\n",
       "  </tbody>\n",
       "</table>\n",
       "</div>"
      ],
      "text/plain": [
       "module_number      0                                                     \\\n",
       "field         reward discharge_amount charge_amount  soc current_charge   \n",
       "0               -0.0              9.5           0.0  0.3           15.0   \n",
       "\n",
       "module_number      1                                                       \\\n",
       "field         reward discharge_amount charge_amount    soc current_charge   \n",
       "0               -0.0              0.0          10.0  0.595           59.5   \n",
       "\n",
       "module_number          0                           1                   \n",
       "field         cycle_cost charge_variation cycle_cost charge_variation  \n",
       "0                    0.0            -10.0        0.0              9.5  "
      ]
     },
     "metadata": {},
     "output_type": "display_data"
    }
   ],
   "source": [
    "display(df['battery'])"
   ]
  },
  {
   "cell_type": "code",
   "execution_count": 27,
   "id": "f0f06064-3c86-4b04-a494-628e11d27381",
   "metadata": {},
   "outputs": [
    {
     "data": {
      "text/plain": [
       "MultiIndex([(     'load',           0,                               'reward'),\n",
       "            (     'load',           0,                             'load_met'),\n",
       "            (     'load',           0,                         'load_current'),\n",
       "            ('renewable',           0,                               'reward'),\n",
       "            ('renewable',           0,                          'curtailment'),\n",
       "            ('renewable',           0,                       'renewable_used'),\n",
       "            ('renewable',           0,                    'renewable_current'),\n",
       "            ('balancing',           0,                               'reward'),\n",
       "            ('balancing',           0,                            'loss_load'),\n",
       "            ('balancing',           0,                       'overgeneration'),\n",
       "            (     'grid',           0,                               'reward'),\n",
       "            (     'grid',           0,                       'co2_production'),\n",
       "            (     'grid',           0,                          'grid_import'),\n",
       "            (     'grid',           0,                          'grid_export'),\n",
       "            (     'grid',           0,                 'import_price_current'),\n",
       "            (     'grid',           0,                 'export_price_current'),\n",
       "            (     'grid',           0,                  'co2_per_kwh_current'),\n",
       "            (     'grid',           0,                  'grid_status_current'),\n",
       "            (  'battery',           0,                               'reward'),\n",
       "            (  'battery',           0,                     'discharge_amount'),\n",
       "            (  'battery',           0,                        'charge_amount'),\n",
       "            (  'battery',           0,                                  'soc'),\n",
       "            (  'battery',           0,                       'current_charge'),\n",
       "            (  'battery',           1,                               'reward'),\n",
       "            (  'battery',           1,                     'discharge_amount'),\n",
       "            (  'battery',           1,                        'charge_amount'),\n",
       "            (  'battery',           1,                                  'soc'),\n",
       "            (  'battery',           1,                       'current_charge'),\n",
       "            (  'balance',           0,                               'reward'),\n",
       "            (  'balance',           0,        'overall_provided_to_microgrid'),\n",
       "            (  'balance',           0,      'overall_absorbed_from_microgrid'),\n",
       "            (  'balance',           0,   'controllable_provided_to_microgrid'),\n",
       "            (  'balance',           0, 'controllable_absorbed_from_microgrid'),\n",
       "            (  'balance',           0,          'fixed_provided_to_microgrid'),\n",
       "            (  'balance',           0,        'fixed_absorbed_from_microgrid'),\n",
       "            (     'grid',           0,                            'grid_earn'),\n",
       "            (     'grid',           0,                           'grid_spent'),\n",
       "            (     'grid',           0,                         'grid_balance'),\n",
       "            (  'battery',           0,                           'cycle_cost'),\n",
       "            (  'battery',           0,                     'charge_variation'),\n",
       "            (  'battery',           1,                           'cycle_cost'),\n",
       "            (  'battery',           1,                     'charge_variation'),\n",
       "            (   'totals',   'balance', 'controllable_absorbed_from_microgrid'),\n",
       "            (   'totals',   'balance',   'controllable_provided_to_microgrid'),\n",
       "            (   'totals',   'balance',        'fixed_absorbed_from_microgrid'),\n",
       "            (   'totals',   'balance',          'fixed_provided_to_microgrid'),\n",
       "            (   'totals',   'balance',      'overall_absorbed_from_microgrid'),\n",
       "            (   'totals',   'balance',        'overall_provided_to_microgrid'),\n",
       "            (   'totals',   'balance',                               'reward'),\n",
       "            (   'totals', 'balancing',                            'loss_load'),\n",
       "            (   'totals', 'balancing',                       'overgeneration'),\n",
       "            (   'totals', 'balancing',                               'reward'),\n",
       "            (   'totals',   'battery',                        'charge_amount'),\n",
       "            (   'totals',   'battery',                     'charge_variation'),\n",
       "            (   'totals',   'battery',                       'current_charge'),\n",
       "            (   'totals',   'battery',                           'cycle_cost'),\n",
       "            (   'totals',   'battery',                     'discharge_amount'),\n",
       "            (   'totals',   'battery',                               'reward'),\n",
       "            (   'totals',   'battery',                                  'soc'),\n",
       "            (   'totals',      'grid',                  'co2_per_kwh_current'),\n",
       "            (   'totals',      'grid',                       'co2_production'),\n",
       "            (   'totals',      'grid',                 'export_price_current'),\n",
       "            (   'totals',      'grid',                         'grid_balance'),\n",
       "            (   'totals',      'grid',                            'grid_earn'),\n",
       "            (   'totals',      'grid',                          'grid_export'),\n",
       "            (   'totals',      'grid',                          'grid_import'),\n",
       "            (   'totals',      'grid',                           'grid_spent'),\n",
       "            (   'totals',      'grid',                  'grid_status_current'),\n",
       "            (   'totals',      'grid',                 'import_price_current'),\n",
       "            (   'totals',      'grid',                               'reward'),\n",
       "            (   'totals',      'load',                         'load_current'),\n",
       "            (   'totals',      'load',                             'load_met'),\n",
       "            (   'totals',      'load',                               'reward'),\n",
       "            (   'totals', 'renewable',                          'curtailment'),\n",
       "            (   'totals', 'renewable',                    'renewable_current'),\n",
       "            (   'totals', 'renewable',                       'renewable_used'),\n",
       "            (   'totals', 'renewable',                               'reward')],\n",
       "           names=['module_name', 'module_number', 'field'])"
      ]
     },
     "execution_count": 27,
     "metadata": {},
     "output_type": "execute_result"
    }
   ],
   "source": [
    "df.columns"
   ]
  },
  {
   "cell_type": "code",
   "execution_count": 29,
   "id": "de4939e4-d790-4b2f-82d7-c00378ef1724",
   "metadata": {},
   "outputs": [
    {
     "data": {
      "text/plain": [
       "BatteryModule(min_capacity=0, max_capacity=50, max_charge=10, max_discharge=10, efficiency=0.95, battery_cost_cycle=0, battery_transition_model=None, init_charge=None, init_soc=0.5, raise_errors=False)"
      ]
     },
     "execution_count": 29,
     "metadata": {},
     "output_type": "execute_result"
    }
   ],
   "source": [
    "microgrid.microgrid.modules['battery'][0]"
   ]
  },
  {
   "cell_type": "code",
   "execution_count": 31,
   "id": "84b9fa99-cd3c-40ed-9799-2f860295df21",
   "metadata": {},
   "outputs": [
    {
     "data": {
      "text/plain": [
       "{'observation': {'load': [0.6397612619013784],\n",
       "  'grid': [array([0.69905956, 0.89694656, 0.25242342, 0.        ])],\n",
       "  'battery': [array([0.3, 0.3]), array([0.595, 0.595])],\n",
       "  'renewable': [0.0],\n",
       "  'balancing': [array([], dtype=float64)]},\n",
       " 'reward': -174.07,\n",
       " 'done': False,\n",
       " 'info': {'load': [('absorbed_energy', 23.68)],\n",
       "  'grid': [('provided_energy', 100.0), ('co2_production', 25.47)],\n",
       "  'battery': [('provided_energy', 9.5), ('absorbed_energy', 10.0)],\n",
       "  'renewable': [('provided_energy', 0.0), ('curtailment', 0.0)],\n",
       "  'balancing': [('absorbed_energy', 75.82)]}}"
      ]
     },
     "execution_count": 31,
     "metadata": {},
     "output_type": "execute_result"
    }
   ],
   "source": [
    "result"
   ]
  },
  {
   "cell_type": "code",
   "execution_count": 33,
   "id": "e8a07f3e-dc25-48b4-ae6c-2d69b9a13d00",
   "metadata": {},
   "outputs": [
    {
     "data": {
      "text/plain": [
       "{'load': [{'load_current': -25.35}],\n",
       " 'renewable': [{'renewable_current': 0}],\n",
       " 'balancing': [{}],\n",
       " 'grid': [{'import_price_current': 0.2259,\n",
       "   'export_price_current': 0.1306,\n",
       "   'co2_per_kwh_current': 0.2356,\n",
       "   'grid_status_current': 1.0}],\n",
       " 'battery': [{'soc': 0.3, 'current_charge': 15.0},\n",
       "  {'soc': 0.595, 'current_charge': 59.5}],\n",
       " 'total': [{'loads': -25.35, 'renewables': 0, 'batteries': 74.5}]}"
      ]
     },
     "execution_count": 33,
     "metadata": {},
     "output_type": "execute_result"
    }
   ],
   "source": [
    "microgrid.get_status()"
   ]
  },
  {
   "cell_type": "code",
   "execution_count": 35,
   "id": "a6025188-6c15-478b-9c83-346c6858613f",
   "metadata": {},
   "outputs": [],
   "source": [
    "control = {\n",
    "    \"battery\" : [0.0],\n",
    "    \"grid\": [0.3]\n",
    "}\n",
    "result = microgrid.run(control)"
   ]
  },
  {
   "cell_type": "code",
   "execution_count": 37,
   "id": "71de1835-adda-481e-b17d-dc160621179b",
   "metadata": {},
   "outputs": [
    {
     "data": {
      "text/plain": [
       "{'observation': {'load': [0.6609350575529345],\n",
       "  'grid': [array([0.7468652 , 0.86005089, 0.13454827, 0.        ])],\n",
       "  'battery': [array([0.3, 0.3])],\n",
       "  'renewable': [0.0],\n",
       "  'balancing': [array([], dtype=float64)]},\n",
       " 'reward': -250.56777,\n",
       " 'done': False,\n",
       " 'info': {'load': [('absorbed_energy', 25.35)],\n",
       "  'grid': [('provided_energy', 0.3), ('co2_production', 0.07067999999999999)],\n",
       "  'battery': [('provided_energy', 0.0)],\n",
       "  'renewable': [('provided_energy', 0), ('curtailment', 0)],\n",
       "  'balancing': [('provided_energy', 25.05)]}}"
      ]
     },
     "execution_count": 37,
     "metadata": {},
     "output_type": "execute_result"
    }
   ],
   "source": [
    "result"
   ]
  },
  {
   "cell_type": "code",
   "execution_count": 39,
   "id": "7dee6090-1181-44ae-908c-2a2d577c03eb",
   "metadata": {},
   "outputs": [
    {
     "data": {
      "text/plain": [
       "{'load': [{'load_current': -23.86}],\n",
       " 'renewable': [{'renewable_current': 0}],\n",
       " 'balancing': [{}],\n",
       " 'grid': [{'import_price_current': 0.232,\n",
       "   'export_price_current': 0.1277,\n",
       "   'co2_per_kwh_current': 0.2052,\n",
       "   'grid_status_current': 1.0}],\n",
       " 'battery': [{'soc': 0.3, 'current_charge': 15.0},\n",
       "  {'soc': 0.595, 'current_charge': 59.5}],\n",
       " 'total': [{'loads': -23.86, 'renewables': 0, 'batteries': 74.5}]}"
      ]
     },
     "execution_count": 39,
     "metadata": {},
     "output_type": "execute_result"
    }
   ],
   "source": [
    "microgrid.get_status()"
   ]
  },
  {
   "cell_type": "code",
   "execution_count": 41,
   "id": "d40a7105-d3f4-4bbb-892a-2e1722c95530",
   "metadata": {},
   "outputs": [
    {
     "data": {
      "text/plain": [
       "{'observation': {'load': [0.47605513713230074],\n",
       "  'grid': [array([0.85109718, 0.82188295, 0.11477317, 0.        ])],\n",
       "  'battery': [array([0.28526316, 0.28526316])],\n",
       "  'renewable': [0.0],\n",
       "  'balancing': [array([], dtype=float64)]},\n",
       " 'reward': -231.6,\n",
       " 'done': False,\n",
       " 'info': {'load': [('absorbed_energy', 23.86)],\n",
       "  'grid': [('provided_energy', 0.0), ('co2_production', 0.0)],\n",
       "  'battery': [('provided_energy', 0.7)],\n",
       "  'renewable': [('provided_energy', 0), ('curtailment', 0)],\n",
       "  'balancing': [('provided_energy', 23.16)]}}"
      ]
     },
     "execution_count": 41,
     "metadata": {},
     "output_type": "execute_result"
    }
   ],
   "source": [
    "control = {\n",
    "    \"battery\" : [0.7],\n",
    "    \"grid\": [0.0]\n",
    "}\n",
    "result = microgrid.run(control)\n",
    "result"
   ]
  },
  {
   "cell_type": "code",
   "execution_count": 43,
   "id": "a4fbc140-8458-4fc6-8cec-4fd8ee5c1803",
   "metadata": {},
   "outputs": [
    {
     "data": {
      "text/plain": [
       "{'load': [{'load_current': -36.87}],\n",
       " 'renewable': [{'renewable_current': 0}],\n",
       " 'balancing': [{}],\n",
       " 'grid': [{'import_price_current': 0.2453,\n",
       "   'export_price_current': 0.1247,\n",
       "   'co2_per_kwh_current': 0.2001,\n",
       "   'grid_status_current': 1.0}],\n",
       " 'battery': [{'soc': 0.28526315789473683,\n",
       "   'current_charge': 14.263157894736842},\n",
       "  {'soc': 0.595, 'current_charge': 59.5}],\n",
       " 'total': [{'loads': -36.87, 'renewables': 0, 'batteries': 73.76315789473685}]}"
      ]
     },
     "execution_count": 43,
     "metadata": {},
     "output_type": "execute_result"
    }
   ],
   "source": [
    "microgrid.get_status()"
   ]
  },
  {
   "cell_type": "code",
   "execution_count": 45,
   "id": "340cc08a-4492-44a0-a5ff-5ba87b235a2d",
   "metadata": {},
   "outputs": [
    {
     "ename": "ValueError",
     "evalue": "All arrays must be of the same length",
     "output_type": "error",
     "traceback": [
      "\u001b[1;31m---------------------------------------------------------------------------\u001b[0m",
      "\u001b[1;31mValueError\u001b[0m                                Traceback (most recent call last)",
      "Cell \u001b[1;32mIn[45], line 1\u001b[0m\n\u001b[1;32m----> 1\u001b[0m log \u001b[38;5;241m=\u001b[39m microgrid\u001b[38;5;241m.\u001b[39mget_log()\n",
      "File \u001b[1;32m~\\Documents\\GitHub\\smart-energy-community-platform\\model\\rec_model.py:207\u001b[0m, in \u001b[0;36mMicrogridModel.get_log\u001b[1;34m(self, as_frame, drop_singleton_key)\u001b[0m\n\u001b[0;32m    204\u001b[0m     \u001b[38;5;28;01mreturn\u001b[39;00m {} \u001b[38;5;28;01mif\u001b[39;00m as_frame \u001b[38;5;28;01melse\u001b[39;00m {}\n\u001b[0;32m    206\u001b[0m \u001b[38;5;66;03m# Always get the log as a DataFrame so we can post-process it\u001b[39;00m\n\u001b[1;32m--> 207\u001b[0m df \u001b[38;5;241m=\u001b[39m \u001b[38;5;28mself\u001b[39m\u001b[38;5;241m.\u001b[39mmicrogrid\u001b[38;5;241m.\u001b[39mget_log(\n\u001b[0;32m    208\u001b[0m     as_frame\u001b[38;5;241m=\u001b[39m\u001b[38;5;28;01mTrue\u001b[39;00m, drop_singleton_key\u001b[38;5;241m=\u001b[39mdrop_singleton_key\n\u001b[0;32m    209\u001b[0m )\n\u001b[0;32m    210\u001b[0m df \u001b[38;5;241m=\u001b[39m \u001b[38;5;28mself\u001b[39m\u001b[38;5;241m.\u001b[39m_process_log(df)\n\u001b[0;32m    212\u001b[0m \u001b[38;5;28;01mif\u001b[39;00m as_frame:\n",
      "File \u001b[1;32mC:\\ProgramData\\anaconda3\\Lib\\site-packages\\pymgrid\\microgrid\\microgrid.py:395\u001b[0m, in \u001b[0;36mMicrogrid.get_log\u001b[1;34m(self, as_frame, drop_singleton_key)\u001b[0m\n\u001b[0;32m    391\u001b[0m     _log_dict[(key, \u001b[38;5;241m0\u001b[39m, \u001b[38;5;124m'\u001b[39m\u001b[38;5;124m'\u001b[39m)] \u001b[38;5;241m=\u001b[39m value\n\u001b[0;32m    393\u001b[0m col_names \u001b[38;5;241m=\u001b[39m [\u001b[38;5;124m'\u001b[39m\u001b[38;5;124mmodule_name\u001b[39m\u001b[38;5;124m'\u001b[39m, \u001b[38;5;124m'\u001b[39m\u001b[38;5;124mmodule_number\u001b[39m\u001b[38;5;124m'\u001b[39m, \u001b[38;5;124m'\u001b[39m\u001b[38;5;124mfield\u001b[39m\u001b[38;5;124m'\u001b[39m]\n\u001b[1;32m--> 395\u001b[0m df \u001b[38;5;241m=\u001b[39m pd\u001b[38;5;241m.\u001b[39mDataFrame(_log_dict)\n\u001b[0;32m    396\u001b[0m df\u001b[38;5;241m.\u001b[39mcolumns \u001b[38;5;241m=\u001b[39m pd\u001b[38;5;241m.\u001b[39mMultiIndex\u001b[38;5;241m.\u001b[39mfrom_tuples(df\u001b[38;5;241m.\u001b[39mcolumns\u001b[38;5;241m.\u001b[39mto_list(), names\u001b[38;5;241m=\u001b[39mcol_names)\n\u001b[0;32m    398\u001b[0m \u001b[38;5;28;01mif\u001b[39;00m drop_singleton_key:\n",
      "File \u001b[1;32mC:\\ProgramData\\anaconda3\\Lib\\site-packages\\pandas\\core\\frame.py:778\u001b[0m, in \u001b[0;36mDataFrame.__init__\u001b[1;34m(self, data, index, columns, dtype, copy)\u001b[0m\n\u001b[0;32m    772\u001b[0m     mgr \u001b[38;5;241m=\u001b[39m \u001b[38;5;28mself\u001b[39m\u001b[38;5;241m.\u001b[39m_init_mgr(\n\u001b[0;32m    773\u001b[0m         data, axes\u001b[38;5;241m=\u001b[39m{\u001b[38;5;124m\"\u001b[39m\u001b[38;5;124mindex\u001b[39m\u001b[38;5;124m\"\u001b[39m: index, \u001b[38;5;124m\"\u001b[39m\u001b[38;5;124mcolumns\u001b[39m\u001b[38;5;124m\"\u001b[39m: columns}, dtype\u001b[38;5;241m=\u001b[39mdtype, copy\u001b[38;5;241m=\u001b[39mcopy\n\u001b[0;32m    774\u001b[0m     )\n\u001b[0;32m    776\u001b[0m \u001b[38;5;28;01melif\u001b[39;00m \u001b[38;5;28misinstance\u001b[39m(data, \u001b[38;5;28mdict\u001b[39m):\n\u001b[0;32m    777\u001b[0m     \u001b[38;5;66;03m# GH#38939 de facto copy defaults to False only in non-dict cases\u001b[39;00m\n\u001b[1;32m--> 778\u001b[0m     mgr \u001b[38;5;241m=\u001b[39m dict_to_mgr(data, index, columns, dtype\u001b[38;5;241m=\u001b[39mdtype, copy\u001b[38;5;241m=\u001b[39mcopy, typ\u001b[38;5;241m=\u001b[39mmanager)\n\u001b[0;32m    779\u001b[0m \u001b[38;5;28;01melif\u001b[39;00m \u001b[38;5;28misinstance\u001b[39m(data, ma\u001b[38;5;241m.\u001b[39mMaskedArray):\n\u001b[0;32m    780\u001b[0m     \u001b[38;5;28;01mfrom\u001b[39;00m \u001b[38;5;21;01mnumpy\u001b[39;00m\u001b[38;5;21;01m.\u001b[39;00m\u001b[38;5;21;01mma\u001b[39;00m \u001b[38;5;28;01mimport\u001b[39;00m mrecords\n",
      "File \u001b[1;32mC:\\ProgramData\\anaconda3\\Lib\\site-packages\\pandas\\core\\internals\\construction.py:503\u001b[0m, in \u001b[0;36mdict_to_mgr\u001b[1;34m(data, index, columns, dtype, typ, copy)\u001b[0m\n\u001b[0;32m    499\u001b[0m     \u001b[38;5;28;01melse\u001b[39;00m:\n\u001b[0;32m    500\u001b[0m         \u001b[38;5;66;03m# dtype check to exclude e.g. range objects, scalars\u001b[39;00m\n\u001b[0;32m    501\u001b[0m         arrays \u001b[38;5;241m=\u001b[39m [x\u001b[38;5;241m.\u001b[39mcopy() \u001b[38;5;28;01mif\u001b[39;00m \u001b[38;5;28mhasattr\u001b[39m(x, \u001b[38;5;124m\"\u001b[39m\u001b[38;5;124mdtype\u001b[39m\u001b[38;5;124m\"\u001b[39m) \u001b[38;5;28;01melse\u001b[39;00m x \u001b[38;5;28;01mfor\u001b[39;00m x \u001b[38;5;129;01min\u001b[39;00m arrays]\n\u001b[1;32m--> 503\u001b[0m \u001b[38;5;28;01mreturn\u001b[39;00m arrays_to_mgr(arrays, columns, index, dtype\u001b[38;5;241m=\u001b[39mdtype, typ\u001b[38;5;241m=\u001b[39mtyp, consolidate\u001b[38;5;241m=\u001b[39mcopy)\n",
      "File \u001b[1;32mC:\\ProgramData\\anaconda3\\Lib\\site-packages\\pandas\\core\\internals\\construction.py:114\u001b[0m, in \u001b[0;36marrays_to_mgr\u001b[1;34m(arrays, columns, index, dtype, verify_integrity, typ, consolidate)\u001b[0m\n\u001b[0;32m    111\u001b[0m \u001b[38;5;28;01mif\u001b[39;00m verify_integrity:\n\u001b[0;32m    112\u001b[0m     \u001b[38;5;66;03m# figure out the index, if necessary\u001b[39;00m\n\u001b[0;32m    113\u001b[0m     \u001b[38;5;28;01mif\u001b[39;00m index \u001b[38;5;129;01mis\u001b[39;00m \u001b[38;5;28;01mNone\u001b[39;00m:\n\u001b[1;32m--> 114\u001b[0m         index \u001b[38;5;241m=\u001b[39m _extract_index(arrays)\n\u001b[0;32m    115\u001b[0m     \u001b[38;5;28;01melse\u001b[39;00m:\n\u001b[0;32m    116\u001b[0m         index \u001b[38;5;241m=\u001b[39m ensure_index(index)\n",
      "File \u001b[1;32mC:\\ProgramData\\anaconda3\\Lib\\site-packages\\pandas\\core\\internals\\construction.py:677\u001b[0m, in \u001b[0;36m_extract_index\u001b[1;34m(data)\u001b[0m\n\u001b[0;32m    675\u001b[0m lengths \u001b[38;5;241m=\u001b[39m \u001b[38;5;28mlist\u001b[39m(\u001b[38;5;28mset\u001b[39m(raw_lengths))\n\u001b[0;32m    676\u001b[0m \u001b[38;5;28;01mif\u001b[39;00m \u001b[38;5;28mlen\u001b[39m(lengths) \u001b[38;5;241m>\u001b[39m \u001b[38;5;241m1\u001b[39m:\n\u001b[1;32m--> 677\u001b[0m     \u001b[38;5;28;01mraise\u001b[39;00m \u001b[38;5;167;01mValueError\u001b[39;00m(\u001b[38;5;124m\"\u001b[39m\u001b[38;5;124mAll arrays must be of the same length\u001b[39m\u001b[38;5;124m\"\u001b[39m)\n\u001b[0;32m    679\u001b[0m \u001b[38;5;28;01mif\u001b[39;00m have_dicts:\n\u001b[0;32m    680\u001b[0m     \u001b[38;5;28;01mraise\u001b[39;00m \u001b[38;5;167;01mValueError\u001b[39;00m(\n\u001b[0;32m    681\u001b[0m         \u001b[38;5;124m\"\u001b[39m\u001b[38;5;124mMixing dicts with non-Series may lead to ambiguous ordering.\u001b[39m\u001b[38;5;124m\"\u001b[39m\n\u001b[0;32m    682\u001b[0m     )\n",
      "\u001b[1;31mValueError\u001b[0m: All arrays must be of the same length"
     ]
    }
   ],
   "source": [
    "log = microgrid.get_log()"
   ]
  },
  {
   "cell_type": "code",
   "execution_count": null,
   "id": "5d782d41-15ee-4f49-bf23-4a3735e09c23",
   "metadata": {},
   "outputs": [],
   "source": [
    "log[[('load', 0, 'load_met'),\n",
    "               ('renewable', 0, 'renewable_used'),\n",
    "               ('balancing', 0, 'loss_load')]].droplevel(axis=1, level=1).plot()"
   ]
  },
  {
   "cell_type": "code",
   "execution_count": 43,
   "id": "4f646ac4-3d1e-4b77-9ce7-a746db1847fd",
   "metadata": {},
   "outputs": [
    {
     "data": {
      "text/plain": [
       "{'grid': [None], 'battery': [None]}"
      ]
     },
     "execution_count": 43,
     "metadata": {},
     "output_type": "execute_result"
    }
   ],
   "source": [
    "microgrid.microgrid.get_empty_action()"
   ]
  },
  {
   "cell_type": "code",
   "execution_count": 51,
   "id": "39944959-a36d-4198-8752-6b97ef1010a6",
   "metadata": {},
   "outputs": [
    {
     "data": {
      "text/plain": [
       "100.0"
      ]
     },
     "execution_count": 51,
     "metadata": {},
     "output_type": "execute_result"
    }
   ],
   "source": [
    "microgrid.microgrid.modules.grid[0].max_act"
   ]
  },
  {
   "cell_type": "code",
   "execution_count": 53,
   "id": "0e9a6c89-6b2d-404a-b1ec-61562b1664dd",
   "metadata": {},
   "outputs": [
    {
     "data": {
      "text/plain": [
       "-100.0"
      ]
     },
     "execution_count": 53,
     "metadata": {},
     "output_type": "execute_result"
    }
   ],
   "source": [
    "microgrid.microgrid.modules.grid[0].min_act"
   ]
  },
  {
   "cell_type": "code",
   "execution_count": 63,
   "id": "ae976818-d0a3-4e64-b999-f29c15f2086e",
   "metadata": {},
   "outputs": [
    {
     "data": {
      "text/plain": [
       "9.5"
      ]
     },
     "execution_count": 63,
     "metadata": {},
     "output_type": "execute_result"
    }
   ],
   "source": [
    "microgrid.microgrid.modules.battery[0].max_act"
   ]
  },
  {
   "cell_type": "code",
   "execution_count": 65,
   "id": "ed54c645-4a2d-4d5b-91ff-0e82d2175872",
   "metadata": {},
   "outputs": [
    {
     "data": {
      "text/plain": [
       "-10.526315789473685"
      ]
     },
     "execution_count": 65,
     "metadata": {},
     "output_type": "execute_result"
    }
   ],
   "source": [
    "microgrid.microgrid.modules.battery[0].min_act"
   ]
  },
  {
   "cell_type": "code",
   "execution_count": 81,
   "id": "274d9095-a314-4d1b-9658-4b374f5fc87f",
   "metadata": {},
   "outputs": [
    {
     "data": {
      "text/plain": [
       "0.48526315789473684"
      ]
     },
     "execution_count": 81,
     "metadata": {},
     "output_type": "execute_result"
    }
   ],
   "source": [
    "soc = microgrid.microgrid.modules.battery[0].soc\n",
    "soc"
   ]
  },
  {
   "cell_type": "code",
   "execution_count": 87,
   "id": "96129afe-8070-4f76-8a43-dc2fb796fea4",
   "metadata": {},
   "outputs": [
    {
     "data": {
      "text/plain": [
       "0"
      ]
     },
     "execution_count": 87,
     "metadata": {},
     "output_type": "execute_result"
    }
   ],
   "source": [
    "min = microgrid.microgrid.modules.battery[0].min_capacity\n",
    "min"
   ]
  },
  {
   "cell_type": "code",
   "execution_count": 89,
   "id": "3ce727ca-890a-4b16-bffd-fabf4c7b577d",
   "metadata": {},
   "outputs": [
    {
     "data": {
      "text/plain": [
       "50"
      ]
     },
     "execution_count": 89,
     "metadata": {},
     "output_type": "execute_result"
    }
   ],
   "source": [
    "max = microgrid.microgrid.modules.battery[0].max_capacity\n",
    "max"
   ]
  },
  {
   "cell_type": "code",
   "execution_count": 95,
   "id": "a05c2818-4336-4ef8-8c78-fb76e8f8c299",
   "metadata": {},
   "outputs": [
    {
     "data": {
      "text/plain": [
       "10"
      ]
     },
     "execution_count": 95,
     "metadata": {},
     "output_type": "execute_result"
    }
   ],
   "source": [
    "max_chg = microgrid.microgrid.modules.battery[0].max_charge\n",
    "max_chg"
   ]
  },
  {
   "cell_type": "code",
   "execution_count": 97,
   "id": "3a11f8b6-fc60-4ebb-ae95-441a08d733c8",
   "metadata": {},
   "outputs": [
    {
     "data": {
      "text/plain": [
       "10"
      ]
     },
     "execution_count": 97,
     "metadata": {},
     "output_type": "execute_result"
    }
   ],
   "source": [
    "max_dchg = microgrid.microgrid.modules.battery[0].max_discharge\n",
    "max_dchg"
   ]
  },
  {
   "cell_type": "code",
   "execution_count": 101,
   "id": "b350c6de-e3dc-44dc-a561-a86c3b248bed",
   "metadata": {},
   "outputs": [
    {
     "data": {
      "text/plain": [
       "0.95"
      ]
     },
     "execution_count": 101,
     "metadata": {},
     "output_type": "execute_result"
    }
   ],
   "source": [
    "eff = microgrid.microgrid.modules.battery[0].efficiency\n",
    "eff"
   ]
  },
  {
   "cell_type": "code",
   "execution_count": 93,
   "id": "7b2b39ac-1fec-4cf4-830d-c8b131525329",
   "metadata": {},
   "outputs": [
    {
     "data": {
      "text/plain": [
       "25.736842105263158"
      ]
     },
     "execution_count": 93,
     "metadata": {},
     "output_type": "execute_result"
    }
   ],
   "source": [
    "max - soc * max"
   ]
  },
  {
   "cell_type": "code",
   "execution_count": 103,
   "id": "9eef46fd-aa4d-4c94-938f-70d3dc0bf8a9",
   "metadata": {},
   "outputs": [
    {
     "data": {
      "text/plain": [
       "10.526315789473685"
      ]
     },
     "execution_count": 103,
     "metadata": {},
     "output_type": "execute_result"
    }
   ],
   "source": [
    "max_dchg / eff"
   ]
  },
  {
   "cell_type": "code",
   "execution_count": 107,
   "id": "0a27c14e-027a-4984-a9e2-e7fc61a51733",
   "metadata": {},
   "outputs": [
    {
     "data": {
      "text/plain": [
       "9.5"
      ]
     },
     "execution_count": 107,
     "metadata": {},
     "output_type": "execute_result"
    }
   ],
   "source": [
    "max_chg * eff"
   ]
  }
 ],
 "metadata": {
  "kernelspec": {
   "display_name": "Python (rec)",
   "language": "python",
   "name": "rec"
  },
  "language_info": {
   "codemirror_mode": {
    "name": "ipython",
    "version": 3
   },
   "file_extension": ".py",
   "mimetype": "text/x-python",
   "name": "python",
   "nbconvert_exporter": "python",
   "pygments_lexer": "ipython3",
   "version": "3.12.4"
  }
 },
 "nbformat": 4,
 "nbformat_minor": 5
}
