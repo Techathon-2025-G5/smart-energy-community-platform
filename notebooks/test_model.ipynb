{
 "cells": [
  {
   "cell_type": "code",
   "execution_count": 1,
   "id": "6df7c4b5-e632-4f38-9bbe-899bf723c3ac",
   "metadata": {},
   "outputs": [],
   "source": [
    "import sys\n",
    "import os\n",
    "\n",
    "sys.path.append(os.path.abspath(os.path.join(os.getcwd(), \"..\")))"
   ]
  },
  {
   "cell_type": "code",
   "execution_count": 2,
   "id": "14d84a30-5d04-42fc-a528-a6d50873cbd7",
   "metadata": {},
   "outputs": [],
   "source": [
    "from rec_model import microgrid"
   ]
  },
  {
   "cell_type": "code",
   "execution_count": 4,
   "id": "0bdaf086-41cc-4c25-be27-f3b59ca46d4c",
   "metadata": {},
   "outputs": [],
   "source": [
    "CONFIG_PATH = os.path.join(\"..\", \"config\", \"sample_setup.yaml\")"
   ]
  },
  {
   "cell_type": "code",
   "execution_count": 5,
   "id": "9f3841dd-9498-41d7-95e9-616ccce0baff",
   "metadata": {},
   "outputs": [],
   "source": [
    "microgrid.setup(config=CONFIG_PATH)"
   ]
  },
  {
   "cell_type": "code",
   "execution_count": 9,
   "id": "bbd453dc-fb9f-44bc-a6fe-6926bc29a693",
   "metadata": {},
   "outputs": [
    {
     "data": {
      "text/plain": [
       "[{'id': 'load_0', 'type': 'LoadModule'},\n",
       " {'id': 'renewable_0', 'type': 'RenewableModule'},\n",
       " {'id': 'balancing_0', 'type': 'UnbalancedEnergyModule'},\n",
       " {'id': 'grid_0', 'type': 'GridModule'},\n",
       " {'id': 'battery_0', 'type': 'BatteryModule'},\n",
       " {'id': 'battery_1', 'type': 'BatteryModule'}]"
      ]
     },
     "execution_count": 9,
     "metadata": {},
     "output_type": "execute_result"
    }
   ],
   "source": [
    "microgrid.get_components()"
   ]
  },
  {
   "cell_type": "code",
   "execution_count": 11,
   "id": "0e65849b-67fc-462c-947d-d6b2e63b0cc0",
   "metadata": {},
   "outputs": [
    {
     "data": {
      "text/plain": [
       "{'grid': [None], 'battery': [None, None]}"
      ]
     },
     "execution_count": 11,
     "metadata": {},
     "output_type": "execute_result"
    }
   ],
   "source": [
    "microgrid.get_actions()"
   ]
  },
  {
   "cell_type": "code",
   "execution_count": 13,
   "id": "9e6e88ec-34bb-481f-9c63-eaaa6626be40",
   "metadata": {},
   "outputs": [],
   "source": [
    "microgrid.reset()"
   ]
  },
  {
   "cell_type": "code",
   "execution_count": 15,
   "id": "0797c9d0-7b73-48c1-abab-6403ca03ca92",
   "metadata": {
    "scrolled": true
   },
   "outputs": [
    {
     "data": {
      "text/plain": [
       "{'load': [{'load_current': -23.68}],\n",
       " 'renewable': [{'renewable_current': 0}],\n",
       " 'balancing': [{}],\n",
       " 'grid': [{'import_price_current': 0.2243,\n",
       "   'export_price_current': 0.1247,\n",
       "   'co2_per_kwh_current': 0.2547,\n",
       "   'grid_status_current': 1.0}],\n",
       " 'battery': [{'soc': 0.5, 'current_charge': 25.0},\n",
       "  {'soc': 0.5, 'current_charge': 50.0}]}"
      ]
     },
     "execution_count": 15,
     "metadata": {},
     "output_type": "execute_result"
    }
   ],
   "source": [
    "microgrid.get_status()"
   ]
  },
  {
   "cell_type": "code",
   "execution_count": 17,
   "id": "0506275f-3e31-4622-bdfa-416af591138b",
   "metadata": {},
   "outputs": [],
   "source": [
    "control = {\n",
    "    \"battery\" : [10.0, 10.0],\n",
    "    \"grid\": [3.0]\n",
    "}\n",
    "result = microgrid.run(control)"
   ]
  },
  {
   "cell_type": "code",
   "execution_count": 19,
   "id": "6b6c3f46-1b3a-4563-a179-2660d8b83ba2",
   "metadata": {},
   "outputs": [
    {
     "data": {
      "text/plain": [
       "{'observation': {'load': [0.6397612619013784],\n",
       "  'grid': [array([0.69905956, 0.89694656, 0.25242342, 0.        ])],\n",
       "  'battery': [array([0.3, 0.3]), array([0.4, 0.4])],\n",
       "  'renewable': [0.0],\n",
       "  'balancing': [array([], dtype=float64)]},\n",
       " 'reward': -17.472899999999996,\n",
       " 'done': False,\n",
       " 'info': {'load': [('absorbed_energy', 23.68)],\n",
       "  'grid': [('provided_energy', 3.0), ('co2_production', 0.7641)],\n",
       "  'battery': [('provided_energy', 9.5), ('provided_energy', 9.5)],\n",
       "  'renewable': [('provided_energy', 0), ('curtailment', 0)],\n",
       "  'balancing': [('provided_energy', 1.6799999999999997)]}}"
      ]
     },
     "execution_count": 19,
     "metadata": {},
     "output_type": "execute_result"
    }
   ],
   "source": [
    "result"
   ]
  },
  {
   "cell_type": "code",
   "execution_count": 21,
   "id": "e3aaa922-b399-4833-81c0-07cab050a309",
   "metadata": {},
   "outputs": [
    {
     "data": {
      "text/plain": [
       "{'load': [{'load_current': -25.35}],\n",
       " 'renewable': [{'renewable_current': 0}],\n",
       " 'balancing': [{}],\n",
       " 'grid': [{'import_price_current': 0.2259,\n",
       "   'export_price_current': 0.1306,\n",
       "   'co2_per_kwh_current': 0.2356,\n",
       "   'grid_status_current': 1.0}],\n",
       " 'battery': [{'soc': 0.3, 'current_charge': 15.0},\n",
       "  {'soc': 0.4, 'current_charge': 40.0}]}"
      ]
     },
     "execution_count": 21,
     "metadata": {},
     "output_type": "execute_result"
    }
   ],
   "source": [
    "microgrid.get_status()"
   ]
  },
  {
   "cell_type": "code",
   "execution_count": 9,
   "id": "388274b3-a451-41c9-aa23-4202ceaf3456",
   "metadata": {},
   "outputs": [
    {
     "data": {
      "text/plain": [
       "MultiIndex([(  'balance', 'controllable_absorbed_from_microgrid'),\n",
       "            (  'balance',   'controllable_provided_to_microgrid'),\n",
       "            (  'balance',        'fixed_absorbed_from_microgrid'),\n",
       "            (  'balance',          'fixed_provided_to_microgrid'),\n",
       "            (  'balance',      'overall_absorbed_from_microgrid'),\n",
       "            (  'balance',        'overall_provided_to_microgrid'),\n",
       "            (  'balance',                               'reward'),\n",
       "            ('balancing',                            'loss_load'),\n",
       "            ('balancing',                       'overgeneration'),\n",
       "            ('balancing',                               'reward'),\n",
       "            (  'battery',                        'charge_amount'),\n",
       "            (  'battery',                       'current_charge'),\n",
       "            (  'battery',                     'discharge_amount'),\n",
       "            (  'battery',                               'reward'),\n",
       "            (  'battery',                                  'soc'),\n",
       "            (     'grid',                  'co2_per_kwh_current'),\n",
       "            (     'grid',                       'co2_production'),\n",
       "            (     'grid',                 'export_price_current'),\n",
       "            (     'grid',                         'grid_balance'),\n",
       "            (     'grid',                            'grid_earn'),\n",
       "            (     'grid',                          'grid_export'),\n",
       "            (     'grid',                          'grid_import'),\n",
       "            (     'grid',                           'grid_spent'),\n",
       "            (     'grid',                  'grid_status_current'),\n",
       "            (     'grid',                 'import_price_current'),\n",
       "            (     'grid',                               'reward'),\n",
       "            (     'load',                         'load_current'),\n",
       "            (     'load',                             'load_met'),\n",
       "            (     'load',                               'reward'),\n",
       "            ('renewable',                          'curtailment'),\n",
       "            ('renewable',                    'renewable_current'),\n",
       "            ('renewable',                       'renewable_used'),\n",
       "            ('renewable',                               'reward')],\n",
       "           names=['module_number', 'field'])"
      ]
     },
     "execution_count": 9,
     "metadata": {},
     "output_type": "execute_result"
    }
   ],
   "source": [
    "microgrid.get_totals()['totals'].columns"
   ]
  },
  {
   "cell_type": "code",
   "execution_count": 10,
   "id": "f85cd8aa-499b-42a0-8550-9baef88b03b8",
   "metadata": {},
   "outputs": [],
   "source": [
    "df = microgrid.get_log()"
   ]
  },
  {
   "cell_type": "code",
   "execution_count": 11,
   "id": "f0f06064-3c86-4b04-a494-628e11d27381",
   "metadata": {},
   "outputs": [
    {
     "data": {
      "text/plain": [
       "MultiIndex([(     'load',           0,                               'reward'),\n",
       "            (     'load',           0,                             'load_met'),\n",
       "            (     'load',           0,                         'load_current'),\n",
       "            ('renewable',           0,                               'reward'),\n",
       "            ('renewable',           0,                          'curtailment'),\n",
       "            ('renewable',           0,                       'renewable_used'),\n",
       "            ('renewable',           0,                    'renewable_current'),\n",
       "            ('balancing',           0,                               'reward'),\n",
       "            ('balancing',           0,                            'loss_load'),\n",
       "            ('balancing',           0,                       'overgeneration'),\n",
       "            (     'grid',           0,                               'reward'),\n",
       "            (     'grid',           0,                       'co2_production'),\n",
       "            (     'grid',           0,                          'grid_import'),\n",
       "            (     'grid',           0,                          'grid_export'),\n",
       "            (     'grid',           0,                 'import_price_current'),\n",
       "            (     'grid',           0,                 'export_price_current'),\n",
       "            (     'grid',           0,                  'co2_per_kwh_current'),\n",
       "            (     'grid',           0,                  'grid_status_current'),\n",
       "            (  'battery',           0,                               'reward'),\n",
       "            (  'battery',           0,                     'discharge_amount'),\n",
       "            (  'battery',           0,                        'charge_amount'),\n",
       "            (  'battery',           0,                                  'soc'),\n",
       "            (  'battery',           0,                       'current_charge'),\n",
       "            (  'balance',           0,                               'reward'),\n",
       "            (  'balance',           0,        'overall_provided_to_microgrid'),\n",
       "            (  'balance',           0,      'overall_absorbed_from_microgrid'),\n",
       "            (  'balance',           0,   'controllable_provided_to_microgrid'),\n",
       "            (  'balance',           0, 'controllable_absorbed_from_microgrid'),\n",
       "            (  'balance',           0,          'fixed_provided_to_microgrid'),\n",
       "            (  'balance',           0,        'fixed_absorbed_from_microgrid'),\n",
       "            (     'grid',           0,                            'grid_earn'),\n",
       "            (     'grid',           0,                           'grid_spent'),\n",
       "            (     'grid',           0,                         'grid_balance'),\n",
       "            (   'totals',   'balance', 'controllable_absorbed_from_microgrid'),\n",
       "            (   'totals',   'balance',   'controllable_provided_to_microgrid'),\n",
       "            (   'totals',   'balance',        'fixed_absorbed_from_microgrid'),\n",
       "            (   'totals',   'balance',          'fixed_provided_to_microgrid'),\n",
       "            (   'totals',   'balance',      'overall_absorbed_from_microgrid'),\n",
       "            (   'totals',   'balance',        'overall_provided_to_microgrid'),\n",
       "            (   'totals',   'balance',                               'reward'),\n",
       "            (   'totals', 'balancing',                            'loss_load'),\n",
       "            (   'totals', 'balancing',                       'overgeneration'),\n",
       "            (   'totals', 'balancing',                               'reward'),\n",
       "            (   'totals',   'battery',                        'charge_amount'),\n",
       "            (   'totals',   'battery',                       'current_charge'),\n",
       "            (   'totals',   'battery',                     'discharge_amount'),\n",
       "            (   'totals',   'battery',                               'reward'),\n",
       "            (   'totals',   'battery',                                  'soc'),\n",
       "            (   'totals',      'grid',                  'co2_per_kwh_current'),\n",
       "            (   'totals',      'grid',                       'co2_production'),\n",
       "            (   'totals',      'grid',                 'export_price_current'),\n",
       "            (   'totals',      'grid',                         'grid_balance'),\n",
       "            (   'totals',      'grid',                            'grid_earn'),\n",
       "            (   'totals',      'grid',                          'grid_export'),\n",
       "            (   'totals',      'grid',                          'grid_import'),\n",
       "            (   'totals',      'grid',                           'grid_spent'),\n",
       "            (   'totals',      'grid',                  'grid_status_current'),\n",
       "            (   'totals',      'grid',                 'import_price_current'),\n",
       "            (   'totals',      'grid',                               'reward'),\n",
       "            (   'totals',      'load',                         'load_current'),\n",
       "            (   'totals',      'load',                             'load_met'),\n",
       "            (   'totals',      'load',                               'reward'),\n",
       "            (   'totals', 'renewable',                          'curtailment'),\n",
       "            (   'totals', 'renewable',                    'renewable_current'),\n",
       "            (   'totals', 'renewable',                       'renewable_used'),\n",
       "            (   'totals', 'renewable',                               'reward')],\n",
       "           names=['module_name', 'module_number', 'field'])"
      ]
     },
     "execution_count": 11,
     "metadata": {},
     "output_type": "execute_result"
    }
   ],
   "source": [
    "df.columns"
   ]
  },
  {
   "cell_type": "code",
   "execution_count": 12,
   "id": "84b9fa99-cd3c-40ed-9799-2f860295df21",
   "metadata": {},
   "outputs": [
    {
     "data": {
      "text/plain": [
       "{'observation': {'load': [0.6397612619013784],\n",
       "  'grid': [array([0.69905956, 0.89694656, 0.25242342, 0.        ])],\n",
       "  'battery': [array([0.5, 0.5])],\n",
       "  'renewable': [0.0],\n",
       "  'balancing': [array([], dtype=float64)]},\n",
       " 'reward': -236.8,\n",
       " 'done': False,\n",
       " 'info': {'load': [('absorbed_energy', 23.68)],\n",
       "  'grid': [('provided_energy', 0.0), ('co2_production', 0.0)],\n",
       "  'battery': [('provided_energy', 0.0)],\n",
       "  'renewable': [('provided_energy', 0), ('curtailment', 0)],\n",
       "  'balancing': [('provided_energy', 23.68)]}}"
      ]
     },
     "execution_count": 12,
     "metadata": {},
     "output_type": "execute_result"
    }
   ],
   "source": [
    "result"
   ]
  },
  {
   "cell_type": "code",
   "execution_count": 13,
   "id": "e8a07f3e-dc25-48b4-ae6c-2d69b9a13d00",
   "metadata": {},
   "outputs": [
    {
     "data": {
      "text/plain": [
       "{'load': [{'load_current': -25.35}],\n",
       " 'renewable': [{'renewable_current': 0}],\n",
       " 'balancing': [{}],\n",
       " 'grid': [{'import_price_current': 0.2259,\n",
       "   'export_price_current': 0.1306,\n",
       "   'co2_per_kwh_current': 0.2356,\n",
       "   'grid_status_current': 1.0}],\n",
       " 'battery': [{'soc': 0.5, 'current_charge': 25.0}]}"
      ]
     },
     "execution_count": 13,
     "metadata": {},
     "output_type": "execute_result"
    }
   ],
   "source": [
    "microgrid.get_status()"
   ]
  },
  {
   "cell_type": "code",
   "execution_count": 14,
   "id": "a6025188-6c15-478b-9c83-346c6858613f",
   "metadata": {},
   "outputs": [],
   "source": [
    "control = {\n",
    "    \"battery\" : [0.0],\n",
    "    \"grid\": [0.3]\n",
    "}\n",
    "result = microgrid.run(control)"
   ]
  },
  {
   "cell_type": "code",
   "execution_count": 15,
   "id": "71de1835-adda-481e-b17d-dc160621179b",
   "metadata": {},
   "outputs": [
    {
     "data": {
      "text/plain": [
       "{'observation': {'load': [0.6609350575529345],\n",
       "  'grid': [array([0.7468652 , 0.86005089, 0.13454827, 0.        ])],\n",
       "  'battery': [array([0.5, 0.5])],\n",
       "  'renewable': [0.0],\n",
       "  'balancing': [array([], dtype=float64)]},\n",
       " 'reward': -250.56777,\n",
       " 'done': False,\n",
       " 'info': {'load': [('absorbed_energy', 25.35)],\n",
       "  'grid': [('provided_energy', 0.3), ('co2_production', 0.07067999999999999)],\n",
       "  'battery': [('provided_energy', 0.0)],\n",
       "  'renewable': [('provided_energy', 0), ('curtailment', 0)],\n",
       "  'balancing': [('provided_energy', 25.05)]}}"
      ]
     },
     "execution_count": 15,
     "metadata": {},
     "output_type": "execute_result"
    }
   ],
   "source": [
    "result"
   ]
  },
  {
   "cell_type": "code",
   "execution_count": 16,
   "id": "7dee6090-1181-44ae-908c-2a2d577c03eb",
   "metadata": {},
   "outputs": [
    {
     "data": {
      "text/plain": [
       "{'load': [{'load_current': -23.86}],\n",
       " 'renewable': [{'renewable_current': 0}],\n",
       " 'balancing': [{}],\n",
       " 'grid': [{'import_price_current': 0.232,\n",
       "   'export_price_current': 0.1277,\n",
       "   'co2_per_kwh_current': 0.2052,\n",
       "   'grid_status_current': 1.0}],\n",
       " 'battery': [{'soc': 0.5, 'current_charge': 25.0}]}"
      ]
     },
     "execution_count": 16,
     "metadata": {},
     "output_type": "execute_result"
    }
   ],
   "source": [
    "microgrid.get_status()"
   ]
  },
  {
   "cell_type": "code",
   "execution_count": 17,
   "id": "d40a7105-d3f4-4bbb-892a-2e1722c95530",
   "metadata": {},
   "outputs": [
    {
     "data": {
      "text/plain": [
       "{'observation': {'load': [0.47605513713230074],\n",
       "  'grid': [array([0.85109718, 0.82188295, 0.11477317, 0.        ])],\n",
       "  'battery': [array([0.48526316, 0.48526316])],\n",
       "  'renewable': [0.0],\n",
       "  'balancing': [array([], dtype=float64)]},\n",
       " 'reward': -231.6,\n",
       " 'done': False,\n",
       " 'info': {'load': [('absorbed_energy', 23.86)],\n",
       "  'grid': [('provided_energy', 0.0), ('co2_production', 0.0)],\n",
       "  'battery': [('provided_energy', 0.7)],\n",
       "  'renewable': [('provided_energy', 0), ('curtailment', 0)],\n",
       "  'balancing': [('provided_energy', 23.16)]}}"
      ]
     },
     "execution_count": 17,
     "metadata": {},
     "output_type": "execute_result"
    }
   ],
   "source": [
    "control = {\n",
    "    \"battery\" : [0.7],\n",
    "    \"grid\": [0.0]\n",
    "}\n",
    "result = microgrid.run(control)\n",
    "result"
   ]
  },
  {
   "cell_type": "code",
   "execution_count": 18,
   "id": "a4fbc140-8458-4fc6-8cec-4fd8ee5c1803",
   "metadata": {},
   "outputs": [
    {
     "data": {
      "text/plain": [
       "{'load': [{'load_current': -36.87}],\n",
       " 'renewable': [{'renewable_current': 0}],\n",
       " 'balancing': [{}],\n",
       " 'grid': [{'import_price_current': 0.2453,\n",
       "   'export_price_current': 0.1247,\n",
       "   'co2_per_kwh_current': 0.2001,\n",
       "   'grid_status_current': 1.0}],\n",
       " 'battery': [{'soc': 0.48526315789473684,\n",
       "   'current_charge': 24.263157894736842}]}"
      ]
     },
     "execution_count": 18,
     "metadata": {},
     "output_type": "execute_result"
    }
   ],
   "source": [
    "microgrid.get_status()"
   ]
  },
  {
   "cell_type": "code",
   "execution_count": 19,
   "id": "340cc08a-4492-44a0-a5ff-5ba87b235a2d",
   "metadata": {},
   "outputs": [],
   "source": [
    "log = microgrid.get_log()"
   ]
  },
  {
   "cell_type": "code",
   "execution_count": 20,
   "id": "5d782d41-15ee-4f49-bf23-4a3735e09c23",
   "metadata": {},
   "outputs": [
    {
     "data": {
      "text/plain": [
       "<Axes: >"
      ]
     },
     "execution_count": 20,
     "metadata": {},
     "output_type": "execute_result"
    },
    {
     "data": {
      "image/png": "[encoded data removed]",
      "text/plain": [
       "<Figure size 640x480 with 1 Axes>"
      ]
     },
     "metadata": {},
     "output_type": "display_data"
    }
   ],
   "source": [
    "log[[('load', 0, 'load_met'),\n",
    "               ('renewable', 0, 'renewable_used'),\n",
    "               ('balancing', 0, 'loss_load')]].droplevel(axis=1, level=1).plot()"
   ]
  },
  {
   "cell_type": "code",
   "execution_count": 43,
   "id": "4f646ac4-3d1e-4b77-9ce7-a746db1847fd",
   "metadata": {},
   "outputs": [
    {
     "data": {
      "text/plain": [
       "{'grid': [None], 'battery': [None]}"
      ]
     },
     "execution_count": 43,
     "metadata": {},
     "output_type": "execute_result"
    }
   ],
   "source": [
    "microgrid.microgrid.get_empty_action()"
   ]
  },
  {
   "cell_type": "code",
   "execution_count": 51,
   "id": "39944959-a36d-4198-8752-6b97ef1010a6",
   "metadata": {},
   "outputs": [
    {
     "data": {
      "text/plain": [
       "100.0"
      ]
     },
     "execution_count": 51,
     "metadata": {},
     "output_type": "execute_result"
    }
   ],
   "source": [
    "microgrid.microgrid.modules.grid[0].max_act"
   ]
  },
  {
   "cell_type": "code",
   "execution_count": 53,
   "id": "0e9a6c89-6b2d-404a-b1ec-61562b1664dd",
   "metadata": {},
   "outputs": [
    {
     "data": {
      "text/plain": [
       "-100.0"
      ]
     },
     "execution_count": 53,
     "metadata": {},
     "output_type": "execute_result"
    }
   ],
   "source": [
    "microgrid.microgrid.modules.grid[0].min_act"
   ]
  },
  {
   "cell_type": "code",
   "execution_count": 63,
   "id": "ae976818-d0a3-4e64-b999-f29c15f2086e",
   "metadata": {},
   "outputs": [
    {
     "data": {
      "text/plain": [
       "9.5"
      ]
     },
     "execution_count": 63,
     "metadata": {},
     "output_type": "execute_result"
    }
   ],
   "source": [
    "microgrid.microgrid.modules.battery[0].max_act"
   ]
  },
  {
   "cell_type": "code",
   "execution_count": 65,
   "id": "ed54c645-4a2d-4d5b-91ff-0e82d2175872",
   "metadata": {},
   "outputs": [
    {
     "data": {
      "text/plain": [
       "-10.526315789473685"
      ]
     },
     "execution_count": 65,
     "metadata": {},
     "output_type": "execute_result"
    }
   ],
   "source": [
    "microgrid.microgrid.modules.battery[0].min_act"
   ]
  },
  {
   "cell_type": "code",
   "execution_count": 81,
   "id": "274d9095-a314-4d1b-9658-4b374f5fc87f",
   "metadata": {},
   "outputs": [
    {
     "data": {
      "text/plain": [
       "0.48526315789473684"
      ]
     },
     "execution_count": 81,
     "metadata": {},
     "output_type": "execute_result"
    }
   ],
   "source": [
    "soc = microgrid.microgrid.modules.battery[0].soc\n",
    "soc"
   ]
  },
  {
   "cell_type": "code",
   "execution_count": 87,
   "id": "96129afe-8070-4f76-8a43-dc2fb796fea4",
   "metadata": {},
   "outputs": [
    {
     "data": {
      "text/plain": [
       "0"
      ]
     },
     "execution_count": 87,
     "metadata": {},
     "output_type": "execute_result"
    }
   ],
   "source": [
    "min = microgrid.microgrid.modules.battery[0].min_capacity\n",
    "min"
   ]
  },
  {
   "cell_type": "code",
   "execution_count": 89,
   "id": "3ce727ca-890a-4b16-bffd-fabf4c7b577d",
   "metadata": {},
   "outputs": [
    {
     "data": {
      "text/plain": [
       "50"
      ]
     },
     "execution_count": 89,
     "metadata": {},
     "output_type": "execute_result"
    }
   ],
   "source": [
    "max = microgrid.microgrid.modules.battery[0].max_capacity\n",
    "max"
   ]
  },
  {
   "cell_type": "code",
   "execution_count": 95,
   "id": "a05c2818-4336-4ef8-8c78-fb76e8f8c299",
   "metadata": {},
   "outputs": [
    {
     "data": {
      "text/plain": [
       "10"
      ]
     },
     "execution_count": 95,
     "metadata": {},
     "output_type": "execute_result"
    }
   ],
   "source": [
    "max_chg = microgrid.microgrid.modules.battery[0].max_charge\n",
    "max_chg"
   ]
  },
  {
   "cell_type": "code",
   "execution_count": 97,
   "id": "3a11f8b6-fc60-4ebb-ae95-441a08d733c8",
   "metadata": {},
   "outputs": [
    {
     "data": {
      "text/plain": [
       "10"
      ]
     },
     "execution_count": 97,
     "metadata": {},
     "output_type": "execute_result"
    }
   ],
   "source": [
    "max_dchg = microgrid.microgrid.modules.battery[0].max_discharge\n",
    "max_dchg"
   ]
  },
  {
   "cell_type": "code",
   "execution_count": 101,
   "id": "b350c6de-e3dc-44dc-a561-a86c3b248bed",
   "metadata": {},
   "outputs": [
    {
     "data": {
      "text/plain": [
       "0.95"
      ]
     },
     "execution_count": 101,
     "metadata": {},
     "output_type": "execute_result"
    }
   ],
   "source": [
    "eff = microgrid.microgrid.modules.battery[0].efficiency\n",
    "eff"
   ]
  },
  {
   "cell_type": "code",
   "execution_count": 93,
   "id": "7b2b39ac-1fec-4cf4-830d-c8b131525329",
   "metadata": {},
   "outputs": [
    {
     "data": {
      "text/plain": [
       "25.736842105263158"
      ]
     },
     "execution_count": 93,
     "metadata": {},
     "output_type": "execute_result"
    }
   ],
   "source": [
    "max - soc * max"
   ]
  },
  {
   "cell_type": "code",
   "execution_count": 103,
   "id": "9eef46fd-aa4d-4c94-938f-70d3dc0bf8a9",
   "metadata": {},
   "outputs": [
    {
     "data": {
      "text/plain": [
       "10.526315789473685"
      ]
     },
     "execution_count": 103,
     "metadata": {},
     "output_type": "execute_result"
    }
   ],
   "source": [
    "max_dchg / eff"
   ]
  },
  {
   "cell_type": "code",
   "execution_count": 107,
   "id": "0a27c14e-027a-4984-a9e2-e7fc61a51733",
   "metadata": {},
   "outputs": [
    {
     "data": {
      "text/plain": [
       "9.5"
      ]
     },
     "execution_count": 107,
     "metadata": {},
     "output_type": "execute_result"
    }
   ],
   "source": [
    "max_chg * eff"
   ]
  }
 ],
 "metadata": {
  "kernelspec": {
   "display_name": "Python (rec)",
   "language": "python",
   "name": "rec"
  },
  "language_info": {
   "codemirror_mode": {
    "name": "ipython",
    "version": 3
   },
   "file_extension": ".py",
   "mimetype": "text/x-python",
   "name": "python",
   "nbconvert_exporter": "python",
   "pygments_lexer": "ipython3",
   "version": "3.12.4"
  }
 },
 "nbformat": 4,
 "nbformat_minor": 5
}
