{
 "cells": [
  {
   "cell_type": "code",
   "execution_count": 143,
   "id": "84a9a80d-ff98-499f-b26c-c687ef9bce73",
   "metadata": {},
   "outputs": [],
   "source": [
    "import sys\n",
    "import os\n",
    "\n",
    "sys.path.append(os.path.abspath(os.path.join(os.getcwd(), \"..\")))"
   ]
  },
  {
   "cell_type": "code",
   "execution_count": 144,
   "id": "fd854b62-fc92-424c-a8f5-ead795e10251",
   "metadata": {},
   "outputs": [],
   "source": [
    "import requests\n",
    "\n",
    "url = \"http://127.0.0.1:8000/\""
   ]
  },
  {
   "cell_type": "code",
   "execution_count": 145,
   "id": "39b205f2-936c-455f-919d-9a3733ebd416",
   "metadata": {},
   "outputs": [
    {
     "data": {
      "text/plain": [
       "<Response [200]>"
      ]
     },
     "execution_count": 145,
     "metadata": {},
     "output_type": "execute_result"
    }
   ],
   "source": [
    "response = requests.get(url + 'ping')\n",
    "response"
   ]
  },
  {
   "cell_type": "code",
   "execution_count": 146,
   "id": "b2b0d0fa-72d3-4ee1-bbb7-bba90094eeac",
   "metadata": {},
   "outputs": [],
   "source": [
    "config = {\n",
    "  \"horizon\": 24,\n",
    "  \"timestep\": 1,\n",
    "  \"add_unbalanced_module\": True,\n",
    "  \"loss_load_cost\": 10,\n",
    "  \"overgeneration_cost\": 2,\n",
    "  \"lat\": 39.47428905506321,\n",
    "  \"lon\": -6.375852142621431,\n",
    "  \"components\": [\n",
    "    {\n",
    "      \"id\": \"7bea471f-475a-4322-a6c2-a06d99615b20\",\n",
    "      \"type\": \"GridModule\",\n",
    "      \"params\": {\n",
    "        \"max_import\": 100,\n",
    "        \"max_export\": 100,\n",
    "        \"cost_per_unit_co2\": 0,\n",
    "        \"time_series_profile\": \"grid_1\"\n",
    "      }\n",
    "    },\n",
    "    {\n",
    "      \"id\": \"b1d9ee73-edef-411d-bbd0-d24c81deffcd\",\n",
    "      \"type\": \"BatteryModule\",\n",
    "      \"params\": {\n",
    "        \"min_capacity\": 0,\n",
    "        \"max_capacity\": 50,\n",
    "        \"max_charge\": 10,\n",
    "        \"max_discharge\": 10,\n",
    "        \"efficiency\": 0.95,\n",
    "        \"battery_cost_cycle\": 0,\n",
    "        \"init_soc\": 0.5\n",
    "      }\n",
    "    },\n",
    "    {\n",
    "      \"id\": \"aa9e21b6-7a92-483b-9dfd-934c1b78dd0b\",\n",
    "      \"type\": \"Controller\",\n",
    "      \"params\": {\n",
    "        \"name\": \"manual\"\n",
    "      }\n",
    "    },\n",
    "    {\n",
    "      \"id\": \"f111d6c8-4b9a-4388-bb37-559fac6c8c39\",\n",
    "      \"type\": \"RenewableModule\",\n",
    "      \"params\": {\n",
    "        \"time_series_profile\": \"solar_1\"\n",
    "      }\n",
    "    },\n",
    "    {\n",
    "      \"id\": \"5feeb119-ce6e-404b-8b1e-8b366b9e6034\",\n",
    "      \"type\": \"LoadModule\",\n",
    "      \"params\": {\n",
    "        \"time_series_profile\": \"house\"\n",
    "      }\n",
    "    },\n",
    "    {\n",
    "      \"id\": \"64487c12-9e4b-4d68-84d3-0255dd014f5c\",\n",
    "      \"type\": \"BatteryModule\",\n",
    "      \"params\": {\n",
    "        \"min_capacity\": 0,\n",
    "        \"max_capacity\": 50,\n",
    "        \"max_charge\": 10,\n",
    "        \"max_discharge\": 10,\n",
    "        \"efficiency\": 0.95,\n",
    "        \"battery_cost_cycle\": 0,\n",
    "        \"init_soc\": 0.5\n",
    "      }\n",
    "    }\n",
    "  ]\n",
    "}"
   ]
  },
  {
   "cell_type": "code",
   "execution_count": 147,
   "id": "5270620a-8fa5-4d9e-94a9-edee08a5dfb0",
   "metadata": {},
   "outputs": [
    {
     "data": {
      "text/plain": [
       "{'message': 'Microgrid setup completed.'}"
      ]
     },
     "execution_count": 147,
     "metadata": {},
     "output_type": "execute_result"
    }
   ],
   "source": [
    "response = requests.post(url + 'setup', json=config)\n",
    "response.json()"
   ]
  },
  {
   "cell_type": "code",
   "execution_count": 148,
   "id": "e9a920b6-1f83-4597-9676-3e660150870a",
   "metadata": {},
   "outputs": [
    {
     "data": {
      "text/plain": [
       "{'grid': [None], 'battery': [None, None]}"
      ]
     },
     "execution_count": 148,
     "metadata": {},
     "output_type": "execute_result"
    }
   ],
   "source": [
    "response = requests.get(url + 'actions')\n",
    "response.json()"
   ]
  },
  {
   "cell_type": "code",
   "execution_count": 149,
   "id": "aea9340d-a0fd-4a22-93b5-af4064082fc5",
   "metadata": {},
   "outputs": [
    {
     "data": {
      "text/plain": [
       "{'message': 'Microgrid has been reset.'}"
      ]
     },
     "execution_count": 149,
     "metadata": {},
     "output_type": "execute_result"
    }
   ],
   "source": [
    "response = requests.post(url + 'reset')\n",
    "response.json()"
   ]
  },
  {
   "cell_type": "code",
   "execution_count": 150,
   "id": "289374f4-f42a-4ac0-83c8-bf2d58a461ad",
   "metadata": {
    "scrolled": true
   },
   "outputs": [
    {
     "data": {
      "text/plain": [
       "{'load': [{'load_current': -23.68}],\n",
       " 'renewable': [{'renewable_current': 0}],\n",
       " 'balancing': [{}],\n",
       " 'grid': [{'import_price_current': 0.2243,\n",
       "   'export_price_current': 0.1247,\n",
       "   'co2_per_kwh_current': 0.2547,\n",
       "   'grid_status_current': 1.0}],\n",
       " 'battery': [{'soc': 0.5, 'current_charge': 25.0},\n",
       "  {'soc': 0.5, 'current_charge': 25.0}],\n",
       " 'total': [{'loads': -23.68, 'renewables': 0}]}"
      ]
     },
     "execution_count": 150,
     "metadata": {},
     "output_type": "execute_result"
    }
   ],
   "source": [
    "response = requests.get(url + 'status')\n",
    "response.json()"
   ]
  },
  {
   "cell_type": "code",
   "execution_count": 151,
   "id": "b0ec10ee-ce48-4354-856c-42c8a64910ac",
   "metadata": {},
   "outputs": [
    {
     "data": {
      "text/plain": [
       "{'action': {'battery': [10, 10], 'grid': [0.6]},\n",
       " 'observation': {'load': [0.6397612619013784],\n",
       "  'grid': [[0.6990595611285267, 0.8969465648854962, 0.25242341993020545, 0.0]],\n",
       "  'battery': [[0.3, 0.3], [0.3, 0.3]],\n",
       "  'renewable': [0.0],\n",
       "  'balancing': [[]]},\n",
       " 'reward': -40.93457999999998,\n",
       " 'done': False,\n",
       " 'info': {'load': [['absorbed_energy', 23.68]],\n",
       "  'grid': [['provided_energy', 0.6], ['co2_production', 0.15281999999999998]],\n",
       "  'battery': [['provided_energy', 9.5], ['provided_energy', 9.5]],\n",
       "  'renewable': [['provided_energy', 0], ['curtailment', 0]],\n",
       "  'balancing': [['provided_energy', 4.079999999999998]]}}"
      ]
     },
     "execution_count": 151,
     "metadata": {},
     "output_type": "execute_result"
    }
   ],
   "source": [
    "params = {\n",
    "  \"actions\": {\n",
    "    \"battery\": [\n",
    "      10,\n",
    "      10\n",
    "    ],\n",
    "    \"grid\": [\n",
    "      0.6\n",
    "    ]\n",
    "  }\n",
    "}\n",
    "response = requests.post(url + 'run', json=params)\n",
    "response.json()"
   ]
  }
 ],
 "metadata": {
  "kernelspec": {
   "display_name": "Python 3 (ipykernel)",
   "language": "python",
   "name": "python3"
  },
  "language_info": {
   "codemirror_mode": {
    "name": "ipython",
    "version": 3
   },
   "file_extension": ".py",
   "mimetype": "text/x-python",
   "name": "python",
   "nbconvert_exporter": "python",
   "pygments_lexer": "ipython3",
   "version": "3.12.4"
  }
 },
 "nbformat": 4,
 "nbformat_minor": 5
}
