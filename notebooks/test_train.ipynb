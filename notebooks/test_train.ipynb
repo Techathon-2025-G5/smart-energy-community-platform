{
 "cells": [
  {
   "cell_type": "code",
   "execution_count": 3,
   "id": "2d5bbb73-a1c4-4f5b-bf1d-8b2438c6fcf2",
   "metadata": {},
   "outputs": [],
   "source": [
    "import sys\n",
    "import os\n",
    "\n",
    "sys.path.append(os.path.abspath(os.path.join(os.getcwd(), \"..\")))"
   ]
  },
  {
   "cell_type": "code",
   "execution_count": 5,
   "id": "f7ac1133-93c4-4323-89d1-a032456b7e73",
   "metadata": {},
   "outputs": [],
   "source": [
    "from model.rec_model import microgrid"
   ]
  },
  {
   "cell_type": "code",
   "execution_count": 7,
   "id": "7866d227-abc3-481b-ba41-8c8e2684618b",
   "metadata": {},
   "outputs": [],
   "source": [
    "setup = {\n",
    "  \"horizon\": 25,\n",
    "  \"timestep\": 1,\n",
    "  \"add_unbalanced_module\": True,\n",
    "  \"loss_load_cost\": 10,\n",
    "  \"overgeneration_cost\": 2,\n",
    "  \"components\": [\n",
    "    {\n",
    "      \"id\": \"3c03f396-98f2-46c7-945c-3c95408b6355\",\n",
    "      \"type\": \"LoadModule\",\n",
    "      \"params\": {\n",
    "        \"time_series_profile\": \"house\"\n",
    "      }\n",
    "    },\n",
    "    {\n",
    "      \"id\": \"32e548e7-8b69-49b6-b471-54908cd211d3\",\n",
    "      \"type\": \"RenewableModule\",\n",
    "      \"params\": {\n",
    "        \"time_series_profile\": \"solar_1\"\n",
    "      }\n",
    "    },\n",
    "    {\n",
    "      \"id\": \"ba34e364-9c4a-412f-9b3c-9068335d15d3\",\n",
    "      \"type\": \"BatteryModule\",\n",
    "      \"params\": {\n",
    "        \"min_capacity\": 0,\n",
    "        \"max_capacity\": 50,\n",
    "        \"max_charge\": 10,\n",
    "        \"max_discharge\": 10,\n",
    "        \"efficiency\": 0.95,\n",
    "        \"battery_cost_cycle\": 0,\n",
    "        \"init_soc\": 0.5\n",
    "      }\n",
    "    },\n",
    "    {\n",
    "      \"id\": \"ba34e364-9c4a-412f-9b3c-9068335d15d4\",\n",
    "      \"type\": \"BatteryModule\",\n",
    "      \"params\": {\n",
    "        \"min_capacity\": 0,\n",
    "        \"max_capacity\": 150,\n",
    "        \"max_charge\": 10,\n",
    "        \"max_discharge\": 10,\n",
    "        \"efficiency\": 0.95,\n",
    "        \"battery_cost_cycle\": 0,\n",
    "        \"init_soc\": 0.5\n",
    "      }\n",
    "    },\n",
    "    {\n",
    "      \"id\": \"4ba2cfa4-7323-4f0a-ac7f-fa73f1177e49\",\n",
    "      \"type\": \"GridModule\",\n",
    "      \"params\": {\n",
    "        \"max_import\": 100,\n",
    "        \"max_export\": 100,\n",
    "        \"cost_per_unit_co2\": 0,\n",
    "        \"time_series_profile\": \"grid_1\"\n",
    "      }\n",
    "    }\n",
    "  ]\n",
    "}"
   ]
  },
  {
   "cell_type": "code",
   "execution_count": 9,
   "id": "abd0468d-1348-46f1-9c09-94ac009935ea",
   "metadata": {},
   "outputs": [],
   "source": [
    "microgrid.setup(setup)"
   ]
  },
  {
   "cell_type": "code",
   "execution_count": 11,
   "id": "7b44cf55-e659-4dfc-9a48-8f05513cfaca",
   "metadata": {},
   "outputs": [],
   "source": [
    "from pymgrid.envs import ContinuousMicrogridEnv"
   ]
  },
  {
   "cell_type": "code",
   "execution_count": 15,
   "id": "31fc0428-de79-4a2f-98cc-a268a1a638de",
   "metadata": {},
   "outputs": [
    {
     "data": {
      "text/plain": [
       "Microgrid([load x 1, renewable x 1, balancing x 1, battery x 2, grid x 1])"
      ]
     },
     "execution_count": 15,
     "metadata": {},
     "output_type": "execute_result"
    }
   ],
   "source": [
    "microgrid.microgrid"
   ]
  },
  {
   "cell_type": "code",
   "execution_count": 13,
   "id": "c857de1e-6b16-4ddb-9bbc-e8393dbf6905",
   "metadata": {},
   "outputs": [
    {
     "ename": "ValueError",
     "evalue": "need at least one array to concatenate",
     "output_type": "error",
     "traceback": [
      "\u001b[1;31m---------------------------------------------------------------------------\u001b[0m",
      "\u001b[1;31mValueError\u001b[0m                                Traceback (most recent call last)",
      "Cell \u001b[1;32mIn[13], line 1\u001b[0m\n\u001b[1;32m----> 1\u001b[0m env \u001b[38;5;241m=\u001b[39m ContinuousMicrogridEnv\u001b[38;5;241m.\u001b[39mfrom_microgrid(microgrid\u001b[38;5;241m.\u001b[39mmicrogrid)\n",
      "File \u001b[1;32mC:\\ProgramData\\anaconda3\\Lib\\site-packages\\pymgrid\\envs\\base\\base.py:192\u001b[0m, in \u001b[0;36mBaseMicrogridEnv.from_microgrid\u001b[1;34m(cls, microgrid)\u001b[0m\n\u001b[0;32m    190\u001b[0m     \u001b[38;5;28;01mreturn\u001b[39;00m \u001b[38;5;28mcls\u001b[39m\u001b[38;5;241m.\u001b[39mfrom_nonmodular(microgrid)\n\u001b[0;32m    191\u001b[0m \u001b[38;5;28;01melse\u001b[39;00m:\n\u001b[1;32m--> 192\u001b[0m     \u001b[38;5;28;01mreturn\u001b[39;00m \u001b[38;5;28mcls\u001b[39m(modules\u001b[38;5;241m.\u001b[39mto_tuples(), add_unbalanced_module\u001b[38;5;241m=\u001b[39m\u001b[38;5;28;01mFalse\u001b[39;00m)\n",
      "File \u001b[1;32mC:\\ProgramData\\anaconda3\\Lib\\site-packages\\pymgrid\\envs\\base\\base.py:82\u001b[0m, in \u001b[0;36mBaseMicrogridEnv.__init__\u001b[1;34m(self, modules, add_unbalanced_module, loss_load_cost, overgeneration_cost, flat_spaces)\u001b[0m\n\u001b[0;32m     76\u001b[0m \u001b[38;5;28msuper\u001b[39m()\u001b[38;5;241m.\u001b[39m\u001b[38;5;21m__init__\u001b[39m(modules,\n\u001b[0;32m     77\u001b[0m                  add_unbalanced_module\u001b[38;5;241m=\u001b[39madd_unbalanced_module,\n\u001b[0;32m     78\u001b[0m                  loss_load_cost\u001b[38;5;241m=\u001b[39mloss_load_cost,\n\u001b[0;32m     79\u001b[0m                  overgeneration_cost\u001b[38;5;241m=\u001b[39movergeneration_cost)\n\u001b[0;32m     81\u001b[0m \u001b[38;5;28mself\u001b[39m\u001b[38;5;241m.\u001b[39m_flat_spaces \u001b[38;5;241m=\u001b[39m flat_spaces\n\u001b[1;32m---> 82\u001b[0m \u001b[38;5;28mself\u001b[39m\u001b[38;5;241m.\u001b[39maction_space \u001b[38;5;241m=\u001b[39m \u001b[38;5;28mself\u001b[39m\u001b[38;5;241m.\u001b[39m_get_action_space()\n\u001b[0;32m     83\u001b[0m \u001b[38;5;28mself\u001b[39m\u001b[38;5;241m.\u001b[39mobservation_space, \u001b[38;5;28mself\u001b[39m\u001b[38;5;241m.\u001b[39m_nested_observation_space \u001b[38;5;241m=\u001b[39m \u001b[38;5;28mself\u001b[39m\u001b[38;5;241m.\u001b[39m_get_observation_space()\n",
      "File \u001b[1;32mC:\\ProgramData\\anaconda3\\Lib\\site-packages\\pymgrid\\envs\\continuous\\continuous.py:55\u001b[0m, in \u001b[0;36mContinuousMicrogridEnv._get_action_space\u001b[1;34m(self)\u001b[0m\n\u001b[0;32m     53\u001b[0m \u001b[38;5;28;01mdef\u001b[39;00m \u001b[38;5;21m_get_action_space\u001b[39m(\u001b[38;5;28mself\u001b[39m):\n\u001b[0;32m     54\u001b[0m     \u001b[38;5;28mself\u001b[39m\u001b[38;5;241m.\u001b[39m_nested_action_space \u001b[38;5;241m=\u001b[39m \u001b[38;5;28mself\u001b[39m\u001b[38;5;241m.\u001b[39m_get_nested_action_space()\n\u001b[1;32m---> 55\u001b[0m     \u001b[38;5;28;01mreturn\u001b[39;00m flatten_space(\u001b[38;5;28mself\u001b[39m\u001b[38;5;241m.\u001b[39m_nested_action_space) \u001b[38;5;28;01mif\u001b[39;00m \u001b[38;5;28mself\u001b[39m\u001b[38;5;241m.\u001b[39m_flat_spaces \u001b[38;5;28;01melse\u001b[39;00m \u001b[38;5;28mself\u001b[39m\u001b[38;5;241m.\u001b[39m_nested_action_space\n",
      "File \u001b[1;32mC:\\ProgramData\\anaconda3\\Lib\\functools.py:909\u001b[0m, in \u001b[0;36msingledispatch.<locals>.wrapper\u001b[1;34m(*args, **kw)\u001b[0m\n\u001b[0;32m    905\u001b[0m \u001b[38;5;28;01mif\u001b[39;00m \u001b[38;5;129;01mnot\u001b[39;00m args:\n\u001b[0;32m    906\u001b[0m     \u001b[38;5;28;01mraise\u001b[39;00m \u001b[38;5;167;01mTypeError\u001b[39;00m(\u001b[38;5;124mf\u001b[39m\u001b[38;5;124m'\u001b[39m\u001b[38;5;132;01m{\u001b[39;00mfuncname\u001b[38;5;132;01m}\u001b[39;00m\u001b[38;5;124m requires at least \u001b[39m\u001b[38;5;124m'\u001b[39m\n\u001b[0;32m    907\u001b[0m                     \u001b[38;5;124m'\u001b[39m\u001b[38;5;124m1 positional argument\u001b[39m\u001b[38;5;124m'\u001b[39m)\n\u001b[1;32m--> 909\u001b[0m \u001b[38;5;28;01mreturn\u001b[39;00m dispatch(args[\u001b[38;5;241m0\u001b[39m]\u001b[38;5;241m.\u001b[39m\u001b[38;5;18m__class__\u001b[39m)(\u001b[38;5;241m*\u001b[39margs, \u001b[38;5;241m*\u001b[39m\u001b[38;5;241m*\u001b[39mkw)\n",
      "File \u001b[1;32mC:\\ProgramData\\anaconda3\\Lib\\site-packages\\gym\\spaces\\utils.py:420\u001b[0m, in \u001b[0;36m_flatten_space_dict\u001b[1;34m(space)\u001b[0m\n\u001b[0;32m    417\u001b[0m \u001b[38;5;28;01mif\u001b[39;00m space\u001b[38;5;241m.\u001b[39mis_np_flattenable:\n\u001b[0;32m    418\u001b[0m     space_list \u001b[38;5;241m=\u001b[39m [flatten_space(s) \u001b[38;5;28;01mfor\u001b[39;00m s \u001b[38;5;129;01min\u001b[39;00m space\u001b[38;5;241m.\u001b[39mspaces\u001b[38;5;241m.\u001b[39mvalues()]\n\u001b[0;32m    419\u001b[0m     \u001b[38;5;28;01mreturn\u001b[39;00m Box(\n\u001b[1;32m--> 420\u001b[0m         low\u001b[38;5;241m=\u001b[39mnp\u001b[38;5;241m.\u001b[39mconcatenate([s\u001b[38;5;241m.\u001b[39mlow \u001b[38;5;28;01mfor\u001b[39;00m s \u001b[38;5;129;01min\u001b[39;00m space_list]),\n\u001b[0;32m    421\u001b[0m         high\u001b[38;5;241m=\u001b[39mnp\u001b[38;5;241m.\u001b[39mconcatenate([s\u001b[38;5;241m.\u001b[39mhigh \u001b[38;5;28;01mfor\u001b[39;00m s \u001b[38;5;129;01min\u001b[39;00m space_list]),\n\u001b[0;32m    422\u001b[0m         dtype\u001b[38;5;241m=\u001b[39mnp\u001b[38;5;241m.\u001b[39mresult_type(\u001b[38;5;241m*\u001b[39m[s\u001b[38;5;241m.\u001b[39mdtype \u001b[38;5;28;01mfor\u001b[39;00m s \u001b[38;5;129;01min\u001b[39;00m space_list]),\n\u001b[0;32m    423\u001b[0m     )\n\u001b[0;32m    424\u001b[0m \u001b[38;5;28;01mreturn\u001b[39;00m Dict(\n\u001b[0;32m    425\u001b[0m     spaces\u001b[38;5;241m=\u001b[39mOrderedDict(\n\u001b[0;32m    426\u001b[0m         (key, flatten_space(space)) \u001b[38;5;28;01mfor\u001b[39;00m key, space \u001b[38;5;129;01min\u001b[39;00m space\u001b[38;5;241m.\u001b[39mspaces\u001b[38;5;241m.\u001b[39mitems()\n\u001b[0;32m    427\u001b[0m     )\n\u001b[0;32m    428\u001b[0m )\n",
      "\u001b[1;31mValueError\u001b[0m: need at least one array to concatenate"
     ]
    }
   ],
   "source": [
    "env = ContinuousMicrogridEnv.from_microgrid(microgrid.microgrid)"
   ]
  }
 ],
 "metadata": {
  "kernelspec": {
   "display_name": "Python (rec)",
   "language": "python",
   "name": "rec"
  },
  "language_info": {
   "codemirror_mode": {
    "name": "ipython",
    "version": 3
   },
   "file_extension": ".py",
   "mimetype": "text/x-python",
   "name": "python",
   "nbconvert_exporter": "python",
   "pygments_lexer": "ipython3",
   "version": "3.12.4"
  }
 },
 "nbformat": 4,
 "nbformat_minor": 5
}
