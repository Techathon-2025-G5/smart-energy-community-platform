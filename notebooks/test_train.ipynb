{
 "cells": [
  {
   "cell_type": "code",
   "execution_count": 1,
   "id": "2d5bbb73-a1c4-4f5b-bf1d-8b2438c6fcf2",
   "metadata": {},
   "outputs": [],
   "source": [
    "import sys\n",
    "import os\n",
    "\n",
    "sys.path.append(os.path.abspath(os.path.join(os.getcwd(), \"..\")))"
   ]
  },
  {
   "cell_type": "code",
   "execution_count": 2,
   "id": "f7ac1133-93c4-4323-89d1-a032456b7e73",
   "metadata": {},
   "outputs": [
    {
     "ename": "ModuleNotFoundError",
     "evalue": "No module named 'stable_baselines3'",
     "output_type": "error",
     "traceback": [
      "\u001b[1;31m---------------------------------------------------------------------------\u001b[0m",
      "\u001b[1;31mModuleNotFoundError\u001b[0m                       Traceback (most recent call last)",
      "Cell \u001b[1;32mIn[2], line 2\u001b[0m\n\u001b[0;32m      1\u001b[0m \u001b[38;5;28;01mfrom\u001b[39;00m \u001b[38;5;21;01mmodel\u001b[39;00m\u001b[38;5;21;01m.\u001b[39;00m\u001b[38;5;21;01mrec_model\u001b[39;00m \u001b[38;5;28;01mimport\u001b[39;00m microgrid\n\u001b[1;32m----> 2\u001b[0m \u001b[38;5;28;01mfrom\u001b[39;00m \u001b[38;5;21;01mcontroller\u001b[39;00m\u001b[38;5;21;01m.\u001b[39;00m\u001b[38;5;21;01mrl_controller\u001b[39;00m \u001b[38;5;28;01mimport\u001b[39;00m RLController\n",
      "File \u001b[1;32m~\\Documents\\GitHub\\smart-energy-community-platform\\controller\\rl_controller.py:7\u001b[0m\n\u001b[0;32m      5\u001b[0m \u001b[38;5;28;01mfrom\u001b[39;00m \u001b[38;5;21;01mmodel\u001b[39;00m\u001b[38;5;21;01m.\u001b[39;00m\u001b[38;5;21;01menvs\u001b[39;00m \u001b[38;5;28;01mimport\u001b[39;00m ContinuousMicrogridEnv\n\u001b[0;32m      6\u001b[0m \u001b[38;5;28;01mfrom\u001b[39;00m \u001b[38;5;21;01mmodel\u001b[39;00m\u001b[38;5;21;01m.\u001b[39;00m\u001b[38;5;21;01mrec_model\u001b[39;00m \u001b[38;5;28;01mimport\u001b[39;00m microgrid\n\u001b[1;32m----> 7\u001b[0m \u001b[38;5;28;01mfrom\u001b[39;00m \u001b[38;5;21;01mstable_baselines3\u001b[39;00m \u001b[38;5;28;01mimport\u001b[39;00m PPO, A2C, DQN, SAC\n\u001b[0;32m     10\u001b[0m \u001b[38;5;28;01mclass\u001b[39;00m \u001b[38;5;21;01mRLController\u001b[39;00m:\n\u001b[0;32m     11\u001b[0m \u001b[38;5;250m    \u001b[39m\u001b[38;5;124;03m\"\"\"Controller based on stable-baselines3 reinforcement learning algorithms.\"\"\"\u001b[39;00m\n",
      "\u001b[1;31mModuleNotFoundError\u001b[0m: No module named 'stable_baselines3'"
     ]
    }
   ],
   "source": [
    "from model.rec_model import microgrid\n",
    "from controller.rl_controller import RLController"
   ]
  },
  {
   "cell_type": "code",
   "execution_count": null,
   "id": "b81331ab-a4b0-4fa4-a627-da801ad80e09",
   "metadata": {},
   "outputs": [],
   "source": [
    "CONFIG_PATH = os.path.join(\"..\", \"config\", \"sample_setup.yaml\")"
   ]
  },
  {
   "cell_type": "code",
   "execution_count": null,
   "id": "abd0468d-1348-46f1-9c09-94ac009935ea",
   "metadata": {},
   "outputs": [],
   "source": [
    "# Configurar la microgrid previamente\n",
    "microgrid = microgrid.setup(config=CONFIG_PATH)\n",
    "\n",
    "# Iniciar el controlador (se crea automáticamente la lista de prioridades)\n",
    "controller = RLController()\n",
    "controller.setup(algorithm = 'ppo', train = True, model_path = None)"
   ]
  },
  {
   "cell_type": "code",
   "execution_count": 5,
   "id": "955c3e19-c1e0-49c6-95e0-7d9314e1796e",
   "metadata": {},
   "outputs": [
    {
     "data": {
      "text/plain": [
       "Microgrid([load x 1, renewable x 1, balancing x 1, grid x 1, battery x 2])"
      ]
     },
     "execution_count": 5,
     "metadata": {},
     "output_type": "execute_result"
    }
   ],
   "source": [
    "microgrid.microgrid"
   ]
  },
  {
   "cell_type": "code",
   "execution_count": 6,
   "id": "f0994451-7e00-4d38-819a-5e2468743819",
   "metadata": {},
   "outputs": [
    {
     "data": {
      "text/plain": [
       "load       0  load_current           -28.3300\n",
       "renewable  0  renewable_current        0.0000\n",
       "grid       0  import_price_current     0.2118\n",
       "              export_price_current     0.1236\n",
       "              co2_per_kwh_current      0.2578\n",
       "              grid_status_current      1.0000\n",
       "battery    0  soc                      0.5000\n",
       "              current_charge          25.0000\n",
       "           1  soc                      0.5000\n",
       "              current_charge          50.0000\n",
       "dtype: float64"
      ]
     },
     "execution_count": 6,
     "metadata": {},
     "output_type": "execute_result"
    }
   ],
   "source": [
    "from pymgrid import Microgrid\n",
    "\n",
    "mic = Microgrid(module_list)\n",
    "mic.state_series"
   ]
  },
  {
   "cell_type": "code",
   "execution_count": 7,
   "id": "95a849e0-5d36-4dec-9f9b-97f6c91b53b5",
   "metadata": {},
   "outputs": [
    {
     "name": "stderr",
     "output_type": "stream",
     "text": [
      "C:\\Users\\rdiaz\\Documents\\GitHub\\smart-energy-community-platform\\model\\envs\\base\\base.py:186: PerformanceWarning:\n",
      "\n",
      "indexing past lexsort depth may impact performance.\n",
      "\n"
     ]
    }
   ],
   "source": [
    "env = ContinuousMicrogridEnv(module_list)"
   ]
  },
  {
   "cell_type": "code",
   "execution_count": 8,
   "id": "5fd71dec-471f-4961-8904-2430db98fd58",
   "metadata": {},
   "outputs": [
    {
     "data": {
      "text/plain": [
       "array([-23.68  ,   0.    ,   0.2243,   0.1247,   0.2547,   1.    ,\n",
       "         0.5   ,  25.    ,   0.5   ,  50.    ])"
      ]
     },
     "execution_count": 8,
     "metadata": {},
     "output_type": "execute_result"
    }
   ],
   "source": [
    "env.reset()"
   ]
  },
  {
   "cell_type": "code",
   "execution_count": 9,
   "id": "32b79b9a-efdc-4c22-94dd-6d36620c6f36",
   "metadata": {},
   "outputs": [
    {
     "data": {
      "text/plain": [
       "Box(0.0, 1.0, (3,), float64)"
      ]
     },
     "execution_count": 9,
     "metadata": {},
     "output_type": "execute_result"
    }
   ],
   "source": [
    "env.action_space"
   ]
  },
  {
   "cell_type": "code",
   "execution_count": 10,
   "id": "0e330197-9445-4f05-af83-e0fd86d52465",
   "metadata": {},
   "outputs": [
    {
     "data": {
      "text/plain": [
       "Box(0.0, 1.0, (10,), float64)"
      ]
     },
     "execution_count": 10,
     "metadata": {},
     "output_type": "execute_result"
    }
   ],
   "source": [
    "env.observation_space"
   ]
  },
  {
   "cell_type": "code",
   "execution_count": 11,
   "id": "a9c83745-5e5f-407f-8468-255fa17fb502",
   "metadata": {},
   "outputs": [
    {
     "data": {
      "text/plain": [
       "array([0.40219039, 0.89688134, 0.56377714])"
      ]
     },
     "execution_count": 11,
     "metadata": {},
     "output_type": "execute_result"
    }
   ],
   "source": [
    "action = env.sample_action()\n",
    "action"
   ]
  },
  {
   "cell_type": "code",
   "execution_count": 12,
   "id": "ddc7d254-bdb2-4eca-bce6-860d318ccc49",
   "metadata": {
    "scrolled": true
   },
   "outputs": [
    {
     "data": {
      "text/plain": [
       "(array([-25.35      ,   0.        ,   0.2259    ,   0.1306    ,\n",
       "          0.2356    ,   1.        ,   0.54696656,  27.34832779,\n",
       "          0.42173776,  42.17377561]),\n",
       " -62.47686625991603,\n",
       " False,\n",
       " {'load': [('absorbed_energy', 23.68)],\n",
       "  'grid': [('provided_energy', 12.75542845980884),\n",
       "   ('co2_production', 3.2488076287133114)],\n",
       "  'battery': [('absorbed_energy', 2.471923993890959),\n",
       "   ('provided_energy', 7.43491316844403)],\n",
       "  'renewable': [('provided_energy', 0), ('curtailment', 0)],\n",
       "  'balancing': [('provided_energy', 5.96158236563809),\n",
       "   ('provided_energy', 0.0)]})"
      ]
     },
     "execution_count": 12,
     "metadata": {},
     "output_type": "execute_result"
    }
   ],
   "source": [
    "env.step(action)"
   ]
  },
  {
   "cell_type": "code",
   "execution_count": 28,
   "id": "21fd4982-7329-42c1-91b7-7974e23d9e86",
   "metadata": {},
   "outputs": [
    {
     "data": {
      "text/html": [
       "<div>\n",
       "<style scoped>\n",
       "    .dataframe tbody tr th:only-of-type {\n",
       "        vertical-align: middle;\n",
       "    }\n",
       "\n",
       "    .dataframe tbody tr th {\n",
       "        vertical-align: top;\n",
       "    }\n",
       "\n",
       "    .dataframe thead tr th {\n",
       "        text-align: left;\n",
       "    }\n",
       "</style>\n",
       "<table border=\"1\" class=\"dataframe\">\n",
       "  <thead>\n",
       "    <tr>\n",
       "      <th>module_name</th>\n",
       "      <th colspan=\"3\" halign=\"left\">load</th>\n",
       "      <th colspan=\"4\" halign=\"left\">renewable</th>\n",
       "      <th colspan=\"3\" halign=\"left\">balancing</th>\n",
       "      <th>...</th>\n",
       "      <th colspan=\"3\" halign=\"left\">balance</th>\n",
       "      <th>net_load</th>\n",
       "      <th>(converted_action, 0, battery_0)</th>\n",
       "      <th>(converted_action, 1, battery_0)</th>\n",
       "      <th>(converted_action, 0, grid_0)</th>\n",
       "      <th>(denormalized_converted_action, 0, battery_0)</th>\n",
       "      <th>(denormalized_converted_action, 1, battery_0)</th>\n",
       "      <th>(denormalized_converted_action, 0, grid_0)</th>\n",
       "    </tr>\n",
       "    <tr>\n",
       "      <th>module_number</th>\n",
       "      <th colspan=\"3\" halign=\"left\">0</th>\n",
       "      <th colspan=\"4\" halign=\"left\">0</th>\n",
       "      <th colspan=\"3\" halign=\"left\">0</th>\n",
       "      <th>...</th>\n",
       "      <th colspan=\"3\" halign=\"left\">0</th>\n",
       "      <th>0</th>\n",
       "      <th>0</th>\n",
       "      <th>0</th>\n",
       "      <th>0</th>\n",
       "      <th>0</th>\n",
       "      <th>0</th>\n",
       "      <th>0</th>\n",
       "    </tr>\n",
       "    <tr>\n",
       "      <th>field</th>\n",
       "      <th>reward</th>\n",
       "      <th>load_met</th>\n",
       "      <th>load_current</th>\n",
       "      <th>reward</th>\n",
       "      <th>curtailment</th>\n",
       "      <th>renewable_used</th>\n",
       "      <th>renewable_current</th>\n",
       "      <th>reward</th>\n",
       "      <th>loss_load</th>\n",
       "      <th>overgeneration</th>\n",
       "      <th>...</th>\n",
       "      <th>controllable_absorbed_from_microgrid</th>\n",
       "      <th>fixed_provided_to_microgrid</th>\n",
       "      <th>fixed_absorbed_from_microgrid</th>\n",
       "      <th></th>\n",
       "      <th></th>\n",
       "      <th></th>\n",
       "      <th></th>\n",
       "      <th></th>\n",
       "      <th></th>\n",
       "      <th></th>\n",
       "    </tr>\n",
       "  </thead>\n",
       "  <tbody>\n",
       "    <tr>\n",
       "      <th>0</th>\n",
       "      <td>0.0</td>\n",
       "      <td>23.68</td>\n",
       "      <td>-23.68</td>\n",
       "      <td>0.0</td>\n",
       "      <td>0</td>\n",
       "      <td>0</td>\n",
       "      <td>0</td>\n",
       "      <td>-59.615824</td>\n",
       "      <td>5.961582</td>\n",
       "      <td>0.0</td>\n",
       "      <td>...</td>\n",
       "      <td>2.471924</td>\n",
       "      <td>0.0</td>\n",
       "      <td>23.68</td>\n",
       "      <td>23.68</td>\n",
       "      <td>0.40219</td>\n",
       "      <td>0.896881</td>\n",
       "      <td>0.563777</td>\n",
       "      <td>-2.471924</td>\n",
       "      <td>7.434913</td>\n",
       "      <td>12.755428</td>\n",
       "    </tr>\n",
       "  </tbody>\n",
       "</table>\n",
       "<p>1 rows × 45 columns</p>\n",
       "</div>"
      ],
      "text/plain": [
       "module_name     load                       renewable              \\\n",
       "module_number      0                               0               \n",
       "field         reward load_met load_current    reward curtailment   \n",
       "0                0.0    23.68       -23.68       0.0           0   \n",
       "\n",
       "module_name                                     balancing            \\\n",
       "module_number                                           0             \n",
       "field         renewable_used renewable_current     reward loss_load   \n",
       "0                          0                 0 -59.615824  5.961582   \n",
       "\n",
       "module_name                   ...                              balance  \\\n",
       "module_number                 ...                                    0   \n",
       "field         overgeneration  ... controllable_absorbed_from_microgrid   \n",
       "0                        0.0  ...                             2.471924   \n",
       "\n",
       "module_name                                                              \\\n",
       "module_number                                                             \n",
       "field         fixed_provided_to_microgrid fixed_absorbed_from_microgrid   \n",
       "0                                     0.0                         23.68   \n",
       "\n",
       "module_name   net_load (converted_action, 0, battery_0)  \\\n",
       "module_number        0                                0   \n",
       "field                                                     \n",
       "0                23.68                          0.40219   \n",
       "\n",
       "module_name   (converted_action, 1, battery_0) (converted_action, 0, grid_0)  \\\n",
       "module_number                                0                             0   \n",
       "field                                                                          \n",
       "0                                     0.896881                      0.563777   \n",
       "\n",
       "module_name   (denormalized_converted_action, 0, battery_0)  \\\n",
       "module_number                                             0   \n",
       "field                                                         \n",
       "0                                                 -2.471924   \n",
       "\n",
       "module_name   (denormalized_converted_action, 1, battery_0)  \\\n",
       "module_number                                             0   \n",
       "field                                                         \n",
       "0                                                  7.434913   \n",
       "\n",
       "module_name   (denormalized_converted_action, 0, grid_0)  \n",
       "module_number                                          0  \n",
       "field                                                     \n",
       "0                                              12.755428  \n",
       "\n",
       "[1 rows x 45 columns]"
      ]
     },
     "execution_count": 28,
     "metadata": {},
     "output_type": "execute_result"
    }
   ],
   "source": [
    "env.get_log()"
   ]
  },
  {
   "cell_type": "code",
   "execution_count": null,
   "id": "0d54d3a0-2c8f-4da7-9e51-ca0add5fa82e",
   "metadata": {},
   "outputs": [],
   "source": []
  },
  {
   "cell_type": "code",
   "execution_count": null,
   "id": "bca4609c-74fe-4561-a3e3-4234110af8eb",
   "metadata": {},
   "outputs": [],
   "source": []
  }
 ],
 "metadata": {
  "kernelspec": {
   "display_name": "Python (rec)",
   "language": "python",
   "name": "rec"
  },
  "language_info": {
   "codemirror_mode": {
    "name": "ipython",
    "version": 3
   },
   "file_extension": ".py",
   "mimetype": "text/x-python",
   "name": "python",
   "nbconvert_exporter": "python",
   "pygments_lexer": "ipython3",
   "version": "3.12.4"
  }
 },
 "nbformat": 4,
 "nbformat_minor": 5
}
