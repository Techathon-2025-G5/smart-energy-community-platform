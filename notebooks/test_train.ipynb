{
 "cells": [
  {
   "cell_type": "code",
   "execution_count": 1,
   "id": "2d5bbb73-a1c4-4f5b-bf1d-8b2438c6fcf2",
   "metadata": {},
   "outputs": [],
   "source": [
    "import sys\n",
    "import os\n",
    "\n",
    "sys.path.append(os.path.abspath(os.path.join(os.getcwd(), \"..\")))"
   ]
  },
  {
   "cell_type": "code",
   "execution_count": 2,
   "id": "f7ac1133-93c4-4323-89d1-a032456b7e73",
   "metadata": {},
   "outputs": [],
   "source": [
    "from model.rec_model import microgrid\n",
    "from model.envs import ContinuousMicrogridEnv"
   ]
  },
  {
   "cell_type": "code",
   "execution_count": 3,
   "id": "b81331ab-a4b0-4fa4-a627-da801ad80e09",
   "metadata": {},
   "outputs": [],
   "source": [
    "CONFIG_PATH = os.path.join(\"..\", \"config\", \"sample_setup.yaml\")"
   ]
  },
  {
   "cell_type": "code",
   "execution_count": 4,
   "id": "abd0468d-1348-46f1-9c09-94ac009935ea",
   "metadata": {},
   "outputs": [],
   "source": [
    "microgrid.setup(config=CONFIG_PATH)\n",
    "module_list = microgrid.microgrid.modules.to_list()"
   ]
  },
  {
   "cell_type": "code",
   "execution_count": 5,
   "id": "955c3e19-c1e0-49c6-95e0-7d9314e1796e",
   "metadata": {},
   "outputs": [
    {
     "data": {
      "text/plain": [
       "Microgrid([load x 1, renewable x 1, balancing x 1, grid x 1, battery x 2])"
      ]
     },
     "execution_count": 5,
     "metadata": {},
     "output_type": "execute_result"
    }
   ],
   "source": [
    "microgrid.microgrid"
   ]
  },
  {
   "cell_type": "code",
   "execution_count": 6,
   "id": "f0994451-7e00-4d38-819a-5e2468743819",
   "metadata": {},
   "outputs": [
    {
     "data": {
      "text/plain": [
       "load       0  load_current           -28.3300\n",
       "renewable  0  renewable_current        0.0000\n",
       "grid       0  import_price_current     0.2118\n",
       "              export_price_current     0.1236\n",
       "              co2_per_kwh_current      0.2578\n",
       "              grid_status_current      1.0000\n",
       "battery    0  soc                      0.5000\n",
       "              current_charge          25.0000\n",
       "           1  soc                      0.5000\n",
       "              current_charge          50.0000\n",
       "dtype: float64"
      ]
     },
     "execution_count": 6,
     "metadata": {},
     "output_type": "execute_result"
    }
   ],
   "source": [
    "from pymgrid import Microgrid\n",
    "\n",
    "mic = Microgrid(module_list)\n",
    "mic.state_series"
   ]
  },
  {
   "cell_type": "code",
   "execution_count": 7,
   "id": "95a849e0-5d36-4dec-9f9b-97f6c91b53b5",
   "metadata": {},
   "outputs": [
    {
     "ename": "AttributeError",
     "evalue": "'function' object has no attribute 'items'",
     "output_type": "error",
     "traceback": [
      "\u001b[1;31m---------------------------------------------------------------------------\u001b[0m",
      "\u001b[1;31mAttributeError\u001b[0m                            Traceback (most recent call last)",
      "Cell \u001b[1;32mIn[7], line 1\u001b[0m\n\u001b[1;32m----> 1\u001b[0m env \u001b[38;5;241m=\u001b[39m ContinuousMicrogridEnv(module_list)\n",
      "File \u001b[1;32m~\\Documents\\GitHub\\smart-energy-community-platform\\model\\envs\\base\\base.py:87\u001b[0m, in \u001b[0;36mBaseMicrogridEnv.__init__\u001b[1;34m(self, modules, add_unbalanced_module, loss_load_cost, overgeneration_cost, flat_spaces, observation_keys, step_callback, reset_callback)\u001b[0m\n\u001b[0;32m     84\u001b[0m \u001b[38;5;28mself\u001b[39m\u001b[38;5;241m.\u001b[39mreset_callback \u001b[38;5;241m=\u001b[39m reset_callback \u001b[38;5;28;01mif\u001b[39;00m reset_callback \u001b[38;5;129;01mis\u001b[39;00m \u001b[38;5;129;01mnot\u001b[39;00m \u001b[38;5;28;01mNone\u001b[39;00m \u001b[38;5;28;01melse\u001b[39;00m \u001b[38;5;28;01mlambda\u001b[39;00m \u001b[38;5;241m*\u001b[39ma, \u001b[38;5;241m*\u001b[39m\u001b[38;5;241m*\u001b[39mk: \u001b[38;5;28;01mNone\u001b[39;00m\n\u001b[0;32m     86\u001b[0m \u001b[38;5;28mself\u001b[39m\u001b[38;5;241m.\u001b[39maction_space \u001b[38;5;241m=\u001b[39m \u001b[38;5;28mself\u001b[39m\u001b[38;5;241m.\u001b[39m_get_action_space()\n\u001b[1;32m---> 87\u001b[0m \u001b[38;5;28mself\u001b[39m\u001b[38;5;241m.\u001b[39mobservation_space, \u001b[38;5;28mself\u001b[39m\u001b[38;5;241m.\u001b[39m_nested_observation_space \u001b[38;5;241m=\u001b[39m \u001b[38;5;28mself\u001b[39m\u001b[38;5;241m.\u001b[39m_get_observation_space()\n",
      "File \u001b[1;32m~\\Documents\\GitHub\\smart-energy-community-platform\\model\\envs\\base\\base.py:131\u001b[0m, in \u001b[0;36mBaseMicrogridEnv._get_observation_space\u001b[1;34m(self)\u001b[0m\n\u001b[0;32m    128\u001b[0m \u001b[38;5;28;01mdef\u001b[39;00m \u001b[38;5;21m_get_observation_space\u001b[39m(\u001b[38;5;28mself\u001b[39m):\n\u001b[0;32m    129\u001b[0m     obs_space \u001b[38;5;241m=\u001b[39m {}\n\u001b[1;32m--> 131\u001b[0m     state_series \u001b[38;5;241m=\u001b[39m \u001b[38;5;28mself\u001b[39m\u001b[38;5;241m.\u001b[39mstate_series\n\u001b[0;32m    133\u001b[0m     \u001b[38;5;28;01mif\u001b[39;00m \u001b[38;5;28mself\u001b[39m\u001b[38;5;241m.\u001b[39mobservation_keys \u001b[38;5;129;01mis\u001b[39;00m \u001b[38;5;28;01mNone\u001b[39;00m \u001b[38;5;129;01mor\u001b[39;00m \u001b[38;5;28mlen\u001b[39m(\u001b[38;5;28mself\u001b[39m\u001b[38;5;241m.\u001b[39mobservation_keys) \u001b[38;5;241m==\u001b[39m \u001b[38;5;241m0\u001b[39m:\n\u001b[0;32m    134\u001b[0m         observation_keys \u001b[38;5;241m=\u001b[39m state_series\u001b[38;5;241m.\u001b[39mindex\u001b[38;5;241m.\u001b[39mget_level_values(\u001b[38;5;241m-\u001b[39m\u001b[38;5;241m1\u001b[39m)\n",
      "File \u001b[1;32mC:\\ProgramData\\anaconda3\\Lib\\site-packages\\pymgrid\\microgrid\\microgrid.py:834\u001b[0m, in \u001b[0;36mMicrogrid.__getattr__\u001b[1;34m(self, item)\u001b[0m\n\u001b[0;32m    831\u001b[0m \u001b[38;5;28;01mif\u001b[39;00m item \u001b[38;5;129;01min\u001b[39;00m \u001b[38;5;28mself\u001b[39m\u001b[38;5;241m.\u001b[39m_modules:\n\u001b[0;32m    832\u001b[0m     \u001b[38;5;28;01mreturn\u001b[39;00m \u001b[38;5;28mself\u001b[39m\u001b[38;5;241m.\u001b[39m_modules[item]\n\u001b[1;32m--> 834\u001b[0m \u001b[38;5;28;01mreturn\u001b[39;00m \u001b[38;5;28mobject\u001b[39m\u001b[38;5;241m.\u001b[39m\u001b[38;5;21m__getattribute__\u001b[39m(\u001b[38;5;28mself\u001b[39m, item)\n",
      "File \u001b[1;32mC:\\ProgramData\\anaconda3\\Lib\\site-packages\\pymgrid\\microgrid\\microgrid.py:571\u001b[0m, in \u001b[0;36mMicrogrid.state_series\u001b[1;34m(self)\u001b[0m\n\u001b[0;32m    554\u001b[0m \u001b[38;5;129m@property\u001b[39m\n\u001b[0;32m    555\u001b[0m \u001b[38;5;28;01mdef\u001b[39;00m \u001b[38;5;21mstate_series\u001b[39m(\u001b[38;5;28mself\u001b[39m):\n\u001b[0;32m    556\u001b[0m \u001b[38;5;250m    \u001b[39m\u001b[38;5;124;03m\"\"\"\u001b[39;00m\n\u001b[0;32m    557\u001b[0m \u001b[38;5;124;03m    State of the microgrid as a pandas Series.\u001b[39;00m\n\u001b[0;32m    558\u001b[0m \n\u001b[1;32m   (...)\u001b[0m\n\u001b[0;32m    566\u001b[0m \n\u001b[0;32m    567\u001b[0m \u001b[38;5;124;03m    \"\"\"\u001b[39;00m\n\u001b[0;32m    568\u001b[0m     \u001b[38;5;28;01mreturn\u001b[39;00m pd\u001b[38;5;241m.\u001b[39mSeries(\n\u001b[0;32m    569\u001b[0m         {\n\u001b[0;32m    570\u001b[0m             (name, num, key): value\n\u001b[1;32m--> 571\u001b[0m             \u001b[38;5;28;01mfor\u001b[39;00m name, sd_list \u001b[38;5;129;01min\u001b[39;00m \u001b[38;5;28mself\u001b[39m\u001b[38;5;241m.\u001b[39mstate_dict\u001b[38;5;241m.\u001b[39mitems()\n\u001b[0;32m    572\u001b[0m             \u001b[38;5;28;01mfor\u001b[39;00m num, sd \u001b[38;5;129;01min\u001b[39;00m \u001b[38;5;28menumerate\u001b[39m(sd_list)\n\u001b[0;32m    573\u001b[0m             \u001b[38;5;28;01mfor\u001b[39;00m key, value \u001b[38;5;129;01min\u001b[39;00m sd\u001b[38;5;241m.\u001b[39mitems()\n\u001b[0;32m    574\u001b[0m         }\n\u001b[0;32m    575\u001b[0m     )\n",
      "\u001b[1;31mAttributeError\u001b[0m: 'function' object has no attribute 'items'"
     ]
    }
   ],
   "source": [
    "env = ContinuousMicrogridEnv(module_list)"
   ]
  }
 ],
 "metadata": {
  "kernelspec": {
   "display_name": "Python (rec)",
   "language": "python",
   "name": "rec"
  },
  "language_info": {
   "codemirror_mode": {
    "name": "ipython",
    "version": 3
   },
   "file_extension": ".py",
   "mimetype": "text/x-python",
   "name": "python",
   "nbconvert_exporter": "python",
   "pygments_lexer": "ipython3",
   "version": "3.12.4"
  }
 },
 "nbformat": 4,
 "nbformat_minor": 5
}
