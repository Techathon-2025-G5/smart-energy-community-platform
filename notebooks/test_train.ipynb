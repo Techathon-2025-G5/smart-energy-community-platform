{
 "cells": [
  {
   "cell_type": "code",
   "execution_count": 1,
   "id": "2d5bbb73-a1c4-4f5b-bf1d-8b2438c6fcf2",
   "metadata": {},
   "outputs": [],
   "source": [
    "import sys\n",
    "import os\n",
    "\n",
    "sys.path.append(os.path.abspath(os.path.join(os.getcwd(), \"..\")))"
   ]
  },
  {
   "cell_type": "code",
   "execution_count": 2,
   "id": "f7ac1133-93c4-4323-89d1-a032456b7e73",
   "metadata": {},
   "outputs": [],
   "source": [
    "from model.rec_model import microgrid\n",
    "from model.envs import ContinuousMicrogridEnv"
   ]
  },
  {
   "cell_type": "code",
   "execution_count": 3,
   "id": "b81331ab-a4b0-4fa4-a627-da801ad80e09",
   "metadata": {},
   "outputs": [],
   "source": [
    "CONFIG_PATH = os.path.join(\"..\", \"config\", \"sample_setup.yaml\")"
   ]
  },
  {
   "cell_type": "code",
   "execution_count": 4,
   "id": "abd0468d-1348-46f1-9c09-94ac009935ea",
   "metadata": {},
   "outputs": [],
   "source": [
    "microgrid.setup(config=CONFIG_PATH)"
   ]
  },
  {
   "cell_type": "code",
   "execution_count": 9,
   "id": "2e68b6ca-f4e7-4cc4-a1be-682b2b2e5c79",
   "metadata": {},
   "outputs": [
    {
     "ename": "AttributeError",
     "evalue": "append",
     "output_type": "error",
     "traceback": [
      "\u001b[1;31m---------------------------------------------------------------------------\u001b[0m",
      "\u001b[1;31mAttributeError\u001b[0m                            Traceback (most recent call last)",
      "Cell \u001b[1;32mIn[9], line 1\u001b[0m\n\u001b[1;32m----> 1\u001b[0m env \u001b[38;5;241m=\u001b[39m ContinuousMicrogridEnv(microgrid\u001b[38;5;241m.\u001b[39mmicrogrid\u001b[38;5;241m.\u001b[39mmodules)\n",
      "File \u001b[1;32m~\\Documents\\GitHub\\smart-energy-community-platform\\model\\envs\\base\\base.py:83\u001b[0m, in \u001b[0;36mBaseMicrogridEnv.__init__\u001b[1;34m(self, modules, add_unbalanced_module, loss_load_cost, overgeneration_cost, flat_spaces, observation_keys, step_callback, reset_callback)\u001b[0m\n\u001b[0;32m     72\u001b[0m \u001b[38;5;28;01mdef\u001b[39;00m \u001b[38;5;21m__init__\u001b[39m(\u001b[38;5;28mself\u001b[39m,\n\u001b[0;32m     73\u001b[0m              modules,\n\u001b[0;32m     74\u001b[0m              add_unbalanced_module\u001b[38;5;241m=\u001b[39m\u001b[38;5;28;01mTrue\u001b[39;00m,\n\u001b[1;32m   (...)\u001b[0m\n\u001b[0;32m     80\u001b[0m              reset_callback\u001b[38;5;241m=\u001b[39m\u001b[38;5;28;01mNone\u001b[39;00m\n\u001b[0;32m     81\u001b[0m              ):\n\u001b[1;32m---> 83\u001b[0m     \u001b[38;5;28msuper\u001b[39m()\u001b[38;5;241m.\u001b[39m\u001b[38;5;21m__init__\u001b[39m(modules,\n\u001b[0;32m     84\u001b[0m                      add_unbalanced_module\u001b[38;5;241m=\u001b[39madd_unbalanced_module,\n\u001b[0;32m     85\u001b[0m                      loss_load_cost\u001b[38;5;241m=\u001b[39mloss_load_cost,\n\u001b[0;32m     86\u001b[0m                      overgeneration_cost\u001b[38;5;241m=\u001b[39movergeneration_cost)\n\u001b[0;32m     88\u001b[0m     \u001b[38;5;28mself\u001b[39m\u001b[38;5;241m.\u001b[39m_flat_spaces \u001b[38;5;241m=\u001b[39m flat_spaces\n\u001b[0;32m     89\u001b[0m     \u001b[38;5;28mself\u001b[39m\u001b[38;5;241m.\u001b[39mobservation_keys \u001b[38;5;241m=\u001b[39m \u001b[38;5;28mself\u001b[39m\u001b[38;5;241m.\u001b[39m_validate_observation_keys(observation_keys)\n",
      "File \u001b[1;32mC:\\ProgramData\\anaconda3\\Lib\\site-packages\\pymgrid\\microgrid\\microgrid.py:91\u001b[0m, in \u001b[0;36mMicrogrid.__init__\u001b[1;34m(self, modules, add_unbalanced_module, loss_load_cost, overgeneration_cost)\u001b[0m\n\u001b[0;32m     86\u001b[0m \u001b[38;5;28;01mdef\u001b[39;00m \u001b[38;5;21m__init__\u001b[39m(\u001b[38;5;28mself\u001b[39m,\n\u001b[0;32m     87\u001b[0m              modules,\n\u001b[0;32m     88\u001b[0m              add_unbalanced_module\u001b[38;5;241m=\u001b[39m\u001b[38;5;28;01mTrue\u001b[39;00m,\n\u001b[0;32m     89\u001b[0m              loss_load_cost\u001b[38;5;241m=\u001b[39m\u001b[38;5;241m10.\u001b[39m,\n\u001b[0;32m     90\u001b[0m              overgeneration_cost\u001b[38;5;241m=\u001b[39m\u001b[38;5;241m2.\u001b[39m):\n\u001b[1;32m---> 91\u001b[0m     \u001b[38;5;28mself\u001b[39m\u001b[38;5;241m.\u001b[39m_modules \u001b[38;5;241m=\u001b[39m \u001b[38;5;28mself\u001b[39m\u001b[38;5;241m.\u001b[39m_get_module_container(modules,\n\u001b[0;32m     92\u001b[0m                                                add_unbalanced_module,\n\u001b[0;32m     93\u001b[0m                                                loss_load_cost,\n\u001b[0;32m     94\u001b[0m                                                overgeneration_cost)\n\u001b[0;32m     96\u001b[0m     \u001b[38;5;28mself\u001b[39m\u001b[38;5;241m.\u001b[39m_balance_logger \u001b[38;5;241m=\u001b[39m ModularLogger()\n\u001b[0;32m     97\u001b[0m     \u001b[38;5;28mself\u001b[39m\u001b[38;5;241m.\u001b[39m_microgrid_logger \u001b[38;5;241m=\u001b[39m ModularLogger()\n",
      "File \u001b[1;32mC:\\ProgramData\\anaconda3\\Lib\\site-packages\\pymgrid\\microgrid\\microgrid.py:140\u001b[0m, in \u001b[0;36mMicrogrid._get_module_container\u001b[1;34m(self, modules, add_unbalanced_module, loss_load_cost, overgeneration_cost)\u001b[0m\n\u001b[0;32m    137\u001b[0m     \u001b[38;5;28;01mraise\u001b[39;00m \u001b[38;5;167;01mTypeError\u001b[39;00m(\u001b[38;5;124m\"\u001b[39m\u001b[38;5;124mmodules must be list-like of modules.\u001b[39m\u001b[38;5;124m\"\u001b[39m)\n\u001b[0;32m    139\u001b[0m \u001b[38;5;28;01mif\u001b[39;00m add_unbalanced_module:\n\u001b[1;32m--> 140\u001b[0m     modules\u001b[38;5;241m.\u001b[39mappend(\u001b[38;5;28mself\u001b[39m\u001b[38;5;241m.\u001b[39m_get_unbalanced_energy_module(loss_load_cost, overgeneration_cost))\n\u001b[0;32m    142\u001b[0m \u001b[38;5;28;01mreturn\u001b[39;00m ModuleContainer(modules)\n",
      "File \u001b[1;32mC:\\ProgramData\\anaconda3\\Lib\\site-packages\\pymgrid\\modules\\module_container.py:118\u001b[0m, in \u001b[0;36mContainer.__getattr__\u001b[1;34m(self, item)\u001b[0m\n\u001b[0;32m    116\u001b[0m \u001b[38;5;28;01mdef\u001b[39;00m \u001b[38;5;21m__getattr__\u001b[39m(\u001b[38;5;28mself\u001b[39m, item):\n\u001b[0;32m    117\u001b[0m     \u001b[38;5;28;01mif\u001b[39;00m item \u001b[38;5;241m==\u001b[39m \u001b[38;5;124m'\u001b[39m\u001b[38;5;124mdata\u001b[39m\u001b[38;5;124m'\u001b[39m \u001b[38;5;129;01mor\u001b[39;00m item\u001b[38;5;241m.\u001b[39mstartswith(\u001b[38;5;124m'\u001b[39m\u001b[38;5;124m__\u001b[39m\u001b[38;5;124m'\u001b[39m) \u001b[38;5;129;01mor\u001b[39;00m item \u001b[38;5;129;01mnot\u001b[39;00m \u001b[38;5;129;01min\u001b[39;00m \u001b[38;5;28mdir\u001b[39m(\u001b[38;5;28mself\u001b[39m):\n\u001b[1;32m--> 118\u001b[0m         \u001b[38;5;28;01mraise\u001b[39;00m \u001b[38;5;167;01mAttributeError\u001b[39;00m(item)\n\u001b[0;32m    119\u001b[0m     \u001b[38;5;28;01mtry\u001b[39;00m:\n\u001b[0;32m    120\u001b[0m         \u001b[38;5;28;01mreturn\u001b[39;00m \u001b[38;5;28mself\u001b[39m[item]\n",
      "\u001b[1;31mAttributeError\u001b[0m: append"
     ]
    }
   ],
   "source": [
    "env = ContinuousMicrogridEnv(microgrid.microgrid.modules)"
   ]
  },
  {
   "cell_type": "code",
   "execution_count": 33,
   "id": "bd658bd3-3d07-4f76-a623-45a41bd00e16",
   "metadata": {},
   "outputs": [],
   "source": [
    "from gym.spaces import Box, Dict, Tuple, flatten_space"
   ]
  },
  {
   "cell_type": "code",
   "execution_count": 41,
   "id": "22ecc9f0-b40d-4649-862f-74c83fffc3ae",
   "metadata": {},
   "outputs": [
    {
     "data": {
      "text/plain": [
       "Dict('battery': Tuple(Box(0.0, 1.0, (1,), float64), Box(0.0, 1.0, (1,), float64)), 'grid': Tuple(Box(0.0, 1.0, (1,), float64)))"
      ]
     },
     "execution_count": 41,
     "metadata": {},
     "output_type": "execute_result"
    }
   ],
   "source": [
    "nested_action_space = Dict({name: Tuple([module.action_space['normalized'] for module in modules_list])\n",
    "                                 for name, modules_list in microgrid.microgrid.modules.controllable.iterdict()})\n",
    "nested_action_space"
   ]
  },
  {
   "cell_type": "code",
   "execution_count": 45,
   "id": "75ecc294-4fda-4629-b78e-0eb571c6603f",
   "metadata": {},
   "outputs": [
    {
     "data": {
      "text/plain": [
       "Box(0.0, 1.0, (3,), float64)"
      ]
     },
     "execution_count": 45,
     "metadata": {},
     "output_type": "execute_result"
    }
   ],
   "source": [
    "flatten_space(nested_action_space)"
   ]
  },
  {
   "cell_type": "code",
   "execution_count": 29,
   "id": "c857de1e-6b16-4ddb-9bbc-e8393dbf6905",
   "metadata": {},
   "outputs": [
    {
     "ename": "ValueError",
     "evalue": "need at least one array to concatenate",
     "output_type": "error",
     "traceback": [
      "\u001b[1;31m---------------------------------------------------------------------------\u001b[0m",
      "\u001b[1;31mValueError\u001b[0m                                Traceback (most recent call last)",
      "Cell \u001b[1;32mIn[29], line 1\u001b[0m\n\u001b[1;32m----> 1\u001b[0m env \u001b[38;5;241m=\u001b[39m ContinuousMicrogridEnv(microgrid\u001b[38;5;241m.\u001b[39mmicrogrid\u001b[38;5;241m.\u001b[39mmodules\u001b[38;5;241m.\u001b[39mto_tuples())\n",
      "File \u001b[1;32mC:\\ProgramData\\anaconda3\\Lib\\site-packages\\pymgrid\\envs\\base\\base.py:82\u001b[0m, in \u001b[0;36mBaseMicrogridEnv.__init__\u001b[1;34m(self, modules, add_unbalanced_module, loss_load_cost, overgeneration_cost, flat_spaces)\u001b[0m\n\u001b[0;32m     76\u001b[0m \u001b[38;5;28msuper\u001b[39m()\u001b[38;5;241m.\u001b[39m\u001b[38;5;21m__init__\u001b[39m(modules,\n\u001b[0;32m     77\u001b[0m                  add_unbalanced_module\u001b[38;5;241m=\u001b[39madd_unbalanced_module,\n\u001b[0;32m     78\u001b[0m                  loss_load_cost\u001b[38;5;241m=\u001b[39mloss_load_cost,\n\u001b[0;32m     79\u001b[0m                  overgeneration_cost\u001b[38;5;241m=\u001b[39movergeneration_cost)\n\u001b[0;32m     81\u001b[0m \u001b[38;5;28mself\u001b[39m\u001b[38;5;241m.\u001b[39m_flat_spaces \u001b[38;5;241m=\u001b[39m flat_spaces\n\u001b[1;32m---> 82\u001b[0m \u001b[38;5;28mself\u001b[39m\u001b[38;5;241m.\u001b[39maction_space \u001b[38;5;241m=\u001b[39m \u001b[38;5;28mself\u001b[39m\u001b[38;5;241m.\u001b[39m_get_action_space()\n\u001b[0;32m     83\u001b[0m \u001b[38;5;28mself\u001b[39m\u001b[38;5;241m.\u001b[39mobservation_space, \u001b[38;5;28mself\u001b[39m\u001b[38;5;241m.\u001b[39m_nested_observation_space \u001b[38;5;241m=\u001b[39m \u001b[38;5;28mself\u001b[39m\u001b[38;5;241m.\u001b[39m_get_observation_space()\n",
      "File \u001b[1;32mC:\\ProgramData\\anaconda3\\Lib\\site-packages\\pymgrid\\envs\\continuous\\continuous.py:55\u001b[0m, in \u001b[0;36mContinuousMicrogridEnv._get_action_space\u001b[1;34m(self)\u001b[0m\n\u001b[0;32m     53\u001b[0m \u001b[38;5;28;01mdef\u001b[39;00m \u001b[38;5;21m_get_action_space\u001b[39m(\u001b[38;5;28mself\u001b[39m):\n\u001b[0;32m     54\u001b[0m     \u001b[38;5;28mself\u001b[39m\u001b[38;5;241m.\u001b[39m_nested_action_space \u001b[38;5;241m=\u001b[39m \u001b[38;5;28mself\u001b[39m\u001b[38;5;241m.\u001b[39m_get_nested_action_space()\n\u001b[1;32m---> 55\u001b[0m     \u001b[38;5;28;01mreturn\u001b[39;00m flatten_space(\u001b[38;5;28mself\u001b[39m\u001b[38;5;241m.\u001b[39m_nested_action_space) \u001b[38;5;28;01mif\u001b[39;00m \u001b[38;5;28mself\u001b[39m\u001b[38;5;241m.\u001b[39m_flat_spaces \u001b[38;5;28;01melse\u001b[39;00m \u001b[38;5;28mself\u001b[39m\u001b[38;5;241m.\u001b[39m_nested_action_space\n",
      "File \u001b[1;32mC:\\ProgramData\\anaconda3\\Lib\\functools.py:909\u001b[0m, in \u001b[0;36msingledispatch.<locals>.wrapper\u001b[1;34m(*args, **kw)\u001b[0m\n\u001b[0;32m    905\u001b[0m \u001b[38;5;28;01mif\u001b[39;00m \u001b[38;5;129;01mnot\u001b[39;00m args:\n\u001b[0;32m    906\u001b[0m     \u001b[38;5;28;01mraise\u001b[39;00m \u001b[38;5;167;01mTypeError\u001b[39;00m(\u001b[38;5;124mf\u001b[39m\u001b[38;5;124m'\u001b[39m\u001b[38;5;132;01m{\u001b[39;00mfuncname\u001b[38;5;132;01m}\u001b[39;00m\u001b[38;5;124m requires at least \u001b[39m\u001b[38;5;124m'\u001b[39m\n\u001b[0;32m    907\u001b[0m                     \u001b[38;5;124m'\u001b[39m\u001b[38;5;124m1 positional argument\u001b[39m\u001b[38;5;124m'\u001b[39m)\n\u001b[1;32m--> 909\u001b[0m \u001b[38;5;28;01mreturn\u001b[39;00m dispatch(args[\u001b[38;5;241m0\u001b[39m]\u001b[38;5;241m.\u001b[39m\u001b[38;5;18m__class__\u001b[39m)(\u001b[38;5;241m*\u001b[39margs, \u001b[38;5;241m*\u001b[39m\u001b[38;5;241m*\u001b[39mkw)\n",
      "File \u001b[1;32mC:\\ProgramData\\anaconda3\\Lib\\site-packages\\gym\\spaces\\utils.py:420\u001b[0m, in \u001b[0;36m_flatten_space_dict\u001b[1;34m(space)\u001b[0m\n\u001b[0;32m    417\u001b[0m \u001b[38;5;28;01mif\u001b[39;00m space\u001b[38;5;241m.\u001b[39mis_np_flattenable:\n\u001b[0;32m    418\u001b[0m     space_list \u001b[38;5;241m=\u001b[39m [flatten_space(s) \u001b[38;5;28;01mfor\u001b[39;00m s \u001b[38;5;129;01min\u001b[39;00m space\u001b[38;5;241m.\u001b[39mspaces\u001b[38;5;241m.\u001b[39mvalues()]\n\u001b[0;32m    419\u001b[0m     \u001b[38;5;28;01mreturn\u001b[39;00m Box(\n\u001b[1;32m--> 420\u001b[0m         low\u001b[38;5;241m=\u001b[39mnp\u001b[38;5;241m.\u001b[39mconcatenate([s\u001b[38;5;241m.\u001b[39mlow \u001b[38;5;28;01mfor\u001b[39;00m s \u001b[38;5;129;01min\u001b[39;00m space_list]),\n\u001b[0;32m    421\u001b[0m         high\u001b[38;5;241m=\u001b[39mnp\u001b[38;5;241m.\u001b[39mconcatenate([s\u001b[38;5;241m.\u001b[39mhigh \u001b[38;5;28;01mfor\u001b[39;00m s \u001b[38;5;129;01min\u001b[39;00m space_list]),\n\u001b[0;32m    422\u001b[0m         dtype\u001b[38;5;241m=\u001b[39mnp\u001b[38;5;241m.\u001b[39mresult_type(\u001b[38;5;241m*\u001b[39m[s\u001b[38;5;241m.\u001b[39mdtype \u001b[38;5;28;01mfor\u001b[39;00m s \u001b[38;5;129;01min\u001b[39;00m space_list]),\n\u001b[0;32m    423\u001b[0m     )\n\u001b[0;32m    424\u001b[0m \u001b[38;5;28;01mreturn\u001b[39;00m Dict(\n\u001b[0;32m    425\u001b[0m     spaces\u001b[38;5;241m=\u001b[39mOrderedDict(\n\u001b[0;32m    426\u001b[0m         (key, flatten_space(space)) \u001b[38;5;28;01mfor\u001b[39;00m key, space \u001b[38;5;129;01min\u001b[39;00m space\u001b[38;5;241m.\u001b[39mspaces\u001b[38;5;241m.\u001b[39mitems()\n\u001b[0;32m    427\u001b[0m     )\n\u001b[0;32m    428\u001b[0m )\n",
      "\u001b[1;31mValueError\u001b[0m: need at least one array to concatenate"
     ]
    }
   ],
   "source": [
    "env = ContinuousMicrogridEnv(microgrid.microgrid.modules.to_tuples())"
   ]
  }
 ],
 "metadata": {
  "kernelspec": {
   "display_name": "Python (rec)",
   "language": "python",
   "name": "rec"
  },
  "language_info": {
   "codemirror_mode": {
    "name": "ipython",
    "version": 3
   },
   "file_extension": ".py",
   "mimetype": "text/x-python",
   "name": "python",
   "nbconvert_exporter": "python",
   "pygments_lexer": "ipython3",
   "version": "3.12.4"
  }
 },
 "nbformat": 4,
 "nbformat_minor": 5
}
