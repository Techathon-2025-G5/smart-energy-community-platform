{
 "cells": [
  {
   "cell_type": "code",
   "execution_count": 1,
   "id": "14d84a30-5d04-42fc-a528-a6d50873cbd7",
   "metadata": {},
   "outputs": [],
   "source": [
    "from rec_model import microgrid\n",
    "import os"
   ]
  },
  {
   "cell_type": "code",
   "execution_count": 2,
   "id": "0bdaf086-41cc-4c25-be27-f3b59ca46d4c",
   "metadata": {},
   "outputs": [],
   "source": [
    "CONFIG_PATH = os.path.join(\"..\", \"config\", \"sample_setup.yaml\")"
   ]
  },
  {
   "cell_type": "code",
   "execution_count": 3,
   "id": "9f3841dd-9498-41d7-95e9-616ccce0baff",
   "metadata": {},
   "outputs": [],
   "source": [
    "microgrid.setup(config=CONFIG_PATH)"
   ]
  },
  {
   "cell_type": "code",
   "execution_count": 4,
   "id": "bbd453dc-fb9f-44bc-a6fe-6926bc29a693",
   "metadata": {},
   "outputs": [
    {
     "data": {
      "text/plain": [
       "[{'id': 'load_0', 'type': 'LoadModule'},\n",
       " {'id': 'renewable_0', 'type': 'RenewableModule'},\n",
       " {'id': 'balancing_0', 'type': 'UnbalancedEnergyModule'},\n",
       " {'id': 'grid_0', 'type': 'GridModule'},\n",
       " {'id': 'battery_0', 'type': 'BatteryModule'}]"
      ]
     },
     "execution_count": 4,
     "metadata": {},
     "output_type": "execute_result"
    }
   ],
   "source": [
    "microgrid.get_components()"
   ]
  },
  {
   "cell_type": "code",
   "execution_count": 5,
   "id": "0e65849b-67fc-462c-947d-d6b2e63b0cc0",
   "metadata": {},
   "outputs": [
    {
     "data": {
      "text/plain": [
       "{'grid': [None], 'battery': [None]}"
      ]
     },
     "execution_count": 5,
     "metadata": {},
     "output_type": "execute_result"
    }
   ],
   "source": [
    "microgrid.get_actions()"
   ]
  },
  {
   "cell_type": "code",
   "execution_count": 6,
   "id": "9e6e88ec-34bb-481f-9c63-eaaa6626be40",
   "metadata": {},
   "outputs": [],
   "source": [
    "microgrid.reset()"
   ]
  },
  {
   "cell_type": "code",
   "execution_count": 7,
   "id": "0797c9d0-7b73-48c1-abab-6403ca03ca92",
   "metadata": {
    "scrolled": true
   },
   "outputs": [
    {
     "data": {
      "text/plain": [
       "{'load': [{'load_current': -1.2}],\n",
       " 'renewable': [{'renewable_current': 0.8}],\n",
       " 'balancing': [{}],\n",
       " 'grid': [{'import_price_current': 0.21,\n",
       "   'export_price_current': 0.11,\n",
       "   'co2_per_kwh_current': 0.5,\n",
       "   'grid_status_current': 1.0}],\n",
       " 'battery': [{'soc': 0.5, 'current_charge': 25.0}]}"
      ]
     },
     "execution_count": 7,
     "metadata": {},
     "output_type": "execute_result"
    }
   ],
   "source": [
    "microgrid.get_status()"
   ]
  },
  {
   "cell_type": "code",
   "execution_count": 15,
   "id": "0506275f-3e31-4622-bdfa-416af591138b",
   "metadata": {},
   "outputs": [],
   "source": [
    "control = {\n",
    "    \"battery\" : [0.0],\n",
    "    \"grid\": [0.0]\n",
    "}\n",
    "result = microgrid.run(control)"
   ]
  },
  {
   "cell_type": "code",
   "execution_count": 21,
   "id": "f85cd8aa-499b-42a0-8550-9baef88b03b8",
   "metadata": {},
   "outputs": [
    {
     "data": {
      "text/html": [
       "<div>\n",
       "<style scoped>\n",
       "    .dataframe tbody tr th:only-of-type {\n",
       "        vertical-align: middle;\n",
       "    }\n",
       "\n",
       "    .dataframe tbody tr th {\n",
       "        vertical-align: top;\n",
       "    }\n",
       "\n",
       "    .dataframe thead tr th {\n",
       "        text-align: left;\n",
       "    }\n",
       "</style>\n",
       "<table border=\"1\" class=\"dataframe\">\n",
       "  <thead>\n",
       "    <tr>\n",
       "      <th>module_name</th>\n",
       "      <th colspan=\"3\" halign=\"left\">load</th>\n",
       "      <th colspan=\"4\" halign=\"left\">renewable</th>\n",
       "      <th colspan=\"3\" halign=\"left\">balancing</th>\n",
       "      <th>...</th>\n",
       "      <th colspan=\"3\" halign=\"left\">battery</th>\n",
       "      <th colspan=\"7\" halign=\"left\">balance</th>\n",
       "    </tr>\n",
       "    <tr>\n",
       "      <th>module_number</th>\n",
       "      <th colspan=\"3\" halign=\"left\">0</th>\n",
       "      <th colspan=\"4\" halign=\"left\">0</th>\n",
       "      <th colspan=\"3\" halign=\"left\">0</th>\n",
       "      <th>...</th>\n",
       "      <th colspan=\"3\" halign=\"left\">0</th>\n",
       "      <th colspan=\"7\" halign=\"left\">0</th>\n",
       "    </tr>\n",
       "    <tr>\n",
       "      <th>field</th>\n",
       "      <th>reward</th>\n",
       "      <th>load_met</th>\n",
       "      <th>load_current</th>\n",
       "      <th>reward</th>\n",
       "      <th>curtailment</th>\n",
       "      <th>renewable_used</th>\n",
       "      <th>renewable_current</th>\n",
       "      <th>reward</th>\n",
       "      <th>loss_load</th>\n",
       "      <th>overgeneration</th>\n",
       "      <th>...</th>\n",
       "      <th>charge_amount</th>\n",
       "      <th>soc</th>\n",
       "      <th>current_charge</th>\n",
       "      <th>reward</th>\n",
       "      <th>overall_provided_to_microgrid</th>\n",
       "      <th>overall_absorbed_from_microgrid</th>\n",
       "      <th>controllable_provided_to_microgrid</th>\n",
       "      <th>controllable_absorbed_from_microgrid</th>\n",
       "      <th>fixed_provided_to_microgrid</th>\n",
       "      <th>fixed_absorbed_from_microgrid</th>\n",
       "    </tr>\n",
       "  </thead>\n",
       "  <tbody>\n",
       "    <tr>\n",
       "      <th>0</th>\n",
       "      <td>0.0</td>\n",
       "      <td>1.2</td>\n",
       "      <td>-1.2</td>\n",
       "      <td>0.0</td>\n",
       "      <td>0.0</td>\n",
       "      <td>0.8</td>\n",
       "      <td>0.8</td>\n",
       "      <td>-4.0</td>\n",
       "      <td>0.4</td>\n",
       "      <td>0.0</td>\n",
       "      <td>...</td>\n",
       "      <td>0.0</td>\n",
       "      <td>0.5</td>\n",
       "      <td>25.0</td>\n",
       "      <td>-4.0</td>\n",
       "      <td>1.2</td>\n",
       "      <td>1.2</td>\n",
       "      <td>0.0</td>\n",
       "      <td>0.0</td>\n",
       "      <td>0.0</td>\n",
       "      <td>1.2</td>\n",
       "    </tr>\n",
       "  </tbody>\n",
       "</table>\n",
       "<p>1 rows × 30 columns</p>\n",
       "</div>"
      ],
      "text/plain": [
       "module_name     load                       renewable              \\\n",
       "module_number      0                               0               \n",
       "field         reward load_met load_current    reward curtailment   \n",
       "0                0.0      1.2         -1.2       0.0         0.0   \n",
       "\n",
       "module_name                                    balancing            \\\n",
       "module_number                                          0             \n",
       "field         renewable_used renewable_current    reward loss_load   \n",
       "0                        0.8               0.8      -4.0       0.4   \n",
       "\n",
       "module_name                   ...       battery                     balance  \\\n",
       "module_number                 ...             0                           0   \n",
       "field         overgeneration  ... charge_amount  soc current_charge  reward   \n",
       "0                        0.0  ...           0.0  0.5           25.0    -4.0   \n",
       "\n",
       "module_name                                                                  \\\n",
       "module_number                                                                 \n",
       "field         overall_provided_to_microgrid overall_absorbed_from_microgrid   \n",
       "0                                       1.2                             1.2   \n",
       "\n",
       "module_name                                       \\\n",
       "module_number                                      \n",
       "field         controllable_provided_to_microgrid   \n",
       "0                                            0.0   \n",
       "\n",
       "module_name                                         \\\n",
       "module_number                                        \n",
       "field         controllable_absorbed_from_microgrid   \n",
       "0                                              0.0   \n",
       "\n",
       "module_name                                                              \n",
       "module_number                                                            \n",
       "field         fixed_provided_to_microgrid fixed_absorbed_from_microgrid  \n",
       "0                                     0.0                           1.2  \n",
       "\n",
       "[1 rows x 30 columns]"
      ]
     },
     "execution_count": 21,
     "metadata": {},
     "output_type": "execute_result"
    }
   ],
   "source": [
    "microgrid.microgrid.log"
   ]
  },
  {
   "cell_type": "code",
   "execution_count": 19,
   "id": "84b9fa99-cd3c-40ed-9799-2f860295df21",
   "metadata": {},
   "outputs": [
    {
     "data": {
      "text/plain": [
       "{'observation': {'load': [0.24999999999999994],\n",
       "  'grid': [array([0.10526316, 0.10526316, 0.        , 0.        ])],\n",
       "  'battery': [array([0.5, 0.5])],\n",
       "  'renewable': [0.8749999999999999],\n",
       "  'balancing': [array([], dtype=float64)]},\n",
       " 'reward': -3.999999999999999,\n",
       " 'done': False,\n",
       " 'info': {'load': [('absorbed_energy', 1.2)],\n",
       "  'grid': [('provided_energy', 0.0), ('co2_production', 0.0)],\n",
       "  'battery': [('provided_energy', 0.0)],\n",
       "  'renewable': [('provided_energy', 0.8), ('curtailment', 0.0)],\n",
       "  'balancing': [('provided_energy', 0.3999999999999999)]}}"
      ]
     },
     "execution_count": 19,
     "metadata": {},
     "output_type": "execute_result"
    }
   ],
   "source": [
    "result"
   ]
  },
  {
   "cell_type": "code",
   "execution_count": 17,
   "id": "e8a07f3e-dc25-48b4-ae6c-2d69b9a13d00",
   "metadata": {},
   "outputs": [
    {
     "data": {
      "text/plain": [
       "{'load': [{'load_current': -0.9}],\n",
       " 'renewable': [{'renewable_current': 0.7}],\n",
       " 'balancing': [{}],\n",
       " 'grid': [{'import_price_current': 0.22,\n",
       "   'export_price_current': 0.12,\n",
       "   'co2_per_kwh_current': 0.5,\n",
       "   'grid_status_current': 1.0}],\n",
       " 'battery': [{'soc': 0.5, 'current_charge': 25.0}]}"
      ]
     },
     "execution_count": 17,
     "metadata": {},
     "output_type": "execute_result"
    }
   ],
   "source": [
    "microgrid.get_status()"
   ]
  },
  {
   "cell_type": "code",
   "execution_count": 23,
   "id": "a6025188-6c15-478b-9c83-346c6858613f",
   "metadata": {},
   "outputs": [],
   "source": [
    "control = {\n",
    "    \"battery\" : [0.0],\n",
    "    \"grid\": [0.3]\n",
    "}\n",
    "result = microgrid.run(control)"
   ]
  },
  {
   "cell_type": "code",
   "execution_count": 25,
   "id": "71de1835-adda-481e-b17d-dc160621179b",
   "metadata": {},
   "outputs": [
    {
     "data": {
      "text/plain": [
       "{'observation': {'load': [0.08333333333333323],\n",
       "  'grid': [array([0.15789474, 0.15789474, 0.        , 0.        ])],\n",
       "  'battery': [array([0.5, 0.5])],\n",
       "  'renewable': [0.5],\n",
       "  'balancing': [array([], dtype=float64)]},\n",
       " 'reward': -0.066,\n",
       " 'done': False,\n",
       " 'info': {'load': [('absorbed_energy', 0.9)],\n",
       "  'grid': [('provided_energy', 0.3), ('co2_production', 0.15)],\n",
       "  'battery': [('provided_energy', 0.0)],\n",
       "  'renewable': [('provided_energy', 0.6000000000000001),\n",
       "   ('curtailment', 0.09999999999999987)],\n",
       "  'balancing': [('provided_energy', 0.0)]}}"
      ]
     },
     "execution_count": 25,
     "metadata": {},
     "output_type": "execute_result"
    }
   ],
   "source": [
    "result"
   ]
  },
  {
   "cell_type": "code",
   "execution_count": 27,
   "id": "7dee6090-1181-44ae-908c-2a2d577c03eb",
   "metadata": {},
   "outputs": [
    {
     "data": {
      "text/plain": [
       "{'load': [{'load_current': -1.1}],\n",
       " 'renewable': [{'renewable_current': 0.4}],\n",
       " 'balancing': [{}],\n",
       " 'grid': [{'import_price_current': 0.23,\n",
       "   'export_price_current': 0.13,\n",
       "   'co2_per_kwh_current': 0.5,\n",
       "   'grid_status_current': 1.0}],\n",
       " 'battery': [{'soc': 0.5, 'current_charge': 25.0}]}"
      ]
     },
     "execution_count": 27,
     "metadata": {},
     "output_type": "execute_result"
    }
   ],
   "source": [
    "microgrid.get_status()"
   ]
  },
  {
   "cell_type": "code",
   "execution_count": 29,
   "id": "d40a7105-d3f4-4bbb-892a-2e1722c95530",
   "metadata": {},
   "outputs": [
    {
     "data": {
      "text/plain": [
       "{'observation': {'load': [0.16666666666666663],\n",
       "  'grid': [array([0.21052632, 0.21052632, 0.        , 0.        ])],\n",
       "  'battery': [array([0.48526316, 0.48526316])],\n",
       "  'renewable': [0.625],\n",
       "  'balancing': [array([], dtype=float64)]},\n",
       " 'reward': -1.1102230246251565e-15,\n",
       " 'done': False,\n",
       " 'info': {'load': [('absorbed_energy', 1.1)],\n",
       "  'grid': [('provided_energy', 0.0), ('co2_production', 0.0)],\n",
       "  'battery': [('provided_energy', 0.7)],\n",
       "  'renewable': [('provided_energy', 0.4), ('curtailment', 0.0)],\n",
       "  'balancing': [('provided_energy', 1.1102230246251565e-16)]}}"
      ]
     },
     "execution_count": 29,
     "metadata": {},
     "output_type": "execute_result"
    }
   ],
   "source": [
    "control = {\n",
    "    \"battery\" : [0.7],\n",
    "    \"grid\": [0.0]\n",
    "}\n",
    "result = microgrid.run(control)\n",
    "result"
   ]
  },
  {
   "cell_type": "code",
   "execution_count": 31,
   "id": "a4fbc140-8458-4fc6-8cec-4fd8ee5c1803",
   "metadata": {},
   "outputs": [
    {
     "data": {
      "text/plain": [
       "{'load': [{'load_current': -1.0}],\n",
       " 'renewable': [{'renewable_current': 0.5}],\n",
       " 'balancing': [{}],\n",
       " 'grid': [{'import_price_current': 0.24,\n",
       "   'export_price_current': 0.14,\n",
       "   'co2_per_kwh_current': 0.5,\n",
       "   'grid_status_current': 1.0}],\n",
       " 'battery': [{'soc': 0.48526315789473684,\n",
       "   'current_charge': 24.263157894736842}]}"
      ]
     },
     "execution_count": 31,
     "metadata": {},
     "output_type": "execute_result"
    }
   ],
   "source": [
    "microgrid.get_status()"
   ]
  },
  {
   "cell_type": "code",
   "execution_count": 39,
   "id": "340cc08a-4492-44a0-a5ff-5ba87b235a2d",
   "metadata": {},
   "outputs": [
    {
     "data": {
      "text/html": [
       "<div>\n",
       "<style scoped>\n",
       "    .dataframe tbody tr th:only-of-type {\n",
       "        vertical-align: middle;\n",
       "    }\n",
       "\n",
       "    .dataframe tbody tr th {\n",
       "        vertical-align: top;\n",
       "    }\n",
       "\n",
       "    .dataframe thead tr th {\n",
       "        text-align: left;\n",
       "    }\n",
       "</style>\n",
       "<table border=\"1\" class=\"dataframe\">\n",
       "  <thead>\n",
       "    <tr>\n",
       "      <th>module_name</th>\n",
       "      <th colspan=\"3\" halign=\"left\">load</th>\n",
       "      <th colspan=\"4\" halign=\"left\">renewable</th>\n",
       "      <th colspan=\"3\" halign=\"left\">balancing</th>\n",
       "      <th>...</th>\n",
       "      <th colspan=\"3\" halign=\"left\">battery</th>\n",
       "      <th colspan=\"7\" halign=\"left\">balance</th>\n",
       "    </tr>\n",
       "    <tr>\n",
       "      <th>module_number</th>\n",
       "      <th colspan=\"3\" halign=\"left\">0</th>\n",
       "      <th colspan=\"4\" halign=\"left\">0</th>\n",
       "      <th colspan=\"3\" halign=\"left\">0</th>\n",
       "      <th>...</th>\n",
       "      <th colspan=\"3\" halign=\"left\">0</th>\n",
       "      <th colspan=\"7\" halign=\"left\">0</th>\n",
       "    </tr>\n",
       "    <tr>\n",
       "      <th>field</th>\n",
       "      <th>reward</th>\n",
       "      <th>load_met</th>\n",
       "      <th>load_current</th>\n",
       "      <th>reward</th>\n",
       "      <th>curtailment</th>\n",
       "      <th>renewable_used</th>\n",
       "      <th>renewable_current</th>\n",
       "      <th>reward</th>\n",
       "      <th>loss_load</th>\n",
       "      <th>overgeneration</th>\n",
       "      <th>...</th>\n",
       "      <th>charge_amount</th>\n",
       "      <th>soc</th>\n",
       "      <th>current_charge</th>\n",
       "      <th>reward</th>\n",
       "      <th>overall_provided_to_microgrid</th>\n",
       "      <th>overall_absorbed_from_microgrid</th>\n",
       "      <th>controllable_provided_to_microgrid</th>\n",
       "      <th>controllable_absorbed_from_microgrid</th>\n",
       "      <th>fixed_provided_to_microgrid</th>\n",
       "      <th>fixed_absorbed_from_microgrid</th>\n",
       "    </tr>\n",
       "  </thead>\n",
       "  <tbody>\n",
       "    <tr>\n",
       "      <th>0</th>\n",
       "      <td>0.0</td>\n",
       "      <td>1.2</td>\n",
       "      <td>-1.2</td>\n",
       "      <td>0.0</td>\n",
       "      <td>0.0</td>\n",
       "      <td>0.8</td>\n",
       "      <td>0.8</td>\n",
       "      <td>-4.000000e+00</td>\n",
       "      <td>4.000000e-01</td>\n",
       "      <td>0.0</td>\n",
       "      <td>...</td>\n",
       "      <td>0.0</td>\n",
       "      <td>0.5</td>\n",
       "      <td>25.0</td>\n",
       "      <td>-4.000000e+00</td>\n",
       "      <td>1.2</td>\n",
       "      <td>1.2</td>\n",
       "      <td>0.0</td>\n",
       "      <td>0.0</td>\n",
       "      <td>0.0</td>\n",
       "      <td>1.2</td>\n",
       "    </tr>\n",
       "    <tr>\n",
       "      <th>1</th>\n",
       "      <td>0.0</td>\n",
       "      <td>0.9</td>\n",
       "      <td>-0.9</td>\n",
       "      <td>0.0</td>\n",
       "      <td>0.1</td>\n",
       "      <td>0.6</td>\n",
       "      <td>0.7</td>\n",
       "      <td>-0.000000e+00</td>\n",
       "      <td>0.000000e+00</td>\n",
       "      <td>0.0</td>\n",
       "      <td>...</td>\n",
       "      <td>0.0</td>\n",
       "      <td>0.5</td>\n",
       "      <td>25.0</td>\n",
       "      <td>-6.600000e-02</td>\n",
       "      <td>0.9</td>\n",
       "      <td>0.9</td>\n",
       "      <td>0.3</td>\n",
       "      <td>0.0</td>\n",
       "      <td>0.0</td>\n",
       "      <td>0.9</td>\n",
       "    </tr>\n",
       "    <tr>\n",
       "      <th>2</th>\n",
       "      <td>0.0</td>\n",
       "      <td>1.1</td>\n",
       "      <td>-1.1</td>\n",
       "      <td>0.0</td>\n",
       "      <td>0.0</td>\n",
       "      <td>0.4</td>\n",
       "      <td>0.4</td>\n",
       "      <td>-1.110223e-15</td>\n",
       "      <td>1.110223e-16</td>\n",
       "      <td>0.0</td>\n",
       "      <td>...</td>\n",
       "      <td>0.0</td>\n",
       "      <td>0.5</td>\n",
       "      <td>25.0</td>\n",
       "      <td>-1.110223e-15</td>\n",
       "      <td>1.1</td>\n",
       "      <td>1.1</td>\n",
       "      <td>0.7</td>\n",
       "      <td>0.0</td>\n",
       "      <td>0.0</td>\n",
       "      <td>1.1</td>\n",
       "    </tr>\n",
       "  </tbody>\n",
       "</table>\n",
       "<p>3 rows × 30 columns</p>\n",
       "</div>"
      ],
      "text/plain": [
       "module_name     load                       renewable              \\\n",
       "module_number      0                               0               \n",
       "field         reward load_met load_current    reward curtailment   \n",
       "0                0.0      1.2         -1.2       0.0         0.0   \n",
       "1                0.0      0.9         -0.9       0.0         0.1   \n",
       "2                0.0      1.1         -1.1       0.0         0.0   \n",
       "\n",
       "module_name                                        balancing                \\\n",
       "module_number                                              0                 \n",
       "field         renewable_used renewable_current        reward     loss_load   \n",
       "0                        0.8               0.8 -4.000000e+00  4.000000e-01   \n",
       "1                        0.6               0.7 -0.000000e+00  0.000000e+00   \n",
       "2                        0.4               0.4 -1.110223e-15  1.110223e-16   \n",
       "\n",
       "module_name                   ...       battery                      \\\n",
       "module_number                 ...             0                       \n",
       "field         overgeneration  ... charge_amount  soc current_charge   \n",
       "0                        0.0  ...           0.0  0.5           25.0   \n",
       "1                        0.0  ...           0.0  0.5           25.0   \n",
       "2                        0.0  ...           0.0  0.5           25.0   \n",
       "\n",
       "module_name         balance                                \\\n",
       "module_number             0                                 \n",
       "field                reward overall_provided_to_microgrid   \n",
       "0             -4.000000e+00                           1.2   \n",
       "1             -6.600000e-02                           0.9   \n",
       "2             -1.110223e-15                           1.1   \n",
       "\n",
       "module_name                                    \\\n",
       "module_number                                   \n",
       "field         overall_absorbed_from_microgrid   \n",
       "0                                         1.2   \n",
       "1                                         0.9   \n",
       "2                                         1.1   \n",
       "\n",
       "module_name                                       \\\n",
       "module_number                                      \n",
       "field         controllable_provided_to_microgrid   \n",
       "0                                            0.0   \n",
       "1                                            0.3   \n",
       "2                                            0.7   \n",
       "\n",
       "module_name                                         \\\n",
       "module_number                                        \n",
       "field         controllable_absorbed_from_microgrid   \n",
       "0                                              0.0   \n",
       "1                                              0.0   \n",
       "2                                              0.0   \n",
       "\n",
       "module_name                                                              \n",
       "module_number                                                            \n",
       "field         fixed_provided_to_microgrid fixed_absorbed_from_microgrid  \n",
       "0                                     0.0                           1.2  \n",
       "1                                     0.0                           0.9  \n",
       "2                                     0.0                           1.1  \n",
       "\n",
       "[3 rows x 30 columns]"
      ]
     },
     "execution_count": 39,
     "metadata": {},
     "output_type": "execute_result"
    }
   ],
   "source": [
    "microgrid.get_log()"
   ]
  },
  {
   "cell_type": "code",
   "execution_count": 41,
   "id": "e17a49c9-30c5-4895-bf43-d488d9711989",
   "metadata": {},
   "outputs": [
    {
     "data": {
      "text/plain": [
       "0"
      ]
     },
     "execution_count": 41,
     "metadata": {},
     "output_type": "execute_result"
    }
   ],
   "source": [
    "microgrid.microgrid.get_forecast_horizon()"
   ]
  },
  {
   "cell_type": "code",
   "execution_count": 37,
   "id": "5d782d41-15ee-4f49-bf23-4a3735e09c23",
   "metadata": {},
   "outputs": [
    {
     "data": {
      "text/plain": [
       "<Axes: >"
      ]
     },
     "execution_count": 37,
     "metadata": {},
     "output_type": "execute_result"
    },
    {
     "data": {
      "image/png": "[encoded data removed]",
      "text/plain": [
       "<Figure size 640x480 with 1 Axes>"
      ]
     },
     "metadata": {},
     "output_type": "display_data"
    }
   ],
   "source": [
    "microgrid.microgrid.log[[('load', 0, 'load_met'),\n",
    "               ('renewable', 0, 'renewable_used'),\n",
    "               ('balancing', 0, 'loss_load')]].droplevel(axis=1, level=1).plot()"
   ]
  },
  {
   "cell_type": "code",
   "execution_count": 45,
   "id": "cd944ed0-3409-4fe5-8235-e465c83875cd",
   "metadata": {},
   "outputs": [
    {
     "ename": "TypeError",
     "evalue": "a bytes-like object is required, not 'str'",
     "output_type": "error",
     "traceback": [
      "\u001b[1;31m---------------------------------------------------------------------------\u001b[0m",
      "\u001b[1;31mTypeError\u001b[0m                                 Traceback (most recent call last)",
      "Cell \u001b[1;32mIn[45], line 3\u001b[0m\n\u001b[0;32m      1\u001b[0m PATH \u001b[38;5;241m=\u001b[39m \u001b[38;5;124m'\u001b[39m\u001b[38;5;124mmicrogrid_dump.yaml\u001b[39m\u001b[38;5;124m'\u001b[39m\n\u001b[0;32m      2\u001b[0m \u001b[38;5;28;01mwith\u001b[39;00m \u001b[38;5;28mopen\u001b[39m(PATH, \u001b[38;5;124m'\u001b[39m\u001b[38;5;124mwb\u001b[39m\u001b[38;5;124m'\u001b[39m) \u001b[38;5;28;01mas\u001b[39;00m f:\n\u001b[1;32m----> 3\u001b[0m     microgrid\u001b[38;5;241m.\u001b[39mmicrogrid\u001b[38;5;241m.\u001b[39mdump(f)\n",
      "File \u001b[1;32mC:\\ProgramData\\anaconda3\\Lib\\site-packages\\pymgrid\\microgrid\\microgrid.py:660\u001b[0m, in \u001b[0;36mMicrogrid.dump\u001b[1;34m(self, stream)\u001b[0m\n\u001b[0;32m    635\u001b[0m \u001b[38;5;28;01mdef\u001b[39;00m \u001b[38;5;21mdump\u001b[39m(\u001b[38;5;28mself\u001b[39m, stream\u001b[38;5;241m=\u001b[39m\u001b[38;5;28;01mNone\u001b[39;00m):\n\u001b[0;32m    636\u001b[0m \u001b[38;5;250m    \u001b[39m\u001b[38;5;124;03m\"\"\"\u001b[39;00m\n\u001b[0;32m    637\u001b[0m \u001b[38;5;124;03m    Save a microgrid to a YAML buffer.\u001b[39;00m\n\u001b[0;32m    638\u001b[0m \n\u001b[1;32m   (...)\u001b[0m\n\u001b[0;32m    658\u001b[0m \n\u001b[0;32m    659\u001b[0m \u001b[38;5;124;03m    \"\"\"\u001b[39;00m\n\u001b[1;32m--> 660\u001b[0m     \u001b[38;5;28;01mreturn\u001b[39;00m yaml\u001b[38;5;241m.\u001b[39msafe_dump(\u001b[38;5;28mself\u001b[39m, stream\u001b[38;5;241m=\u001b[39mstream)\n",
      "File \u001b[1;32mC:\\ProgramData\\anaconda3\\Lib\\site-packages\\yaml\\__init__.py:269\u001b[0m, in \u001b[0;36msafe_dump\u001b[1;34m(data, stream, **kwds)\u001b[0m\n\u001b[0;32m    263\u001b[0m \u001b[38;5;28;01mdef\u001b[39;00m \u001b[38;5;21msafe_dump\u001b[39m(data, stream\u001b[38;5;241m=\u001b[39m\u001b[38;5;28;01mNone\u001b[39;00m, \u001b[38;5;241m*\u001b[39m\u001b[38;5;241m*\u001b[39mkwds):\n\u001b[0;32m    264\u001b[0m \u001b[38;5;250m    \u001b[39m\u001b[38;5;124;03m\"\"\"\u001b[39;00m\n\u001b[0;32m    265\u001b[0m \u001b[38;5;124;03m    Serialize a Python object into a YAML stream.\u001b[39;00m\n\u001b[0;32m    266\u001b[0m \u001b[38;5;124;03m    Produce only basic YAML tags.\u001b[39;00m\n\u001b[0;32m    267\u001b[0m \u001b[38;5;124;03m    If stream is None, return the produced string instead.\u001b[39;00m\n\u001b[0;32m    268\u001b[0m \u001b[38;5;124;03m    \"\"\"\u001b[39;00m\n\u001b[1;32m--> 269\u001b[0m     \u001b[38;5;28;01mreturn\u001b[39;00m dump_all([data], stream, Dumper\u001b[38;5;241m=\u001b[39mSafeDumper, \u001b[38;5;241m*\u001b[39m\u001b[38;5;241m*\u001b[39mkwds)\n",
      "File \u001b[1;32mC:\\ProgramData\\anaconda3\\Lib\\site-packages\\yaml\\__init__.py:241\u001b[0m, in \u001b[0;36mdump_all\u001b[1;34m(documents, stream, Dumper, default_style, default_flow_style, canonical, indent, width, allow_unicode, line_break, encoding, explicit_start, explicit_end, version, tags, sort_keys)\u001b[0m\n\u001b[0;32m    239\u001b[0m     dumper\u001b[38;5;241m.\u001b[39mopen()\n\u001b[0;32m    240\u001b[0m     \u001b[38;5;28;01mfor\u001b[39;00m data \u001b[38;5;129;01min\u001b[39;00m documents:\n\u001b[1;32m--> 241\u001b[0m         dumper\u001b[38;5;241m.\u001b[39mrepresent(data)\n\u001b[0;32m    242\u001b[0m     dumper\u001b[38;5;241m.\u001b[39mclose()\n\u001b[0;32m    243\u001b[0m \u001b[38;5;28;01mfinally\u001b[39;00m:\n",
      "File \u001b[1;32mC:\\ProgramData\\anaconda3\\Lib\\site-packages\\yaml\\representer.py:28\u001b[0m, in \u001b[0;36mBaseRepresenter.represent\u001b[1;34m(self, data)\u001b[0m\n\u001b[0;32m     26\u001b[0m \u001b[38;5;28;01mdef\u001b[39;00m \u001b[38;5;21mrepresent\u001b[39m(\u001b[38;5;28mself\u001b[39m, data):\n\u001b[0;32m     27\u001b[0m     node \u001b[38;5;241m=\u001b[39m \u001b[38;5;28mself\u001b[39m\u001b[38;5;241m.\u001b[39mrepresent_data(data)\n\u001b[1;32m---> 28\u001b[0m     \u001b[38;5;28mself\u001b[39m\u001b[38;5;241m.\u001b[39mserialize(node)\n\u001b[0;32m     29\u001b[0m     \u001b[38;5;28mself\u001b[39m\u001b[38;5;241m.\u001b[39mrepresented_objects \u001b[38;5;241m=\u001b[39m {}\n\u001b[0;32m     30\u001b[0m     \u001b[38;5;28mself\u001b[39m\u001b[38;5;241m.\u001b[39mobject_keeper \u001b[38;5;241m=\u001b[39m []\n",
      "File \u001b[1;32mC:\\ProgramData\\anaconda3\\Lib\\site-packages\\yaml\\serializer.py:54\u001b[0m, in \u001b[0;36mSerializer.serialize\u001b[1;34m(self, node)\u001b[0m\n\u001b[0;32m     51\u001b[0m \u001b[38;5;28mself\u001b[39m\u001b[38;5;241m.\u001b[39memit(DocumentStartEvent(explicit\u001b[38;5;241m=\u001b[39m\u001b[38;5;28mself\u001b[39m\u001b[38;5;241m.\u001b[39muse_explicit_start,\n\u001b[0;32m     52\u001b[0m     version\u001b[38;5;241m=\u001b[39m\u001b[38;5;28mself\u001b[39m\u001b[38;5;241m.\u001b[39muse_version, tags\u001b[38;5;241m=\u001b[39m\u001b[38;5;28mself\u001b[39m\u001b[38;5;241m.\u001b[39muse_tags))\n\u001b[0;32m     53\u001b[0m \u001b[38;5;28mself\u001b[39m\u001b[38;5;241m.\u001b[39manchor_node(node)\n\u001b[1;32m---> 54\u001b[0m \u001b[38;5;28mself\u001b[39m\u001b[38;5;241m.\u001b[39mserialize_node(node, \u001b[38;5;28;01mNone\u001b[39;00m, \u001b[38;5;28;01mNone\u001b[39;00m)\n\u001b[0;32m     55\u001b[0m \u001b[38;5;28mself\u001b[39m\u001b[38;5;241m.\u001b[39memit(DocumentEndEvent(explicit\u001b[38;5;241m=\u001b[39m\u001b[38;5;28mself\u001b[39m\u001b[38;5;241m.\u001b[39muse_explicit_end))\n\u001b[0;32m     56\u001b[0m \u001b[38;5;28mself\u001b[39m\u001b[38;5;241m.\u001b[39mserialized_nodes \u001b[38;5;241m=\u001b[39m {}\n",
      "File \u001b[1;32mC:\\ProgramData\\anaconda3\\Lib\\site-packages\\yaml\\serializer.py:107\u001b[0m, in \u001b[0;36mSerializer.serialize_node\u001b[1;34m(self, node, parent, index)\u001b[0m\n\u001b[0;32m    104\u001b[0m \u001b[38;5;28mself\u001b[39m\u001b[38;5;241m.\u001b[39memit(MappingStartEvent(alias, node\u001b[38;5;241m.\u001b[39mtag, implicit,\n\u001b[0;32m    105\u001b[0m     flow_style\u001b[38;5;241m=\u001b[39mnode\u001b[38;5;241m.\u001b[39mflow_style))\n\u001b[0;32m    106\u001b[0m \u001b[38;5;28;01mfor\u001b[39;00m key, value \u001b[38;5;129;01min\u001b[39;00m node\u001b[38;5;241m.\u001b[39mvalue:\n\u001b[1;32m--> 107\u001b[0m     \u001b[38;5;28mself\u001b[39m\u001b[38;5;241m.\u001b[39mserialize_node(key, node, \u001b[38;5;28;01mNone\u001b[39;00m)\n\u001b[0;32m    108\u001b[0m     \u001b[38;5;28mself\u001b[39m\u001b[38;5;241m.\u001b[39mserialize_node(value, node, key)\n\u001b[0;32m    109\u001b[0m \u001b[38;5;28mself\u001b[39m\u001b[38;5;241m.\u001b[39memit(MappingEndEvent())\n",
      "File \u001b[1;32mC:\\ProgramData\\anaconda3\\Lib\\site-packages\\yaml\\serializer.py:89\u001b[0m, in \u001b[0;36mSerializer.serialize_node\u001b[1;34m(self, node, parent, index)\u001b[0m\n\u001b[0;32m     87\u001b[0m     default_tag \u001b[38;5;241m=\u001b[39m \u001b[38;5;28mself\u001b[39m\u001b[38;5;241m.\u001b[39mresolve(ScalarNode, node\u001b[38;5;241m.\u001b[39mvalue, (\u001b[38;5;28;01mFalse\u001b[39;00m, \u001b[38;5;28;01mTrue\u001b[39;00m))\n\u001b[0;32m     88\u001b[0m     implicit \u001b[38;5;241m=\u001b[39m (node\u001b[38;5;241m.\u001b[39mtag \u001b[38;5;241m==\u001b[39m detected_tag), (node\u001b[38;5;241m.\u001b[39mtag \u001b[38;5;241m==\u001b[39m default_tag)\n\u001b[1;32m---> 89\u001b[0m     \u001b[38;5;28mself\u001b[39m\u001b[38;5;241m.\u001b[39memit(ScalarEvent(alias, node\u001b[38;5;241m.\u001b[39mtag, implicit, node\u001b[38;5;241m.\u001b[39mvalue,\n\u001b[0;32m     90\u001b[0m         style\u001b[38;5;241m=\u001b[39mnode\u001b[38;5;241m.\u001b[39mstyle))\n\u001b[0;32m     91\u001b[0m \u001b[38;5;28;01melif\u001b[39;00m \u001b[38;5;28misinstance\u001b[39m(node, SequenceNode):\n\u001b[0;32m     92\u001b[0m     implicit \u001b[38;5;241m=\u001b[39m (node\u001b[38;5;241m.\u001b[39mtag\n\u001b[0;32m     93\u001b[0m                 \u001b[38;5;241m==\u001b[39m \u001b[38;5;28mself\u001b[39m\u001b[38;5;241m.\u001b[39mresolve(SequenceNode, node\u001b[38;5;241m.\u001b[39mvalue, \u001b[38;5;28;01mTrue\u001b[39;00m))\n",
      "File \u001b[1;32mC:\\ProgramData\\anaconda3\\Lib\\site-packages\\yaml\\emitter.py:115\u001b[0m, in \u001b[0;36mEmitter.emit\u001b[1;34m(self, event)\u001b[0m\n\u001b[0;32m    113\u001b[0m \u001b[38;5;28;01mwhile\u001b[39;00m \u001b[38;5;129;01mnot\u001b[39;00m \u001b[38;5;28mself\u001b[39m\u001b[38;5;241m.\u001b[39mneed_more_events():\n\u001b[0;32m    114\u001b[0m     \u001b[38;5;28mself\u001b[39m\u001b[38;5;241m.\u001b[39mevent \u001b[38;5;241m=\u001b[39m \u001b[38;5;28mself\u001b[39m\u001b[38;5;241m.\u001b[39mevents\u001b[38;5;241m.\u001b[39mpop(\u001b[38;5;241m0\u001b[39m)\n\u001b[1;32m--> 115\u001b[0m     \u001b[38;5;28mself\u001b[39m\u001b[38;5;241m.\u001b[39mstate()\n\u001b[0;32m    116\u001b[0m     \u001b[38;5;28mself\u001b[39m\u001b[38;5;241m.\u001b[39mevent \u001b[38;5;241m=\u001b[39m \u001b[38;5;28;01mNone\u001b[39;00m\n",
      "File \u001b[1;32mC:\\ProgramData\\anaconda3\\Lib\\site-packages\\yaml\\emitter.py:228\u001b[0m, in \u001b[0;36mEmitter.expect_document_root\u001b[1;34m(self)\u001b[0m\n\u001b[0;32m    226\u001b[0m \u001b[38;5;28;01mdef\u001b[39;00m \u001b[38;5;21mexpect_document_root\u001b[39m(\u001b[38;5;28mself\u001b[39m):\n\u001b[0;32m    227\u001b[0m     \u001b[38;5;28mself\u001b[39m\u001b[38;5;241m.\u001b[39mstates\u001b[38;5;241m.\u001b[39mappend(\u001b[38;5;28mself\u001b[39m\u001b[38;5;241m.\u001b[39mexpect_document_end)\n\u001b[1;32m--> 228\u001b[0m     \u001b[38;5;28mself\u001b[39m\u001b[38;5;241m.\u001b[39mexpect_node(root\u001b[38;5;241m=\u001b[39m\u001b[38;5;28;01mTrue\u001b[39;00m)\n",
      "File \u001b[1;32mC:\\ProgramData\\anaconda3\\Lib\\site-packages\\yaml\\emitter.py:242\u001b[0m, in \u001b[0;36mEmitter.expect_node\u001b[1;34m(self, root, sequence, mapping, simple_key)\u001b[0m\n\u001b[0;32m    240\u001b[0m \u001b[38;5;28;01melif\u001b[39;00m \u001b[38;5;28misinstance\u001b[39m(\u001b[38;5;28mself\u001b[39m\u001b[38;5;241m.\u001b[39mevent, (ScalarEvent, CollectionStartEvent)):\n\u001b[0;32m    241\u001b[0m     \u001b[38;5;28mself\u001b[39m\u001b[38;5;241m.\u001b[39mprocess_anchor(\u001b[38;5;124m'\u001b[39m\u001b[38;5;124m&\u001b[39m\u001b[38;5;124m'\u001b[39m)\n\u001b[1;32m--> 242\u001b[0m     \u001b[38;5;28mself\u001b[39m\u001b[38;5;241m.\u001b[39mprocess_tag()\n\u001b[0;32m    243\u001b[0m     \u001b[38;5;28;01mif\u001b[39;00m \u001b[38;5;28misinstance\u001b[39m(\u001b[38;5;28mself\u001b[39m\u001b[38;5;241m.\u001b[39mevent, ScalarEvent):\n\u001b[0;32m    244\u001b[0m         \u001b[38;5;28mself\u001b[39m\u001b[38;5;241m.\u001b[39mexpect_scalar()\n",
      "File \u001b[1;32mC:\\ProgramData\\anaconda3\\Lib\\site-packages\\yaml\\emitter.py:491\u001b[0m, in \u001b[0;36mEmitter.process_tag\u001b[1;34m(self)\u001b[0m\n\u001b[0;32m    489\u001b[0m     \u001b[38;5;28mself\u001b[39m\u001b[38;5;241m.\u001b[39mprepared_tag \u001b[38;5;241m=\u001b[39m \u001b[38;5;28mself\u001b[39m\u001b[38;5;241m.\u001b[39mprepare_tag(tag)\n\u001b[0;32m    490\u001b[0m \u001b[38;5;28;01mif\u001b[39;00m \u001b[38;5;28mself\u001b[39m\u001b[38;5;241m.\u001b[39mprepared_tag:\n\u001b[1;32m--> 491\u001b[0m     \u001b[38;5;28mself\u001b[39m\u001b[38;5;241m.\u001b[39mwrite_indicator(\u001b[38;5;28mself\u001b[39m\u001b[38;5;241m.\u001b[39mprepared_tag, \u001b[38;5;28;01mTrue\u001b[39;00m)\n\u001b[0;32m    492\u001b[0m \u001b[38;5;28mself\u001b[39m\u001b[38;5;241m.\u001b[39mprepared_tag \u001b[38;5;241m=\u001b[39m \u001b[38;5;28;01mNone\u001b[39;00m\n",
      "File \u001b[1;32mC:\\ProgramData\\anaconda3\\Lib\\site-packages\\yaml\\emitter.py:812\u001b[0m, in \u001b[0;36mEmitter.write_indicator\u001b[1;34m(self, indicator, need_whitespace, whitespace, indention)\u001b[0m\n\u001b[0;32m    810\u001b[0m \u001b[38;5;28;01mif\u001b[39;00m \u001b[38;5;28mself\u001b[39m\u001b[38;5;241m.\u001b[39mencoding:\n\u001b[0;32m    811\u001b[0m     data \u001b[38;5;241m=\u001b[39m data\u001b[38;5;241m.\u001b[39mencode(\u001b[38;5;28mself\u001b[39m\u001b[38;5;241m.\u001b[39mencoding)\n\u001b[1;32m--> 812\u001b[0m \u001b[38;5;28mself\u001b[39m\u001b[38;5;241m.\u001b[39mstream\u001b[38;5;241m.\u001b[39mwrite(data)\n",
      "\u001b[1;31mTypeError\u001b[0m: a bytes-like object is required, not 'str'"
     ]
    }
   ],
   "source": [
    "PATH = 'microgrid_dump.yaml'\n",
    "with open(PATH, 'wb') as f:\n",
    "    microgrid.microgrid.dump(f)"
   ]
  }
 ],
 "metadata": {
  "kernelspec": {
   "display_name": "Python (rec)",
   "language": "python",
   "name": "rec"
  },
  "language_info": {
   "codemirror_mode": {
    "name": "ipython",
    "version": 3
   },
   "file_extension": ".py",
   "mimetype": "text/x-python",
   "name": "python",
   "nbconvert_exporter": "python",
   "pygments_lexer": "ipython3",
   "version": "3.12.4"
  }
 },
 "nbformat": 4,
 "nbformat_minor": 5
}
